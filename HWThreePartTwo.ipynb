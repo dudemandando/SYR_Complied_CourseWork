{
  "cells": [
    {
      "cell_type": "markdown",
      "source": [
        "# Constrained Optimization"
      ],
      "metadata": {
        "id": "VY4lZMHNhnUX"
      }
    },
    {
      "cell_type": "code",
      "execution_count": null,
      "metadata": {
        "id": "GXQ9Ap3Qwnts",
        "colab": {
          "base_uri": "https://localhost:8080/",
          "height": 255
        },
        "outputId": "b61ddb4e-f48b-4cec-8eb2-3fe070e00bdb"
      },
      "outputs": [
        {
          "output_type": "stream",
          "name": "stderr",
          "text": [
            "[*********************100%%**********************]  5 of 5 completed\n"
          ]
        },
        {
          "output_type": "execute_result",
          "data": {
            "text/plain": [
              "Ticker          AAPL       GLD      SBUX      TSLA       UAL\n",
              "Date                                                        \n",
              "2019-01-31  0.055154  0.028866  0.058074 -0.077464  0.042279\n",
              "2019-02-28  0.044776 -0.006092  0.036494  0.041886  0.006188\n",
              "2019-03-31  0.097026 -0.015969  0.058070 -0.125109 -0.091447\n",
              "2019-04-30  0.056436 -0.006639  0.044929 -0.147109  0.113813\n",
              "2019-05-31 -0.124213  0.017574 -0.016312 -0.224266 -0.126153"
            ],
            "text/html": [
              "\n",
              "  <div id=\"df-e698249f-afc4-46c7-8b94-629a8d60f3f5\" class=\"colab-df-container\">\n",
              "    <div>\n",
              "<style scoped>\n",
              "    .dataframe tbody tr th:only-of-type {\n",
              "        vertical-align: middle;\n",
              "    }\n",
              "\n",
              "    .dataframe tbody tr th {\n",
              "        vertical-align: top;\n",
              "    }\n",
              "\n",
              "    .dataframe thead th {\n",
              "        text-align: right;\n",
              "    }\n",
              "</style>\n",
              "<table border=\"1\" class=\"dataframe\">\n",
              "  <thead>\n",
              "    <tr style=\"text-align: right;\">\n",
              "      <th>Ticker</th>\n",
              "      <th>AAPL</th>\n",
              "      <th>GLD</th>\n",
              "      <th>SBUX</th>\n",
              "      <th>TSLA</th>\n",
              "      <th>UAL</th>\n",
              "    </tr>\n",
              "    <tr>\n",
              "      <th>Date</th>\n",
              "      <th></th>\n",
              "      <th></th>\n",
              "      <th></th>\n",
              "      <th></th>\n",
              "      <th></th>\n",
              "    </tr>\n",
              "  </thead>\n",
              "  <tbody>\n",
              "    <tr>\n",
              "      <th>2019-01-31</th>\n",
              "      <td>0.055154</td>\n",
              "      <td>0.028866</td>\n",
              "      <td>0.058074</td>\n",
              "      <td>-0.077464</td>\n",
              "      <td>0.042279</td>\n",
              "    </tr>\n",
              "    <tr>\n",
              "      <th>2019-02-28</th>\n",
              "      <td>0.044776</td>\n",
              "      <td>-0.006092</td>\n",
              "      <td>0.036494</td>\n",
              "      <td>0.041886</td>\n",
              "      <td>0.006188</td>\n",
              "    </tr>\n",
              "    <tr>\n",
              "      <th>2019-03-31</th>\n",
              "      <td>0.097026</td>\n",
              "      <td>-0.015969</td>\n",
              "      <td>0.058070</td>\n",
              "      <td>-0.125109</td>\n",
              "      <td>-0.091447</td>\n",
              "    </tr>\n",
              "    <tr>\n",
              "      <th>2019-04-30</th>\n",
              "      <td>0.056436</td>\n",
              "      <td>-0.006639</td>\n",
              "      <td>0.044929</td>\n",
              "      <td>-0.147109</td>\n",
              "      <td>0.113813</td>\n",
              "    </tr>\n",
              "    <tr>\n",
              "      <th>2019-05-31</th>\n",
              "      <td>-0.124213</td>\n",
              "      <td>0.017574</td>\n",
              "      <td>-0.016312</td>\n",
              "      <td>-0.224266</td>\n",
              "      <td>-0.126153</td>\n",
              "    </tr>\n",
              "  </tbody>\n",
              "</table>\n",
              "</div>\n",
              "    <div class=\"colab-df-buttons\">\n",
              "\n",
              "  <div class=\"colab-df-container\">\n",
              "    <button class=\"colab-df-convert\" onclick=\"convertToInteractive('df-e698249f-afc4-46c7-8b94-629a8d60f3f5')\"\n",
              "            title=\"Convert this dataframe to an interactive table.\"\n",
              "            style=\"display:none;\">\n",
              "\n",
              "  <svg xmlns=\"http://www.w3.org/2000/svg\" height=\"24px\" viewBox=\"0 -960 960 960\">\n",
              "    <path d=\"M120-120v-720h720v720H120Zm60-500h600v-160H180v160Zm220 220h160v-160H400v160Zm0 220h160v-160H400v160ZM180-400h160v-160H180v160Zm440 0h160v-160H620v160ZM180-180h160v-160H180v160Zm440 0h160v-160H620v160Z\"/>\n",
              "  </svg>\n",
              "    </button>\n",
              "\n",
              "  <style>\n",
              "    .colab-df-container {\n",
              "      display:flex;\n",
              "      gap: 12px;\n",
              "    }\n",
              "\n",
              "    .colab-df-convert {\n",
              "      background-color: #E8F0FE;\n",
              "      border: none;\n",
              "      border-radius: 50%;\n",
              "      cursor: pointer;\n",
              "      display: none;\n",
              "      fill: #1967D2;\n",
              "      height: 32px;\n",
              "      padding: 0 0 0 0;\n",
              "      width: 32px;\n",
              "    }\n",
              "\n",
              "    .colab-df-convert:hover {\n",
              "      background-color: #E2EBFA;\n",
              "      box-shadow: 0px 1px 2px rgba(60, 64, 67, 0.3), 0px 1px 3px 1px rgba(60, 64, 67, 0.15);\n",
              "      fill: #174EA6;\n",
              "    }\n",
              "\n",
              "    .colab-df-buttons div {\n",
              "      margin-bottom: 4px;\n",
              "    }\n",
              "\n",
              "    [theme=dark] .colab-df-convert {\n",
              "      background-color: #3B4455;\n",
              "      fill: #D2E3FC;\n",
              "    }\n",
              "\n",
              "    [theme=dark] .colab-df-convert:hover {\n",
              "      background-color: #434B5C;\n",
              "      box-shadow: 0px 1px 3px 1px rgba(0, 0, 0, 0.15);\n",
              "      filter: drop-shadow(0px 1px 2px rgba(0, 0, 0, 0.3));\n",
              "      fill: #FFFFFF;\n",
              "    }\n",
              "  </style>\n",
              "\n",
              "    <script>\n",
              "      const buttonEl =\n",
              "        document.querySelector('#df-e698249f-afc4-46c7-8b94-629a8d60f3f5 button.colab-df-convert');\n",
              "      buttonEl.style.display =\n",
              "        google.colab.kernel.accessAllowed ? 'block' : 'none';\n",
              "\n",
              "      async function convertToInteractive(key) {\n",
              "        const element = document.querySelector('#df-e698249f-afc4-46c7-8b94-629a8d60f3f5');\n",
              "        const dataTable =\n",
              "          await google.colab.kernel.invokeFunction('convertToInteractive',\n",
              "                                                    [key], {});\n",
              "        if (!dataTable) return;\n",
              "\n",
              "        const docLinkHtml = 'Like what you see? Visit the ' +\n",
              "          '<a target=\"_blank\" href=https://colab.research.google.com/notebooks/data_table.ipynb>data table notebook</a>'\n",
              "          + ' to learn more about interactive tables.';\n",
              "        element.innerHTML = '';\n",
              "        dataTable['output_type'] = 'display_data';\n",
              "        await google.colab.output.renderOutput(dataTable, element);\n",
              "        const docLink = document.createElement('div');\n",
              "        docLink.innerHTML = docLinkHtml;\n",
              "        element.appendChild(docLink);\n",
              "      }\n",
              "    </script>\n",
              "  </div>\n",
              "\n",
              "\n",
              "<div id=\"df-9beec7a0-0fa7-431e-97e4-73581431713b\">\n",
              "  <button class=\"colab-df-quickchart\" onclick=\"quickchart('df-9beec7a0-0fa7-431e-97e4-73581431713b')\"\n",
              "            title=\"Suggest charts\"\n",
              "            style=\"display:none;\">\n",
              "\n",
              "<svg xmlns=\"http://www.w3.org/2000/svg\" height=\"24px\"viewBox=\"0 0 24 24\"\n",
              "     width=\"24px\">\n",
              "    <g>\n",
              "        <path d=\"M19 3H5c-1.1 0-2 .9-2 2v14c0 1.1.9 2 2 2h14c1.1 0 2-.9 2-2V5c0-1.1-.9-2-2-2zM9 17H7v-7h2v7zm4 0h-2V7h2v10zm4 0h-2v-4h2v4z\"/>\n",
              "    </g>\n",
              "</svg>\n",
              "  </button>\n",
              "\n",
              "<style>\n",
              "  .colab-df-quickchart {\n",
              "      --bg-color: #E8F0FE;\n",
              "      --fill-color: #1967D2;\n",
              "      --hover-bg-color: #E2EBFA;\n",
              "      --hover-fill-color: #174EA6;\n",
              "      --disabled-fill-color: #AAA;\n",
              "      --disabled-bg-color: #DDD;\n",
              "  }\n",
              "\n",
              "  [theme=dark] .colab-df-quickchart {\n",
              "      --bg-color: #3B4455;\n",
              "      --fill-color: #D2E3FC;\n",
              "      --hover-bg-color: #434B5C;\n",
              "      --hover-fill-color: #FFFFFF;\n",
              "      --disabled-bg-color: #3B4455;\n",
              "      --disabled-fill-color: #666;\n",
              "  }\n",
              "\n",
              "  .colab-df-quickchart {\n",
              "    background-color: var(--bg-color);\n",
              "    border: none;\n",
              "    border-radius: 50%;\n",
              "    cursor: pointer;\n",
              "    display: none;\n",
              "    fill: var(--fill-color);\n",
              "    height: 32px;\n",
              "    padding: 0;\n",
              "    width: 32px;\n",
              "  }\n",
              "\n",
              "  .colab-df-quickchart:hover {\n",
              "    background-color: var(--hover-bg-color);\n",
              "    box-shadow: 0 1px 2px rgba(60, 64, 67, 0.3), 0 1px 3px 1px rgba(60, 64, 67, 0.15);\n",
              "    fill: var(--button-hover-fill-color);\n",
              "  }\n",
              "\n",
              "  .colab-df-quickchart-complete:disabled,\n",
              "  .colab-df-quickchart-complete:disabled:hover {\n",
              "    background-color: var(--disabled-bg-color);\n",
              "    fill: var(--disabled-fill-color);\n",
              "    box-shadow: none;\n",
              "  }\n",
              "\n",
              "  .colab-df-spinner {\n",
              "    border: 2px solid var(--fill-color);\n",
              "    border-color: transparent;\n",
              "    border-bottom-color: var(--fill-color);\n",
              "    animation:\n",
              "      spin 1s steps(1) infinite;\n",
              "  }\n",
              "\n",
              "  @keyframes spin {\n",
              "    0% {\n",
              "      border-color: transparent;\n",
              "      border-bottom-color: var(--fill-color);\n",
              "      border-left-color: var(--fill-color);\n",
              "    }\n",
              "    20% {\n",
              "      border-color: transparent;\n",
              "      border-left-color: var(--fill-color);\n",
              "      border-top-color: var(--fill-color);\n",
              "    }\n",
              "    30% {\n",
              "      border-color: transparent;\n",
              "      border-left-color: var(--fill-color);\n",
              "      border-top-color: var(--fill-color);\n",
              "      border-right-color: var(--fill-color);\n",
              "    }\n",
              "    40% {\n",
              "      border-color: transparent;\n",
              "      border-right-color: var(--fill-color);\n",
              "      border-top-color: var(--fill-color);\n",
              "    }\n",
              "    60% {\n",
              "      border-color: transparent;\n",
              "      border-right-color: var(--fill-color);\n",
              "    }\n",
              "    80% {\n",
              "      border-color: transparent;\n",
              "      border-right-color: var(--fill-color);\n",
              "      border-bottom-color: var(--fill-color);\n",
              "    }\n",
              "    90% {\n",
              "      border-color: transparent;\n",
              "      border-bottom-color: var(--fill-color);\n",
              "    }\n",
              "  }\n",
              "</style>\n",
              "\n",
              "  <script>\n",
              "    async function quickchart(key) {\n",
              "      const quickchartButtonEl =\n",
              "        document.querySelector('#' + key + ' button');\n",
              "      quickchartButtonEl.disabled = true;  // To prevent multiple clicks.\n",
              "      quickchartButtonEl.classList.add('colab-df-spinner');\n",
              "      try {\n",
              "        const charts = await google.colab.kernel.invokeFunction(\n",
              "            'suggestCharts', [key], {});\n",
              "      } catch (error) {\n",
              "        console.error('Error during call to suggestCharts:', error);\n",
              "      }\n",
              "      quickchartButtonEl.classList.remove('colab-df-spinner');\n",
              "      quickchartButtonEl.classList.add('colab-df-quickchart-complete');\n",
              "    }\n",
              "    (() => {\n",
              "      let quickchartButtonEl =\n",
              "        document.querySelector('#df-9beec7a0-0fa7-431e-97e4-73581431713b button');\n",
              "      quickchartButtonEl.style.display =\n",
              "        google.colab.kernel.accessAllowed ? 'block' : 'none';\n",
              "    })();\n",
              "  </script>\n",
              "</div>\n",
              "\n",
              "    </div>\n",
              "  </div>\n"
            ],
            "application/vnd.google.colaboratory.intrinsic+json": {
              "type": "dataframe",
              "variable_name": "EGGS",
              "summary": "{\n  \"name\": \"EGGS\",\n  \"rows\": 60,\n  \"fields\": [\n    {\n      \"column\": \"Date\",\n      \"properties\": {\n        \"dtype\": \"date\",\n        \"min\": \"2019-01-31 00:00:00\",\n        \"max\": \"2023-12-31 00:00:00\",\n        \"num_unique_values\": 60,\n        \"samples\": [\n          \"2019-01-31 00:00:00\",\n          \"2019-06-30 00:00:00\",\n          \"2022-01-31 00:00:00\"\n        ],\n        \"semantic_type\": \"\",\n        \"description\": \"\"\n      }\n    },\n    {\n      \"column\": \"AAPL\",\n      \"properties\": {\n        \"dtype\": \"number\",\n        \"std\": 0.08614951143382431,\n        \"min\": -0.12421285065002663,\n        \"max\": 0.21656939511812423,\n        \"num_unique_values\": 60,\n        \"samples\": [\n          0.05515390011891563,\n          0.13051930049493343,\n          -0.015712154376115617\n        ],\n        \"semantic_type\": \"\",\n        \"description\": \"\"\n      }\n    },\n    {\n      \"column\": \"GLD\",\n      \"properties\": {\n        \"dtype\": \"number\",\n        \"std\": 0.04189072049455867,\n        \"min\": -0.07147662098325525,\n        \"max\": 0.10790463097013703,\n        \"num_unique_values\": 60,\n        \"samples\": [\n          0.028865979381443196,\n          0.08002914919848991,\n          -0.016787612677039987\n        ],\n        \"semantic_type\": \"\",\n        \"description\": \"\"\n      }\n    },\n    {\n      \"column\": \"SBUX\",\n      \"properties\": {\n        \"dtype\": \"number\",\n        \"std\": 0.07836925985374613,\n        \"min\": -0.17950982876524824,\n        \"max\": 0.18705817493612487,\n        \"num_unique_values\": 60,\n        \"samples\": [\n          0.05807438940409204,\n          0.10215643668259555,\n          -0.15944270672762184\n        ],\n        \"semantic_type\": \"\",\n        \"description\": \"\"\n      }\n    },\n    {\n      \"column\": \"TSLA\",\n      \"properties\": {\n        \"dtype\": \"number\",\n        \"std\": 0.22145684812083832,\n        \"min\": -0.3673343490707852,\n        \"max\": 0.7414521252787116,\n        \"num_unique_values\": 60,\n        \"samples\": [\n          -0.07746391633639815,\n          0.20684812952665022,\n          -0.11360931817914044\n        ],\n        \"semantic_type\": \"\",\n        \"description\": \"\"\n      }\n    },\n    {\n      \"column\": \"UAL\",\n      \"properties\": {\n        \"dtype\": \"number\",\n        \"std\": 0.14036327750165764,\n        \"min\": -0.48774153013644894,\n        \"max\": 0.3304783941228877,\n        \"num_unique_values\": 60,\n        \"samples\": [\n          0.04227867125529827,\n          0.1274951877828292,\n          -0.020557280408313727\n        ],\n        \"semantic_type\": \"\",\n        \"description\": \"\"\n      }\n    }\n  ]\n}"
            }
          },
          "metadata": {},
          "execution_count": 1
        }
      ],
      "source": [
        "def MONTHLY_RETURN( SYMBOLS , FROM , TO ) :\n",
        "  from yfinance import download\n",
        "  DATA = download( tickers=SYMBOLS , start=FROM , end=TO )\n",
        "  ADJUSTED = DATA[\"Adj Close\"]\n",
        "  return ADJUSTED.resample( rule=\"M\" ).last().pct_change().dropna()\n",
        "\n",
        "EGGS = MONTHLY_RETURN(SYMBOLS=[\"AAPL\",\"UAL\",\"GLD\",\"SBUX\", \"TSLA\" ] , FROM=\"2018-12-31\" , TO=\"2024-01-1\")\n",
        "EGGS.head()"
      ]
    },
    {
      "cell_type": "code",
      "execution_count": null,
      "metadata": {
        "id": "qgq-SFs_ig6Y",
        "colab": {
          "base_uri": "https://localhost:8080/"
        },
        "outputId": "809db9fe-4b5d-4859-c12a-741dcd0324bb"
      },
      "outputs": [
        {
          "output_type": "stream",
          "name": "stdout",
          "text": [
            "Collecting Riskfolio-Lib\n",
            "  Downloading Riskfolio_Lib-6.0.0-cp310-cp310-manylinux_2_17_x86_64.manylinux2014_x86_64.whl (300 kB)\n",
            "\u001b[2K     \u001b[90m━━━━━━━━━━━━━━━━━━━━━━━━━━━━━━━━━━━━━━━━\u001b[0m \u001b[32m301.0/301.0 kB\u001b[0m \u001b[31m1.3 MB/s\u001b[0m eta \u001b[36m0:00:00\u001b[0m\n",
            "\u001b[?25hRequirement already satisfied: numpy>=1.24.0 in /usr/local/lib/python3.10/dist-packages (from Riskfolio-Lib) (1.25.2)\n",
            "Requirement already satisfied: scipy>=1.10.0 in /usr/local/lib/python3.10/dist-packages (from Riskfolio-Lib) (1.11.4)\n",
            "Collecting pandas>=2.0.0 (from Riskfolio-Lib)\n",
            "  Downloading pandas-2.2.1-cp310-cp310-manylinux_2_17_x86_64.manylinux2014_x86_64.whl (13.0 MB)\n",
            "\u001b[2K     \u001b[90m━━━━━━━━━━━━━━━━━━━━━━━━━━━━━━━━━━━━━━━━\u001b[0m \u001b[32m13.0/13.0 MB\u001b[0m \u001b[31m17.5 MB/s\u001b[0m eta \u001b[36m0:00:00\u001b[0m\n",
            "\u001b[?25hRequirement already satisfied: matplotlib>=3.7.0 in /usr/local/lib/python3.10/dist-packages (from Riskfolio-Lib) (3.7.1)\n",
            "Collecting clarabel>=0.6.0 (from Riskfolio-Lib)\n",
            "  Downloading clarabel-0.7.1-cp37-abi3-manylinux_2_17_x86_64.manylinux2014_x86_64.whl (1.3 MB)\n",
            "\u001b[2K     \u001b[90m━━━━━━━━━━━━━━━━━━━━━━━━━━━━━━━━━━━━━━━━\u001b[0m \u001b[32m1.3/1.3 MB\u001b[0m \u001b[31m40.4 MB/s\u001b[0m eta \u001b[36m0:00:00\u001b[0m\n",
            "\u001b[?25hCollecting cvxpy>=1.4.0 (from Riskfolio-Lib)\n",
            "  Downloading cvxpy-1.4.2-cp310-cp310-manylinux_2_17_x86_64.manylinux2014_x86_64.whl (1.2 MB)\n",
            "\u001b[2K     \u001b[90m━━━━━━━━━━━━━━━━━━━━━━━━━━━━━━━━━━━━━━━━\u001b[0m \u001b[32m1.2/1.2 MB\u001b[0m \u001b[31m27.0 MB/s\u001b[0m eta \u001b[36m0:00:00\u001b[0m\n",
            "\u001b[?25hCollecting scikit-learn>=1.3.0 (from Riskfolio-Lib)\n",
            "  Downloading scikit_learn-1.4.1.post1-cp310-cp310-manylinux_2_17_x86_64.manylinux2014_x86_64.whl (12.1 MB)\n",
            "\u001b[2K     \u001b[90m━━━━━━━━━━━━━━━━━━━━━━━━━━━━━━━━━━━━━━━━\u001b[0m \u001b[32m12.1/12.1 MB\u001b[0m \u001b[31m22.4 MB/s\u001b[0m eta \u001b[36m0:00:00\u001b[0m\n",
            "\u001b[?25hRequirement already satisfied: statsmodels>=0.13.5 in /usr/local/lib/python3.10/dist-packages (from Riskfolio-Lib) (0.14.1)\n",
            "Collecting arch>=5.4 (from Riskfolio-Lib)\n",
            "  Downloading arch-6.3.0-cp310-cp310-manylinux_2_17_x86_64.manylinux2014_x86_64.whl (982 kB)\n",
            "\u001b[2K     \u001b[90m━━━━━━━━━━━━━━━━━━━━━━━━━━━━━━━━━━━━━━━━\u001b[0m \u001b[32m983.0/983.0 kB\u001b[0m \u001b[31m26.5 MB/s\u001b[0m eta \u001b[36m0:00:00\u001b[0m\n",
            "\u001b[?25hCollecting xlsxwriter>=3.1.2 (from Riskfolio-Lib)\n",
            "  Downloading XlsxWriter-3.2.0-py3-none-any.whl (159 kB)\n",
            "\u001b[2K     \u001b[90m━━━━━━━━━━━━━━━━━━━━━━━━━━━━━━━━━━━━━━━━\u001b[0m \u001b[32m159.9/159.9 kB\u001b[0m \u001b[31m7.5 MB/s\u001b[0m eta \u001b[36m0:00:00\u001b[0m\n",
            "\u001b[?25hRequirement already satisfied: networkx>=3.0 in /usr/local/lib/python3.10/dist-packages (from Riskfolio-Lib) (3.2.1)\n",
            "Requirement already satisfied: astropy>=5.1 in /usr/local/lib/python3.10/dist-packages (from Riskfolio-Lib) (5.3.4)\n",
            "Collecting pybind11>=2.10.1 (from Riskfolio-Lib)\n",
            "  Downloading pybind11-2.12.0-py3-none-any.whl (234 kB)\n",
            "\u001b[2K     \u001b[90m━━━━━━━━━━━━━━━━━━━━━━━━━━━━━━━━━━━━━━━━\u001b[0m \u001b[32m235.0/235.0 kB\u001b[0m \u001b[31m4.3 MB/s\u001b[0m eta \u001b[36m0:00:00\u001b[0m\n",
            "\u001b[?25hRequirement already satisfied: pyerfa>=2.0 in /usr/local/lib/python3.10/dist-packages (from astropy>=5.1->Riskfolio-Lib) (2.0.1.1)\n",
            "Requirement already satisfied: PyYAML>=3.13 in /usr/local/lib/python3.10/dist-packages (from astropy>=5.1->Riskfolio-Lib) (6.0.1)\n",
            "Requirement already satisfied: packaging>=19.0 in /usr/local/lib/python3.10/dist-packages (from astropy>=5.1->Riskfolio-Lib) (24.0)\n",
            "Requirement already satisfied: osqp>=0.6.2 in /usr/local/lib/python3.10/dist-packages (from cvxpy>=1.4.0->Riskfolio-Lib) (0.6.2.post8)\n",
            "Requirement already satisfied: ecos>=2 in /usr/local/lib/python3.10/dist-packages (from cvxpy>=1.4.0->Riskfolio-Lib) (2.0.13)\n",
            "Requirement already satisfied: scs>=3.0 in /usr/local/lib/python3.10/dist-packages (from cvxpy>=1.4.0->Riskfolio-Lib) (3.2.4.post1)\n",
            "Requirement already satisfied: contourpy>=1.0.1 in /usr/local/lib/python3.10/dist-packages (from matplotlib>=3.7.0->Riskfolio-Lib) (1.2.0)\n",
            "Requirement already satisfied: cycler>=0.10 in /usr/local/lib/python3.10/dist-packages (from matplotlib>=3.7.0->Riskfolio-Lib) (0.12.1)\n",
            "Requirement already satisfied: fonttools>=4.22.0 in /usr/local/lib/python3.10/dist-packages (from matplotlib>=3.7.0->Riskfolio-Lib) (4.50.0)\n",
            "Requirement already satisfied: kiwisolver>=1.0.1 in /usr/local/lib/python3.10/dist-packages (from matplotlib>=3.7.0->Riskfolio-Lib) (1.4.5)\n",
            "Requirement already satisfied: pillow>=6.2.0 in /usr/local/lib/python3.10/dist-packages (from matplotlib>=3.7.0->Riskfolio-Lib) (9.4.0)\n",
            "Requirement already satisfied: pyparsing>=2.3.1 in /usr/local/lib/python3.10/dist-packages (from matplotlib>=3.7.0->Riskfolio-Lib) (3.1.2)\n",
            "Requirement already satisfied: python-dateutil>=2.7 in /usr/local/lib/python3.10/dist-packages (from matplotlib>=3.7.0->Riskfolio-Lib) (2.8.2)\n",
            "Requirement already satisfied: pytz>=2020.1 in /usr/local/lib/python3.10/dist-packages (from pandas>=2.0.0->Riskfolio-Lib) (2023.4)\n",
            "Collecting tzdata>=2022.7 (from pandas>=2.0.0->Riskfolio-Lib)\n",
            "  Downloading tzdata-2024.1-py2.py3-none-any.whl (345 kB)\n",
            "\u001b[2K     \u001b[90m━━━━━━━━━━━━━━━━━━━━━━━━━━━━━━━━━━━━━━━━\u001b[0m \u001b[32m345.4/345.4 kB\u001b[0m \u001b[31m14.2 MB/s\u001b[0m eta \u001b[36m0:00:00\u001b[0m\n",
            "\u001b[?25hRequirement already satisfied: joblib>=1.2.0 in /usr/local/lib/python3.10/dist-packages (from scikit-learn>=1.3.0->Riskfolio-Lib) (1.3.2)\n",
            "Requirement already satisfied: threadpoolctl>=2.0.0 in /usr/local/lib/python3.10/dist-packages (from scikit-learn>=1.3.0->Riskfolio-Lib) (3.4.0)\n",
            "Requirement already satisfied: patsy>=0.5.4 in /usr/local/lib/python3.10/dist-packages (from statsmodels>=0.13.5->Riskfolio-Lib) (0.5.6)\n",
            "Requirement already satisfied: qdldl in /usr/local/lib/python3.10/dist-packages (from osqp>=0.6.2->cvxpy>=1.4.0->Riskfolio-Lib) (0.1.7.post0)\n",
            "Requirement already satisfied: six in /usr/local/lib/python3.10/dist-packages (from patsy>=0.5.4->statsmodels>=0.13.5->Riskfolio-Lib) (1.16.0)\n",
            "Installing collected packages: xlsxwriter, tzdata, pybind11, scikit-learn, pandas, clarabel, cvxpy, arch, Riskfolio-Lib\n",
            "  Attempting uninstall: scikit-learn\n",
            "    Found existing installation: scikit-learn 1.2.2\n",
            "    Uninstalling scikit-learn-1.2.2:\n",
            "      Successfully uninstalled scikit-learn-1.2.2\n",
            "  Attempting uninstall: pandas\n",
            "    Found existing installation: pandas 1.5.3\n",
            "    Uninstalling pandas-1.5.3:\n",
            "      Successfully uninstalled pandas-1.5.3\n",
            "  Attempting uninstall: cvxpy\n",
            "    Found existing installation: cvxpy 1.3.3\n",
            "    Uninstalling cvxpy-1.3.3:\n",
            "      Successfully uninstalled cvxpy-1.3.3\n",
            "\u001b[31mERROR: pip's dependency resolver does not currently take into account all the packages that are installed. This behaviour is the source of the following dependency conflicts.\n",
            "google-colab 1.0.0 requires pandas==1.5.3, but you have pandas 2.2.1 which is incompatible.\u001b[0m\u001b[31m\n",
            "\u001b[0mSuccessfully installed Riskfolio-Lib-6.0.0 arch-6.3.0 clarabel-0.7.1 cvxpy-1.4.2 pandas-2.2.1 pybind11-2.12.0 scikit-learn-1.4.1.post1 tzdata-2024.1 xlsxwriter-3.2.0\n"
          ]
        }
      ],
      "source": [
        "!pip install Riskfolio-Lib\n",
        "import riskfolio as rf"
      ]
    },
    {
      "cell_type": "code",
      "execution_count": null,
      "metadata": {
        "id": "EWNvq0xrxS8a",
        "colab": {
          "base_uri": "https://localhost:8080/",
          "height": 206
        },
        "outputId": "94d50192-a97d-4a7b-c5ab-39728b314962"
      },
      "outputs": [
        {
          "output_type": "execute_result",
          "data": {
            "text/plain": [
              "      weights\n",
              "AAPL   0.0210\n",
              "GLD    0.8415\n",
              "SBUX   0.0436\n",
              "TSLA   0.0000\n",
              "UAL    0.0938"
            ],
            "text/html": [
              "\n",
              "  <div id=\"df-12a9182a-f644-48d1-9e62-5d872b58ab26\" class=\"colab-df-container\">\n",
              "    <div>\n",
              "<style scoped>\n",
              "    .dataframe tbody tr th:only-of-type {\n",
              "        vertical-align: middle;\n",
              "    }\n",
              "\n",
              "    .dataframe tbody tr th {\n",
              "        vertical-align: top;\n",
              "    }\n",
              "\n",
              "    .dataframe thead th {\n",
              "        text-align: right;\n",
              "    }\n",
              "</style>\n",
              "<table border=\"1\" class=\"dataframe\">\n",
              "  <thead>\n",
              "    <tr style=\"text-align: right;\">\n",
              "      <th></th>\n",
              "      <th>weights</th>\n",
              "    </tr>\n",
              "  </thead>\n",
              "  <tbody>\n",
              "    <tr>\n",
              "      <th>AAPL</th>\n",
              "      <td>0.0210</td>\n",
              "    </tr>\n",
              "    <tr>\n",
              "      <th>GLD</th>\n",
              "      <td>0.8415</td>\n",
              "    </tr>\n",
              "    <tr>\n",
              "      <th>SBUX</th>\n",
              "      <td>0.0436</td>\n",
              "    </tr>\n",
              "    <tr>\n",
              "      <th>TSLA</th>\n",
              "      <td>0.0000</td>\n",
              "    </tr>\n",
              "    <tr>\n",
              "      <th>UAL</th>\n",
              "      <td>0.0938</td>\n",
              "    </tr>\n",
              "  </tbody>\n",
              "</table>\n",
              "</div>\n",
              "    <div class=\"colab-df-buttons\">\n",
              "\n",
              "  <div class=\"colab-df-container\">\n",
              "    <button class=\"colab-df-convert\" onclick=\"convertToInteractive('df-12a9182a-f644-48d1-9e62-5d872b58ab26')\"\n",
              "            title=\"Convert this dataframe to an interactive table.\"\n",
              "            style=\"display:none;\">\n",
              "\n",
              "  <svg xmlns=\"http://www.w3.org/2000/svg\" height=\"24px\" viewBox=\"0 -960 960 960\">\n",
              "    <path d=\"M120-120v-720h720v720H120Zm60-500h600v-160H180v160Zm220 220h160v-160H400v160Zm0 220h160v-160H400v160ZM180-400h160v-160H180v160Zm440 0h160v-160H620v160ZM180-180h160v-160H180v160Zm440 0h160v-160H620v160Z\"/>\n",
              "  </svg>\n",
              "    </button>\n",
              "\n",
              "  <style>\n",
              "    .colab-df-container {\n",
              "      display:flex;\n",
              "      gap: 12px;\n",
              "    }\n",
              "\n",
              "    .colab-df-convert {\n",
              "      background-color: #E8F0FE;\n",
              "      border: none;\n",
              "      border-radius: 50%;\n",
              "      cursor: pointer;\n",
              "      display: none;\n",
              "      fill: #1967D2;\n",
              "      height: 32px;\n",
              "      padding: 0 0 0 0;\n",
              "      width: 32px;\n",
              "    }\n",
              "\n",
              "    .colab-df-convert:hover {\n",
              "      background-color: #E2EBFA;\n",
              "      box-shadow: 0px 1px 2px rgba(60, 64, 67, 0.3), 0px 1px 3px 1px rgba(60, 64, 67, 0.15);\n",
              "      fill: #174EA6;\n",
              "    }\n",
              "\n",
              "    .colab-df-buttons div {\n",
              "      margin-bottom: 4px;\n",
              "    }\n",
              "\n",
              "    [theme=dark] .colab-df-convert {\n",
              "      background-color: #3B4455;\n",
              "      fill: #D2E3FC;\n",
              "    }\n",
              "\n",
              "    [theme=dark] .colab-df-convert:hover {\n",
              "      background-color: #434B5C;\n",
              "      box-shadow: 0px 1px 3px 1px rgba(0, 0, 0, 0.15);\n",
              "      filter: drop-shadow(0px 1px 2px rgba(0, 0, 0, 0.3));\n",
              "      fill: #FFFFFF;\n",
              "    }\n",
              "  </style>\n",
              "\n",
              "    <script>\n",
              "      const buttonEl =\n",
              "        document.querySelector('#df-12a9182a-f644-48d1-9e62-5d872b58ab26 button.colab-df-convert');\n",
              "      buttonEl.style.display =\n",
              "        google.colab.kernel.accessAllowed ? 'block' : 'none';\n",
              "\n",
              "      async function convertToInteractive(key) {\n",
              "        const element = document.querySelector('#df-12a9182a-f644-48d1-9e62-5d872b58ab26');\n",
              "        const dataTable =\n",
              "          await google.colab.kernel.invokeFunction('convertToInteractive',\n",
              "                                                    [key], {});\n",
              "        if (!dataTable) return;\n",
              "\n",
              "        const docLinkHtml = 'Like what you see? Visit the ' +\n",
              "          '<a target=\"_blank\" href=https://colab.research.google.com/notebooks/data_table.ipynb>data table notebook</a>'\n",
              "          + ' to learn more about interactive tables.';\n",
              "        element.innerHTML = '';\n",
              "        dataTable['output_type'] = 'display_data';\n",
              "        await google.colab.output.renderOutput(dataTable, element);\n",
              "        const docLink = document.createElement('div');\n",
              "        docLink.innerHTML = docLinkHtml;\n",
              "        element.appendChild(docLink);\n",
              "      }\n",
              "    </script>\n",
              "  </div>\n",
              "\n",
              "\n",
              "<div id=\"df-94c01be5-97b4-4950-821c-0da4d8dc6c2d\">\n",
              "  <button class=\"colab-df-quickchart\" onclick=\"quickchart('df-94c01be5-97b4-4950-821c-0da4d8dc6c2d')\"\n",
              "            title=\"Suggest charts\"\n",
              "            style=\"display:none;\">\n",
              "\n",
              "<svg xmlns=\"http://www.w3.org/2000/svg\" height=\"24px\"viewBox=\"0 0 24 24\"\n",
              "     width=\"24px\">\n",
              "    <g>\n",
              "        <path d=\"M19 3H5c-1.1 0-2 .9-2 2v14c0 1.1.9 2 2 2h14c1.1 0 2-.9 2-2V5c0-1.1-.9-2-2-2zM9 17H7v-7h2v7zm4 0h-2V7h2v10zm4 0h-2v-4h2v4z\"/>\n",
              "    </g>\n",
              "</svg>\n",
              "  </button>\n",
              "\n",
              "<style>\n",
              "  .colab-df-quickchart {\n",
              "      --bg-color: #E8F0FE;\n",
              "      --fill-color: #1967D2;\n",
              "      --hover-bg-color: #E2EBFA;\n",
              "      --hover-fill-color: #174EA6;\n",
              "      --disabled-fill-color: #AAA;\n",
              "      --disabled-bg-color: #DDD;\n",
              "  }\n",
              "\n",
              "  [theme=dark] .colab-df-quickchart {\n",
              "      --bg-color: #3B4455;\n",
              "      --fill-color: #D2E3FC;\n",
              "      --hover-bg-color: #434B5C;\n",
              "      --hover-fill-color: #FFFFFF;\n",
              "      --disabled-bg-color: #3B4455;\n",
              "      --disabled-fill-color: #666;\n",
              "  }\n",
              "\n",
              "  .colab-df-quickchart {\n",
              "    background-color: var(--bg-color);\n",
              "    border: none;\n",
              "    border-radius: 50%;\n",
              "    cursor: pointer;\n",
              "    display: none;\n",
              "    fill: var(--fill-color);\n",
              "    height: 32px;\n",
              "    padding: 0;\n",
              "    width: 32px;\n",
              "  }\n",
              "\n",
              "  .colab-df-quickchart:hover {\n",
              "    background-color: var(--hover-bg-color);\n",
              "    box-shadow: 0 1px 2px rgba(60, 64, 67, 0.3), 0 1px 3px 1px rgba(60, 64, 67, 0.15);\n",
              "    fill: var(--button-hover-fill-color);\n",
              "  }\n",
              "\n",
              "  .colab-df-quickchart-complete:disabled,\n",
              "  .colab-df-quickchart-complete:disabled:hover {\n",
              "    background-color: var(--disabled-bg-color);\n",
              "    fill: var(--disabled-fill-color);\n",
              "    box-shadow: none;\n",
              "  }\n",
              "\n",
              "  .colab-df-spinner {\n",
              "    border: 2px solid var(--fill-color);\n",
              "    border-color: transparent;\n",
              "    border-bottom-color: var(--fill-color);\n",
              "    animation:\n",
              "      spin 1s steps(1) infinite;\n",
              "  }\n",
              "\n",
              "  @keyframes spin {\n",
              "    0% {\n",
              "      border-color: transparent;\n",
              "      border-bottom-color: var(--fill-color);\n",
              "      border-left-color: var(--fill-color);\n",
              "    }\n",
              "    20% {\n",
              "      border-color: transparent;\n",
              "      border-left-color: var(--fill-color);\n",
              "      border-top-color: var(--fill-color);\n",
              "    }\n",
              "    30% {\n",
              "      border-color: transparent;\n",
              "      border-left-color: var(--fill-color);\n",
              "      border-top-color: var(--fill-color);\n",
              "      border-right-color: var(--fill-color);\n",
              "    }\n",
              "    40% {\n",
              "      border-color: transparent;\n",
              "      border-right-color: var(--fill-color);\n",
              "      border-top-color: var(--fill-color);\n",
              "    }\n",
              "    60% {\n",
              "      border-color: transparent;\n",
              "      border-right-color: var(--fill-color);\n",
              "    }\n",
              "    80% {\n",
              "      border-color: transparent;\n",
              "      border-right-color: var(--fill-color);\n",
              "      border-bottom-color: var(--fill-color);\n",
              "    }\n",
              "    90% {\n",
              "      border-color: transparent;\n",
              "      border-bottom-color: var(--fill-color);\n",
              "    }\n",
              "  }\n",
              "</style>\n",
              "\n",
              "  <script>\n",
              "    async function quickchart(key) {\n",
              "      const quickchartButtonEl =\n",
              "        document.querySelector('#' + key + ' button');\n",
              "      quickchartButtonEl.disabled = true;  // To prevent multiple clicks.\n",
              "      quickchartButtonEl.classList.add('colab-df-spinner');\n",
              "      try {\n",
              "        const charts = await google.colab.kernel.invokeFunction(\n",
              "            'suggestCharts', [key], {});\n",
              "      } catch (error) {\n",
              "        console.error('Error during call to suggestCharts:', error);\n",
              "      }\n",
              "      quickchartButtonEl.classList.remove('colab-df-spinner');\n",
              "      quickchartButtonEl.classList.add('colab-df-quickchart-complete');\n",
              "    }\n",
              "    (() => {\n",
              "      let quickchartButtonEl =\n",
              "        document.querySelector('#df-94c01be5-97b4-4950-821c-0da4d8dc6c2d button');\n",
              "      quickchartButtonEl.style.display =\n",
              "        google.colab.kernel.accessAllowed ? 'block' : 'none';\n",
              "    })();\n",
              "  </script>\n",
              "</div>\n",
              "\n",
              "    </div>\n",
              "  </div>\n"
            ],
            "application/vnd.google.colaboratory.intrinsic+json": {
              "type": "dataframe",
              "summary": "{\n  \"name\": \"round( SAFEST , 4 )\",\n  \"rows\": 5,\n  \"fields\": [\n    {\n      \"column\": \"weights\",\n      \"properties\": {\n        \"dtype\": \"number\",\n        \"std\": 0.3603132831301117,\n        \"min\": 0.0,\n        \"max\": 0.8415,\n        \"num_unique_values\": 5,\n        \"samples\": [\n          0.8415,\n          0.0938,\n          0.0436\n        ],\n        \"semantic_type\": \"\",\n        \"description\": \"\"\n      }\n    }\n  ]\n}"
            }
          },
          "metadata": {},
          "execution_count": 3
        }
      ],
      "source": [
        "OBJECT = rf.Portfolio(returns=EGGS)\n",
        "OBJECT.assets_stats()\n",
        "SAFEST = OBJECT.optimization(rm=\"MV\" , obj=\"MinRisk\", rf=0.0015)\n",
        "round( SAFEST , 4 )"
      ]
    },
    {
      "cell_type": "code",
      "source": [
        "from numpy import *\n"
      ],
      "metadata": {
        "id": "gkjbLxMqeZsh"
      },
      "execution_count": null,
      "outputs": []
    },
    {
      "cell_type": "markdown",
      "source": [
        "# **Constraint for All Assets**"
      ],
      "metadata": {
        "id": "Ln5degwqG6l1"
      }
    },
    {
      "cell_type": "code",
      "source": [
        "A_BOTTOM = identity(n=5) * (-1)\n",
        "A_BOTTOM"
      ],
      "metadata": {
        "colab": {
          "base_uri": "https://localhost:8080/"
        },
        "id": "ksHUbFWBGE68",
        "outputId": "6099fb37-fbf9-405f-8769-9e129391d1e1"
      },
      "execution_count": null,
      "outputs": [
        {
          "output_type": "execute_result",
          "data": {
            "text/plain": [
              "array([[-1., -0., -0., -0., -0.],\n",
              "       [-0., -1., -0., -0., -0.],\n",
              "       [-0., -0., -1., -0., -0.],\n",
              "       [-0., -0., -0., -1., -0.],\n",
              "       [-0., -0., -0., -0., -1.]])"
            ]
          },
          "metadata": {},
          "execution_count": 5
        }
      ]
    },
    {
      "cell_type": "code",
      "source": [
        "B_BOTTOM = full(shape=[5,1], fill_value=-0.35)\n",
        "B_BOTTOM"
      ],
      "metadata": {
        "colab": {
          "base_uri": "https://localhost:8080/"
        },
        "id": "nMvqnBUEGKMN",
        "outputId": "258c53b6-f466-40b4-f960-f1ca19c81af6"
      },
      "execution_count": null,
      "outputs": [
        {
          "output_type": "execute_result",
          "data": {
            "text/plain": [
              "array([[-0.35],\n",
              "       [-0.35],\n",
              "       [-0.35],\n",
              "       [-0.35],\n",
              "       [-0.35]])"
            ]
          },
          "metadata": {},
          "execution_count": 6
        }
      ]
    },
    {
      "cell_type": "code",
      "source": [
        "OBJECT = rf.Portfolio(returns=EGGS, ainequality= A_BOTTOM, binequality=B_BOTTOM, sht=True)\n",
        "OBJECT.upperlng = 1.2\n",
        "OBJECT.assets_stats()\n",
        "SAFEST = OBJECT.optimization(rm=\"MV\" , obj=\"MinRisk\")\n",
        "print(round(SAFEST,7))\n",
        "print(\"    \")\n",
        "print(round(SAFEST,7)* 100)"
      ],
      "metadata": {
        "colab": {
          "base_uri": "https://localhost:8080/"
        },
        "id": "H_7sFcB8GpL-",
        "outputId": "bdeca926-f7b3-4d9c-c013-d681de5108df"
      },
      "execution_count": null,
      "outputs": [
        {
          "output_type": "stream",
          "name": "stdout",
          "text": [
            "       weights\n",
            "AAPL  0.350000\n",
            "GLD   0.350000\n",
            "SBUX  0.296413\n",
            "TSLA -0.076906\n",
            "UAL   0.080492\n",
            "    \n",
            "       weights\n",
            "AAPL  35.00000\n",
            "GLD   35.00000\n",
            "SBUX  29.64134\n",
            "TSLA  -7.69057\n",
            "UAL    8.04923\n"
          ]
        }
      ]
    },
    {
      "cell_type": "code",
      "source": [
        " 0.080492 * 30000\n"
      ],
      "metadata": {
        "colab": {
          "base_uri": "https://localhost:8080/"
        },
        "id": "21fsfqBxPxzO",
        "outputId": "4fa53ae6-9eb3-4a43-b72b-d416d6e2f343"
      },
      "execution_count": null,
      "outputs": [
        {
          "output_type": "execute_result",
          "data": {
            "text/plain": [
              "2414.7599999999998"
            ]
          },
          "metadata": {},
          "execution_count": 8
        }
      ]
    },
    {
      "cell_type": "code",
      "source": [
        "EGGS = MONTHLY_RETURN(SYMBOLS=[\"AAPL\",\"DAL\",\"GLD\",\"SBUX\", \"TSLA\" ] , FROM=\"2018-12-31\" , TO=\"2024-01-1\")\n",
        "EGGS.head()"
      ],
      "metadata": {
        "colab": {
          "base_uri": "https://localhost:8080/",
          "height": 255
        },
        "id": "PnBwu-qrQ03o",
        "outputId": "8555c8de-e3a5-4aae-d905-ec72bc0eb8ae"
      },
      "execution_count": null,
      "outputs": [
        {
          "output_type": "stream",
          "name": "stderr",
          "text": [
            "[*********************100%%**********************]  5 of 5 completed\n"
          ]
        },
        {
          "output_type": "execute_result",
          "data": {
            "text/plain": [
              "Ticker          AAPL       DAL       GLD      SBUX      TSLA\n",
              "Date                                                        \n",
              "2019-01-31  0.055154 -0.009419  0.028866  0.058074 -0.077464\n",
              "2019-02-28  0.044776  0.010045 -0.006092  0.036494  0.041886\n",
              "2019-03-31  0.097026  0.041751 -0.015969  0.058070 -0.125109\n",
              "2019-04-30  0.056436  0.128558 -0.006639  0.044929 -0.147109\n",
              "2019-05-31 -0.124213 -0.111150  0.017574 -0.016312 -0.224266"
            ],
            "text/html": [
              "\n",
              "  <div id=\"df-7d05716c-3279-4ead-8de2-329158ab8060\" class=\"colab-df-container\">\n",
              "    <div>\n",
              "<style scoped>\n",
              "    .dataframe tbody tr th:only-of-type {\n",
              "        vertical-align: middle;\n",
              "    }\n",
              "\n",
              "    .dataframe tbody tr th {\n",
              "        vertical-align: top;\n",
              "    }\n",
              "\n",
              "    .dataframe thead th {\n",
              "        text-align: right;\n",
              "    }\n",
              "</style>\n",
              "<table border=\"1\" class=\"dataframe\">\n",
              "  <thead>\n",
              "    <tr style=\"text-align: right;\">\n",
              "      <th>Ticker</th>\n",
              "      <th>AAPL</th>\n",
              "      <th>DAL</th>\n",
              "      <th>GLD</th>\n",
              "      <th>SBUX</th>\n",
              "      <th>TSLA</th>\n",
              "    </tr>\n",
              "    <tr>\n",
              "      <th>Date</th>\n",
              "      <th></th>\n",
              "      <th></th>\n",
              "      <th></th>\n",
              "      <th></th>\n",
              "      <th></th>\n",
              "    </tr>\n",
              "  </thead>\n",
              "  <tbody>\n",
              "    <tr>\n",
              "      <th>2019-01-31</th>\n",
              "      <td>0.055154</td>\n",
              "      <td>-0.009419</td>\n",
              "      <td>0.028866</td>\n",
              "      <td>0.058074</td>\n",
              "      <td>-0.077464</td>\n",
              "    </tr>\n",
              "    <tr>\n",
              "      <th>2019-02-28</th>\n",
              "      <td>0.044776</td>\n",
              "      <td>0.010045</td>\n",
              "      <td>-0.006092</td>\n",
              "      <td>0.036494</td>\n",
              "      <td>0.041886</td>\n",
              "    </tr>\n",
              "    <tr>\n",
              "      <th>2019-03-31</th>\n",
              "      <td>0.097026</td>\n",
              "      <td>0.041751</td>\n",
              "      <td>-0.015969</td>\n",
              "      <td>0.058070</td>\n",
              "      <td>-0.125109</td>\n",
              "    </tr>\n",
              "    <tr>\n",
              "      <th>2019-04-30</th>\n",
              "      <td>0.056436</td>\n",
              "      <td>0.128558</td>\n",
              "      <td>-0.006639</td>\n",
              "      <td>0.044929</td>\n",
              "      <td>-0.147109</td>\n",
              "    </tr>\n",
              "    <tr>\n",
              "      <th>2019-05-31</th>\n",
              "      <td>-0.124213</td>\n",
              "      <td>-0.111150</td>\n",
              "      <td>0.017574</td>\n",
              "      <td>-0.016312</td>\n",
              "      <td>-0.224266</td>\n",
              "    </tr>\n",
              "  </tbody>\n",
              "</table>\n",
              "</div>\n",
              "    <div class=\"colab-df-buttons\">\n",
              "\n",
              "  <div class=\"colab-df-container\">\n",
              "    <button class=\"colab-df-convert\" onclick=\"convertToInteractive('df-7d05716c-3279-4ead-8de2-329158ab8060')\"\n",
              "            title=\"Convert this dataframe to an interactive table.\"\n",
              "            style=\"display:none;\">\n",
              "\n",
              "  <svg xmlns=\"http://www.w3.org/2000/svg\" height=\"24px\" viewBox=\"0 -960 960 960\">\n",
              "    <path d=\"M120-120v-720h720v720H120Zm60-500h600v-160H180v160Zm220 220h160v-160H400v160Zm0 220h160v-160H400v160ZM180-400h160v-160H180v160Zm440 0h160v-160H620v160ZM180-180h160v-160H180v160Zm440 0h160v-160H620v160Z\"/>\n",
              "  </svg>\n",
              "    </button>\n",
              "\n",
              "  <style>\n",
              "    .colab-df-container {\n",
              "      display:flex;\n",
              "      gap: 12px;\n",
              "    }\n",
              "\n",
              "    .colab-df-convert {\n",
              "      background-color: #E8F0FE;\n",
              "      border: none;\n",
              "      border-radius: 50%;\n",
              "      cursor: pointer;\n",
              "      display: none;\n",
              "      fill: #1967D2;\n",
              "      height: 32px;\n",
              "      padding: 0 0 0 0;\n",
              "      width: 32px;\n",
              "    }\n",
              "\n",
              "    .colab-df-convert:hover {\n",
              "      background-color: #E2EBFA;\n",
              "      box-shadow: 0px 1px 2px rgba(60, 64, 67, 0.3), 0px 1px 3px 1px rgba(60, 64, 67, 0.15);\n",
              "      fill: #174EA6;\n",
              "    }\n",
              "\n",
              "    .colab-df-buttons div {\n",
              "      margin-bottom: 4px;\n",
              "    }\n",
              "\n",
              "    [theme=dark] .colab-df-convert {\n",
              "      background-color: #3B4455;\n",
              "      fill: #D2E3FC;\n",
              "    }\n",
              "\n",
              "    [theme=dark] .colab-df-convert:hover {\n",
              "      background-color: #434B5C;\n",
              "      box-shadow: 0px 1px 3px 1px rgba(0, 0, 0, 0.15);\n",
              "      filter: drop-shadow(0px 1px 2px rgba(0, 0, 0, 0.3));\n",
              "      fill: #FFFFFF;\n",
              "    }\n",
              "  </style>\n",
              "\n",
              "    <script>\n",
              "      const buttonEl =\n",
              "        document.querySelector('#df-7d05716c-3279-4ead-8de2-329158ab8060 button.colab-df-convert');\n",
              "      buttonEl.style.display =\n",
              "        google.colab.kernel.accessAllowed ? 'block' : 'none';\n",
              "\n",
              "      async function convertToInteractive(key) {\n",
              "        const element = document.querySelector('#df-7d05716c-3279-4ead-8de2-329158ab8060');\n",
              "        const dataTable =\n",
              "          await google.colab.kernel.invokeFunction('convertToInteractive',\n",
              "                                                    [key], {});\n",
              "        if (!dataTable) return;\n",
              "\n",
              "        const docLinkHtml = 'Like what you see? Visit the ' +\n",
              "          '<a target=\"_blank\" href=https://colab.research.google.com/notebooks/data_table.ipynb>data table notebook</a>'\n",
              "          + ' to learn more about interactive tables.';\n",
              "        element.innerHTML = '';\n",
              "        dataTable['output_type'] = 'display_data';\n",
              "        await google.colab.output.renderOutput(dataTable, element);\n",
              "        const docLink = document.createElement('div');\n",
              "        docLink.innerHTML = docLinkHtml;\n",
              "        element.appendChild(docLink);\n",
              "      }\n",
              "    </script>\n",
              "  </div>\n",
              "\n",
              "\n",
              "<div id=\"df-b264a5e6-c8eb-434f-a892-ab21e4092091\">\n",
              "  <button class=\"colab-df-quickchart\" onclick=\"quickchart('df-b264a5e6-c8eb-434f-a892-ab21e4092091')\"\n",
              "            title=\"Suggest charts\"\n",
              "            style=\"display:none;\">\n",
              "\n",
              "<svg xmlns=\"http://www.w3.org/2000/svg\" height=\"24px\"viewBox=\"0 0 24 24\"\n",
              "     width=\"24px\">\n",
              "    <g>\n",
              "        <path d=\"M19 3H5c-1.1 0-2 .9-2 2v14c0 1.1.9 2 2 2h14c1.1 0 2-.9 2-2V5c0-1.1-.9-2-2-2zM9 17H7v-7h2v7zm4 0h-2V7h2v10zm4 0h-2v-4h2v4z\"/>\n",
              "    </g>\n",
              "</svg>\n",
              "  </button>\n",
              "\n",
              "<style>\n",
              "  .colab-df-quickchart {\n",
              "      --bg-color: #E8F0FE;\n",
              "      --fill-color: #1967D2;\n",
              "      --hover-bg-color: #E2EBFA;\n",
              "      --hover-fill-color: #174EA6;\n",
              "      --disabled-fill-color: #AAA;\n",
              "      --disabled-bg-color: #DDD;\n",
              "  }\n",
              "\n",
              "  [theme=dark] .colab-df-quickchart {\n",
              "      --bg-color: #3B4455;\n",
              "      --fill-color: #D2E3FC;\n",
              "      --hover-bg-color: #434B5C;\n",
              "      --hover-fill-color: #FFFFFF;\n",
              "      --disabled-bg-color: #3B4455;\n",
              "      --disabled-fill-color: #666;\n",
              "  }\n",
              "\n",
              "  .colab-df-quickchart {\n",
              "    background-color: var(--bg-color);\n",
              "    border: none;\n",
              "    border-radius: 50%;\n",
              "    cursor: pointer;\n",
              "    display: none;\n",
              "    fill: var(--fill-color);\n",
              "    height: 32px;\n",
              "    padding: 0;\n",
              "    width: 32px;\n",
              "  }\n",
              "\n",
              "  .colab-df-quickchart:hover {\n",
              "    background-color: var(--hover-bg-color);\n",
              "    box-shadow: 0 1px 2px rgba(60, 64, 67, 0.3), 0 1px 3px 1px rgba(60, 64, 67, 0.15);\n",
              "    fill: var(--button-hover-fill-color);\n",
              "  }\n",
              "\n",
              "  .colab-df-quickchart-complete:disabled,\n",
              "  .colab-df-quickchart-complete:disabled:hover {\n",
              "    background-color: var(--disabled-bg-color);\n",
              "    fill: var(--disabled-fill-color);\n",
              "    box-shadow: none;\n",
              "  }\n",
              "\n",
              "  .colab-df-spinner {\n",
              "    border: 2px solid var(--fill-color);\n",
              "    border-color: transparent;\n",
              "    border-bottom-color: var(--fill-color);\n",
              "    animation:\n",
              "      spin 1s steps(1) infinite;\n",
              "  }\n",
              "\n",
              "  @keyframes spin {\n",
              "    0% {\n",
              "      border-color: transparent;\n",
              "      border-bottom-color: var(--fill-color);\n",
              "      border-left-color: var(--fill-color);\n",
              "    }\n",
              "    20% {\n",
              "      border-color: transparent;\n",
              "      border-left-color: var(--fill-color);\n",
              "      border-top-color: var(--fill-color);\n",
              "    }\n",
              "    30% {\n",
              "      border-color: transparent;\n",
              "      border-left-color: var(--fill-color);\n",
              "      border-top-color: var(--fill-color);\n",
              "      border-right-color: var(--fill-color);\n",
              "    }\n",
              "    40% {\n",
              "      border-color: transparent;\n",
              "      border-right-color: var(--fill-color);\n",
              "      border-top-color: var(--fill-color);\n",
              "    }\n",
              "    60% {\n",
              "      border-color: transparent;\n",
              "      border-right-color: var(--fill-color);\n",
              "    }\n",
              "    80% {\n",
              "      border-color: transparent;\n",
              "      border-right-color: var(--fill-color);\n",
              "      border-bottom-color: var(--fill-color);\n",
              "    }\n",
              "    90% {\n",
              "      border-color: transparent;\n",
              "      border-bottom-color: var(--fill-color);\n",
              "    }\n",
              "  }\n",
              "</style>\n",
              "\n",
              "  <script>\n",
              "    async function quickchart(key) {\n",
              "      const quickchartButtonEl =\n",
              "        document.querySelector('#' + key + ' button');\n",
              "      quickchartButtonEl.disabled = true;  // To prevent multiple clicks.\n",
              "      quickchartButtonEl.classList.add('colab-df-spinner');\n",
              "      try {\n",
              "        const charts = await google.colab.kernel.invokeFunction(\n",
              "            'suggestCharts', [key], {});\n",
              "      } catch (error) {\n",
              "        console.error('Error during call to suggestCharts:', error);\n",
              "      }\n",
              "      quickchartButtonEl.classList.remove('colab-df-spinner');\n",
              "      quickchartButtonEl.classList.add('colab-df-quickchart-complete');\n",
              "    }\n",
              "    (() => {\n",
              "      let quickchartButtonEl =\n",
              "        document.querySelector('#df-b264a5e6-c8eb-434f-a892-ab21e4092091 button');\n",
              "      quickchartButtonEl.style.display =\n",
              "        google.colab.kernel.accessAllowed ? 'block' : 'none';\n",
              "    })();\n",
              "  </script>\n",
              "</div>\n",
              "\n",
              "    </div>\n",
              "  </div>\n"
            ],
            "application/vnd.google.colaboratory.intrinsic+json": {
              "type": "dataframe",
              "variable_name": "EGGS",
              "summary": "{\n  \"name\": \"EGGS\",\n  \"rows\": 60,\n  \"fields\": [\n    {\n      \"column\": \"Date\",\n      \"properties\": {\n        \"dtype\": \"date\",\n        \"min\": \"2019-01-31 00:00:00\",\n        \"max\": \"2023-12-31 00:00:00\",\n        \"num_unique_values\": 60,\n        \"samples\": [\n          \"2019-01-31 00:00:00\",\n          \"2019-06-30 00:00:00\",\n          \"2022-01-31 00:00:00\"\n        ],\n        \"semantic_type\": \"\",\n        \"description\": \"\"\n      }\n    },\n    {\n      \"column\": \"AAPL\",\n      \"properties\": {\n        \"dtype\": \"number\",\n        \"std\": 0.08614951143382431,\n        \"min\": -0.12421285065002663,\n        \"max\": 0.21656939511812423,\n        \"num_unique_values\": 60,\n        \"samples\": [\n          0.05515390011891563,\n          0.13051930049493343,\n          -0.015712154376115617\n        ],\n        \"semantic_type\": \"\",\n        \"description\": \"\"\n      }\n    },\n    {\n      \"column\": \"DAL\",\n      \"properties\": {\n        \"dtype\": \"number\",\n        \"std\": 0.12557341787928597,\n        \"min\": -0.38153047019651964,\n        \"max\": 0.31364240920436726,\n        \"num_unique_values\": 60,\n        \"samples\": [\n          -0.009418852710086467,\n          0.1019418899341542,\n          0.015609054490496321\n        ],\n        \"semantic_type\": \"\",\n        \"description\": \"\"\n      }\n    },\n    {\n      \"column\": \"GLD\",\n      \"properties\": {\n        \"dtype\": \"number\",\n        \"std\": 0.04189072049455867,\n        \"min\": -0.07147662098325525,\n        \"max\": 0.10790463097013703,\n        \"num_unique_values\": 60,\n        \"samples\": [\n          0.028865979381443196,\n          0.08002914919848991,\n          -0.016787612677039987\n        ],\n        \"semantic_type\": \"\",\n        \"description\": \"\"\n      }\n    },\n    {\n      \"column\": \"SBUX\",\n      \"properties\": {\n        \"dtype\": \"number\",\n        \"std\": 0.07836925985374613,\n        \"min\": -0.17950982876524824,\n        \"max\": 0.18705817493612487,\n        \"num_unique_values\": 60,\n        \"samples\": [\n          0.05807438940409204,\n          0.10215643668259555,\n          -0.15944270672762184\n        ],\n        \"semantic_type\": \"\",\n        \"description\": \"\"\n      }\n    },\n    {\n      \"column\": \"TSLA\",\n      \"properties\": {\n        \"dtype\": \"number\",\n        \"std\": 0.22145684812083832,\n        \"min\": -0.3673343490707852,\n        \"max\": 0.7414521252787116,\n        \"num_unique_values\": 60,\n        \"samples\": [\n          -0.07746391633639815,\n          0.20684812952665022,\n          -0.11360931817914044\n        ],\n        \"semantic_type\": \"\",\n        \"description\": \"\"\n      }\n    }\n  ]\n}"
            }
          },
          "metadata": {},
          "execution_count": 9
        }
      ]
    },
    {
      "cell_type": "code",
      "source": [
        "\n",
        "a = array(object=[[-1,-1,0,0,0]])\n",
        "a"
      ],
      "metadata": {
        "colab": {
          "base_uri": "https://localhost:8080/"
        },
        "id": "fxM75WjQQsBz",
        "outputId": "fc3000d8-65f8-401c-a96a-95cc52263359"
      },
      "execution_count": null,
      "outputs": [
        {
          "output_type": "execute_result",
          "data": {
            "text/plain": [
              "array([[-1, -1,  0,  0,  0]])"
            ]
          },
          "metadata": {},
          "execution_count": 10
        }
      ]
    },
    {
      "cell_type": "code",
      "source": [
        "b = array(object=[[-0.6]])\n",
        "b"
      ],
      "metadata": {
        "colab": {
          "base_uri": "https://localhost:8080/"
        },
        "id": "6U5tjoOyQstH",
        "outputId": "c9b68831-288c-4ec9-a342-b3f037321c64"
      },
      "execution_count": null,
      "outputs": [
        {
          "output_type": "execute_result",
          "data": {
            "text/plain": [
              "array([[-0.6]])"
            ]
          },
          "metadata": {},
          "execution_count": 11
        }
      ]
    },
    {
      "cell_type": "code",
      "source": [
        "OBJECT = rf.Portfolio(returns=EGGS, ainequality= a, binequality=b, sht=True)\n",
        "OBJECT.upperlng = 1.2\n",
        "OBJECT.assets_stats()\n",
        "SAFEST = OBJECT.optimization(rm=\"MV\" , obj=\"Sharpe\", rf=0.0015)\n",
        "print(round(SAFEST,7))\n",
        "print(\"    \")\n",
        "print(round(SAFEST,7)* 100)"
      ],
      "metadata": {
        "colab": {
          "base_uri": "https://localhost:8080/"
        },
        "id": "UFI8-Y2xQqRI",
        "outputId": "1c4fd877-1197-42c0-b057-50330ca7ad01"
      },
      "execution_count": null,
      "outputs": [
        {
          "output_type": "stream",
          "name": "stdout",
          "text": [
            "       weights\n",
            "AAPL  0.798768\n",
            "DAL  -0.198768\n",
            "GLD   0.315054\n",
            "SBUX -0.001231\n",
            "TSLA  0.086178\n",
            "    \n",
            "       weights\n",
            "AAPL  79.87678\n",
            "DAL  -19.87681\n",
            "GLD   31.50536\n",
            "SBUX  -0.12310\n",
            "TSLA   8.61777\n"
          ]
        }
      ]
    },
    {
      "cell_type": "code",
      "source": [
        "-0.198768 * 25000"
      ],
      "metadata": {
        "colab": {
          "base_uri": "https://localhost:8080/"
        },
        "id": "7BOhsad7SB34",
        "outputId": "9e6a64f0-430d-4baf-95d0-cdbf8f081488"
      },
      "execution_count": null,
      "outputs": [
        {
          "output_type": "execute_result",
          "data": {
            "text/plain": [
              "-4969.2"
            ]
          },
          "metadata": {},
          "execution_count": 13
        }
      ]
    },
    {
      "cell_type": "markdown",
      "source": [
        "# **Question 7 MidTerm**"
      ],
      "metadata": {
        "id": "_fB2UaxlVmni"
      }
    },
    {
      "cell_type": "code",
      "source": [
        "EGGS = MONTHLY_RETURN(SYMBOLS=[\"CMG\",\"TSLA\",\"CAKE\",\"SPOT\"] , FROM=\"2019-01-31\" , TO=\"2024-02-01\")\n",
        "print(EGGS.head())\n",
        "print(\" \")\n",
        "a = array(object=[[-1,0,-1,0]])\n",
        "a\n",
        "print(\"a \")\n",
        "print(a)\n",
        "print(\" \")\n",
        "\n",
        "b = array(object=[[-0.7]])\n",
        "b\n",
        "\n",
        "print(\"b \")\n",
        "print(b)\n",
        "print(\" \")\n",
        "\n",
        "OBJECT = rf.Portfolio(returns=EGGS, ainequality= a, binequality=b, sht=True)\n",
        "OBJECT.upperlng = 1.5\n",
        "OBJECT.assets_stats()\n",
        "SAFEST = OBJECT.optimization(rm=\"MV\" , obj=\"MinRisk\")\n",
        "\n",
        "\n",
        "print(round(SAFEST,7))\n",
        "print(\"    \")\n",
        "print(round(SAFEST,7)* 100)"
      ],
      "metadata": {
        "colab": {
          "base_uri": "https://localhost:8080/"
        },
        "id": "6ZIdn_CSSN8S",
        "outputId": "3efcf0ff-ffe4-4aef-9a77-a5a0067d1f37"
      },
      "execution_count": null,
      "outputs": [
        {
          "output_type": "stream",
          "name": "stderr",
          "text": [
            "[*********************100%%**********************]  4 of 4 completed\n"
          ]
        },
        {
          "output_type": "stream",
          "name": "stdout",
          "text": [
            "Ticker          CAKE       CMG      SPOT      TSLA\n",
            "Date                                              \n",
            "2019-02-28  0.053922  0.147127  0.034625  0.041886\n",
            "2019-03-31  0.041516  0.169177 -0.009562 -0.125109\n",
            "2019-04-30  0.014309 -0.031353 -0.021830 -0.147109\n",
            "2019-05-31 -0.122314 -0.040797 -0.075053 -0.224266\n",
            "2019-06-30  0.010867  0.110475  0.164357  0.206848\n",
            " \n",
            "a \n",
            "[[-1  0 -1  0]]\n",
            " \n",
            "b \n",
            "[[-0.7]]\n",
            " \n",
            "       weights\n",
            "CAKE  0.262424\n",
            "CMG   0.631281\n",
            "SPOT  0.185789\n",
            "TSLA -0.079494\n",
            "    \n",
            "       weights\n",
            "CAKE  26.24238\n",
            "CMG   63.12813\n",
            "SPOT  18.57889\n",
            "TSLA  -7.94940\n"
          ]
        }
      ]
    },
    {
      "cell_type": "code",
      "source": [
        "round(0.262424 * 45000)"
      ],
      "metadata": {
        "colab": {
          "base_uri": "https://localhost:8080/"
        },
        "id": "k3tyGyTdVx0X",
        "outputId": "c03dd271-d4a1-4404-dbcb-175887ab1d59"
      },
      "execution_count": null,
      "outputs": [
        {
          "output_type": "execute_result",
          "data": {
            "text/plain": [
              "11809"
            ]
          },
          "metadata": {},
          "execution_count": 15
        }
      ]
    },
    {
      "cell_type": "markdown",
      "source": [
        "# **Question 6 MidTerm**"
      ],
      "metadata": {
        "id": "L1-o9TbyV8Gf"
      }
    },
    {
      "cell_type": "code",
      "source": [
        "EGGS = MONTHLY_RETURN(SYMBOLS=[\"CMG\",\"TSLA\",\"CAKE\",\"SPOT\"] , FROM=\"2019-01-31\" , TO=\"2024-02-01\")\n",
        "EGGS.head()\n",
        "\n",
        "\n",
        "A_BOTTOM = identity(n=4) * (-1)\n",
        "A_BOTTOM\n",
        "print(\"A Bottom\")\n",
        "print(A_BOTTOM)\n",
        "print(\" \")\n",
        "\n",
        "B_BOTTOM = full(shape=[4,1], fill_value=-0.7)\n",
        "B_BOTTOM\n",
        "print(\"B Bottom\")\n",
        "print(B_BOTTOM)\n",
        "print(\" \")\n",
        "\n",
        "OBJECT = rf.Portfolio(returns=EGGS, ainequality= A_BOTTOM, binequality=B_BOTTOM, sht=True)\n",
        "OBJECT.upperlng = 1.5\n",
        "OBJECT.assets_stats()\n",
        "SAFEST = OBJECT.optimization(rm=\"MV\" , obj=\"Sharpe\", rf=0.001)\n",
        "print(SAFEST)\n",
        "print(\"    \")\n",
        "print(round(SAFEST,7)* 100)"
      ],
      "metadata": {
        "colab": {
          "base_uri": "https://localhost:8080/"
        },
        "id": "fjseBN01Sn2n",
        "outputId": "a941e065-6841-448e-b6f0-25f6f8bfd8af"
      },
      "execution_count": null,
      "outputs": [
        {
          "output_type": "stream",
          "name": "stderr",
          "text": [
            "[*********************100%%**********************]  4 of 4 completed\n"
          ]
        },
        {
          "output_type": "stream",
          "name": "stdout",
          "text": [
            "A Bottom\n",
            "[[-1. -0. -0. -0.]\n",
            " [-0. -1. -0. -0.]\n",
            " [-0. -0. -1. -0.]\n",
            " [-0. -0. -0. -1.]]\n",
            " \n",
            "B Bottom\n",
            "[[-0.7]\n",
            " [-0.7]\n",
            " [-0.7]\n",
            " [-0.7]]\n",
            " \n",
            "       weights\n",
            "CAKE -0.145878\n",
            "CMG   0.700000\n",
            "SPOT -0.054122\n",
            "TSLA  0.500000\n",
            "    \n",
            "       weights\n",
            "CAKE -14.58777\n",
            "CMG   70.00000\n",
            "SPOT  -5.41222\n",
            "TSLA  50.00000\n"
          ]
        }
      ]
    },
    {
      "cell_type": "code",
      "source": [
        "round(-0.145878 * 45000)"
      ],
      "metadata": {
        "colab": {
          "base_uri": "https://localhost:8080/"
        },
        "id": "0HCVwYERTky9",
        "outputId": "4efef750-a27f-4a31-d221-cd4b424e268b"
      },
      "execution_count": null,
      "outputs": [
        {
          "output_type": "execute_result",
          "data": {
            "text/plain": [
              "-6565"
            ]
          },
          "metadata": {},
          "execution_count": 17
        }
      ]
    },
    {
      "cell_type": "markdown",
      "source": [
        "# **Stacking Constraints**\n",
        "Constraint for all and the previous constraints"
      ],
      "metadata": {
        "id": "yOr6Tv7hG_Pa"
      }
    },
    {
      "cell_type": "code",
      "source": [
        "a = vstack(tup=[A,A_BOTTOM])\n",
        "b = vstack(tup=[B,B_BOTTOM])"
      ],
      "metadata": {
        "id": "6eH_Uw2lHDKV",
        "colab": {
          "base_uri": "https://localhost:8080/",
          "height": 159
        },
        "outputId": "6a1f6c81-0f57-4041-e0a0-416d233b69ce"
      },
      "execution_count": null,
      "outputs": [
        {
          "output_type": "error",
          "ename": "NameError",
          "evalue": "name 'A' is not defined",
          "traceback": [
            "\u001b[0;31m---------------------------------------------------------------------------\u001b[0m",
            "\u001b[0;31mNameError\u001b[0m                                 Traceback (most recent call last)",
            "\u001b[0;32m<ipython-input-19-2e00225e580e>\u001b[0m in \u001b[0;36m<cell line: 1>\u001b[0;34m()\u001b[0m\n\u001b[0;32m----> 1\u001b[0;31m \u001b[0ma\u001b[0m \u001b[0;34m=\u001b[0m \u001b[0mvstack\u001b[0m\u001b[0;34m(\u001b[0m\u001b[0mtup\u001b[0m\u001b[0;34m=\u001b[0m\u001b[0;34m[\u001b[0m\u001b[0mA\u001b[0m\u001b[0;34m,\u001b[0m\u001b[0mA_BOTTOM\u001b[0m\u001b[0;34m]\u001b[0m\u001b[0;34m)\u001b[0m\u001b[0;34m\u001b[0m\u001b[0;34m\u001b[0m\u001b[0m\n\u001b[0m\u001b[1;32m      2\u001b[0m \u001b[0mb\u001b[0m \u001b[0;34m=\u001b[0m \u001b[0mvstack\u001b[0m\u001b[0;34m(\u001b[0m\u001b[0mtup\u001b[0m\u001b[0;34m=\u001b[0m\u001b[0;34m[\u001b[0m\u001b[0mB\u001b[0m\u001b[0;34m,\u001b[0m\u001b[0mB_BOTTOM\u001b[0m\u001b[0;34m]\u001b[0m\u001b[0;34m)\u001b[0m\u001b[0;34m\u001b[0m\u001b[0;34m\u001b[0m\u001b[0m\n",
            "\u001b[0;31mNameError\u001b[0m: name 'A' is not defined"
          ]
        }
      ]
    },
    {
      "cell_type": "code",
      "source": [
        "a"
      ],
      "metadata": {
        "id": "nwx10cBhHYHw"
      },
      "execution_count": null,
      "outputs": []
    },
    {
      "cell_type": "code",
      "source": [
        "b"
      ],
      "metadata": {
        "id": "UY-jrJayHZ2-"
      },
      "execution_count": null,
      "outputs": []
    },
    {
      "cell_type": "code",
      "source": [
        "OBJECT = rf.Portfolio(returns=EGGS, ainequality=a, binequality=b, sht=True)\n",
        "OBJECT.upperlng = 1.5\n",
        "OBJECT.assets_stats()\n",
        "SAFEST = OBJECT.optimization(rm=\"MV\" , obj=\"MinRisk\", rf=0.15)\n",
        "round(SAFEST,4)"
      ],
      "metadata": {
        "id": "EZfYU3HJHbFh"
      },
      "execution_count": null,
      "outputs": []
    }
  ],
  "metadata": {
    "colab": {
      "provenance": [],
      "collapsed_sections": [
        "_fB2UaxlVmni",
        "L1-o9TbyV8Gf",
        "yOr6Tv7hG_Pa"
      ]
    },
    "kernelspec": {
      "display_name": "Python 3",
      "name": "python3"
    },
    "language_info": {
      "name": "python"
    }
  },
  "nbformat": 4,
  "nbformat_minor": 0
}