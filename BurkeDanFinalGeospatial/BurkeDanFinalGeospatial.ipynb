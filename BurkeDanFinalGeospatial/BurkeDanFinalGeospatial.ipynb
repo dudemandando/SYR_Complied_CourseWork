{
 "cells": [
  {
   "cell_type": "markdown",
   "source": [
    "Import the required libraries\n",
    "Note: Due to the fringe/esoteric nature of this project, Anaconda's package manager conda must be used to install packages, pip does work for some but not all, most noteably: \"GDAL\" and \"Rasterio\"."
   ],
   "metadata": {
    "collapsed": false
   },
   "id": "1b78904979504a73"
  },
  {
   "cell_type": "code",
   "execution_count": 10,
   "outputs": [],
   "source": [
    "#Import the required Libraries\n",
    "import rasterio\n",
    "from rasterio.plot import show\n",
    "from rasterio.windows import from_bounds\n",
    "import geopy\n",
    "import numpy as np\n",
    "import base64\n",
    "import requests"
   ],
   "metadata": {
    "collapsed": false,
    "ExecuteTime": {
     "end_time": "2023-09-10T00:36:27.131357409Z",
     "start_time": "2023-09-10T00:36:27.082295227Z"
    }
   },
   "id": "8889bf6dd9cc3e47"
  }
 ],
 "metadata": {
  "kernelspec": {
   "display_name": "Python 3",
   "language": "python",
   "name": "python3"
  },
  "language_info": {
   "codemirror_mode": {
    "name": "ipython",
    "version": 2
   },
   "file_extension": ".py",
   "mimetype": "text/x-python",
   "name": "python",
   "nbconvert_exporter": "python",
   "pygments_lexer": "ipython2",
   "version": "2.7.6"
  }
 },
 "nbformat": 4,
 "nbformat_minor": 5
}
