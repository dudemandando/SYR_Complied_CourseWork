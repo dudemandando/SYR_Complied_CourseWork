{
  "nbformat": 4,
  "nbformat_minor": 0,
  "metadata": {
    "colab": {
      "provenance": []
    },
    "kernelspec": {
      "name": "python3",
      "display_name": "Python 3"
    },
    "language_info": {
      "name": "python"
    }
  },
  "cells": [
    {
      "cell_type": "markdown",
      "source": [
        "# **Dan Burke**\n",
        "**Homework Two**\n",
        "\n",
        "IST 652\n",
        "\n",
        "September 3, 2023\n",
        "\n",
        "**Link to Student Virtual Environment:** https://colab.research.google.com/drive/1wnCZNoSYmpqu9mdgub3PHFwNovEysjcN?usp=sharing\n",
        "\n",
        "\n",
        "**Semistructured Data Processing**\n",
        "\n",
        "The main outline of your assignment is to write a program that will read in JSON formatted data\n",
        "from a Mongo DB collection or from a file.\n",
        "\n",
        "This will be in a format that is structured with lines of\n",
        "data representing one type of unit, for example, one tweet for Twitter or one post from\n",
        "Facebook.\n",
        "\n",
        "Your program will contain the data as lists of JSON structures, which are just Python\n",
        "dictionaries and lists.\n",
        "Your program may also contain pandas dataframes for processed data."
      ],
      "metadata": {
        "id": "1GcKi3YNyLKh"
      }
    },
    {
      "cell_type": "markdown",
      "source": [
        "# **Data Import**"
      ],
      "metadata": {
        "id": "tfPK2f5Ayxgh"
      }
    },
    {
      "cell_type": "code",
      "source": [
        "#Mount Google Drive\n",
        "from google.colab import drive\n",
        "\n",
        "#import libraries\n",
        "import json\n",
        "import pandas as pd\n",
        "import matplotlib.pyplot as plt\n",
        "\n",
        "#Data Source: https://www.kaggle.com/datasets/rtatman/iris-dataset-json-version?resource=download\n",
        "\n",
        "# Data Path\n",
        "path = '/content/drive/MyDrive/IST 652 HW2/iris.json'"
      ],
      "metadata": {
        "id": "oVb7NuySzoXQ"
      },
      "execution_count": 118,
      "outputs": []
    },
    {
      "cell_type": "markdown",
      "source": [
        "# **Method Definitions**"
      ],
      "metadata": {
        "id": "tTp5CxDq5Nie"
      }
    },
    {
      "cell_type": "code",
      "execution_count": 119,
      "metadata": {
        "id": "y_SQggwsyHY4"
      },
      "outputs": [],
      "source": [
        "#Define a Method to read JSON file from a given path/directory\n",
        "def ReadJsonFile(path):\n",
        "  with(open(path, \"r\") as f):\n",
        "    #load the data\n",
        "    data = json.load(f)\n",
        "    f.close()\n",
        "    return data\n",
        "\n",
        "# Define a method which can take previously fetched\n",
        "# json data (\"ReadJsonFile\" method above)\n",
        "# and then dynamically create a dataframe via a list of column names\n",
        "# with corresponding json object attributes/properties\n",
        "def ConstructDataFrameFromJson(rawJson, attributeList):\n",
        "\n",
        "  # First create an empty dataframe with columns named according to\n",
        "  #user inputted parameters\n",
        "  df = pd.DataFrame(columns= attributeList)\n",
        "  print(\"Creating Empty Dataframe with column names: \\n\",df.columns, '\\n')\n",
        "\n",
        "  #Iterate through each json object ( will be a row in our new dataframe)\n",
        "  #tracking index for insertion into dataframe\n",
        "  index = 0\n",
        "  for i in rawJson:\n",
        "    # Then For each json object we have to iterate through each property/attribute\n",
        "    # Using theattribute list\n",
        "\n",
        "    # Create a list to temp store attributes to be inserted into row\n",
        "    tempAttributList = []\n",
        "\n",
        "    for x in attributeList:\n",
        "      tempAttributList.append(i[x])\n",
        "\n",
        "    # Add row data to dataframe\n",
        "    df.loc[index] = tempAttributList\n",
        "\n",
        "    # Increment the index\n",
        "    index += 1\n",
        "\n",
        "  print(\"Returning Populated Dataframe with \", len(df.index), \"records/rows\")\n",
        "  # Return the new populated dataframe\n",
        "  return df\n",
        "\n"
      ]
    },
    {
      "cell_type": "markdown",
      "source": [
        "# **Method Usage - Fetching JSON Data; Generation of DataFrame**"
      ],
      "metadata": {
        "id": "OpXVX8kS5S19"
      }
    },
    {
      "cell_type": "code",
      "source": [
        "#Define the known json attribute list for constructing the dataframe\n",
        "attList = [\"sepalLength\", \"sepalWidth\", \"petalLength\",\"petalWidth\", \"species\"]\n",
        "\n",
        "#create and store dataframe from json\n",
        "df = ConstructDataFrameFromJson(ReadJsonFile(path), attList)"
      ],
      "metadata": {
        "colab": {
          "base_uri": "https://localhost:8080/"
        },
        "id": "B-SAybvq4daw",
        "outputId": "638c681e-e1f8-4719-afd4-85ab123460aa"
      },
      "execution_count": 120,
      "outputs": [
        {
          "output_type": "stream",
          "name": "stdout",
          "text": [
            "Creating Empty Dataframe with column names: \n",
            " Index(['sepalLength', 'sepalWidth', 'petalLength', 'petalWidth', 'species'], dtype='object') \n",
            "\n",
            "Returning Populated Dataframe with  150 records/rows\n"
          ]
        }
      ]
    },
    {
      "cell_type": "markdown",
      "source": [
        "**Clean Up Dataframe Data Types**\n",
        "\n",
        "**NOTE:**The adjustment for datatypes is not included within the dataset agnostic methods above, the purpose for this is to allow the ablove methods to remain as flexible as possible and to not be tailored to suit any single JSON datset bold text"
      ],
      "metadata": {
        "id": "u7-eNuI35uxM"
      }
    },
    {
      "cell_type": "code",
      "source": [
        "df['species'] =  df['species'].astype(str)"
      ],
      "metadata": {
        "id": "KRn-Ri7_7QpE"
      },
      "execution_count": 121,
      "outputs": []
    },
    {
      "cell_type": "code",
      "source": [
        "df.dtypes\n"
      ],
      "metadata": {
        "colab": {
          "base_uri": "https://localhost:8080/"
        },
        "id": "KWQAD9AP6fJ0",
        "outputId": "d2dab2c0-5e21-40f8-c326-d78231591f9c"
      },
      "execution_count": 122,
      "outputs": [
        {
          "output_type": "execute_result",
          "data": {
            "text/plain": [
              "sepalLength    float64\n",
              "sepalWidth     float64\n",
              "petalLength    float64\n",
              "petalWidth     float64\n",
              "species         object\n",
              "dtype: object"
            ]
          },
          "metadata": {},
          "execution_count": 122
        }
      ]
    },
    {
      "cell_type": "markdown",
      "source": [
        "**Question:**\n",
        "Process one collection of data and summarize information from a number of fields. This\n",
        "is similar to the example programs for Twitter hashtags or Facebook counts but must access\n",
        "different and more fields than in those examples.\n",
        "\n",
        "**Approach to Answer:**\n",
        "\n",
        "The dataset selected for this effort is \"Iris\" data set; a common dataset used within academic/student circles, however the only difference from most instances of this data set and this effort's; is that it's original form is in JSON (JavaScript Object Notation).\n",
        "\n",
        "The dataset as whole is in itself a \"collection\" (if we are to examine it in the sense of a NoSQL database/MongoDB) a MongoDB collection is analogous to a table (if viewed from a SQL/tabular perpective). Within this context, this efforts dataset, **is considered to be a single collection**, though it could be extracted/processed into multiple collections (each speicies could be it's own dataframe or collection).\n",
        "\n",
        "The following code will produce summary staticstics to examine the various fields of the dataset as well as the individual species contained within the Iris collection (now dataframe)."
      ],
      "metadata": {
        "id": "LzywihECAX3x"
      }
    },
    {
      "cell_type": "markdown",
      "source": [
        "# **Custom Method Definition**\n",
        "\n",
        "Below is a method with recieves a dataframe and a singular column name (in the form of a string). Then utilizing the column name as a string will return the min, max, mean values of that column as well as generating a box plot of the column values.\n",
        "\n",
        "This method also has a catch for any column of a string datatype, as this effort is not interesting in non numrical data for exploratory statistics."
      ],
      "metadata": {
        "id": "gyd-SmX5RAxv"
      }
    },
    {
      "cell_type": "code",
      "source": [
        "def is_string(x):\n",
        "    return isinstance(x, str)\n",
        "\n",
        "def produceExploratoryStatisticsOfColumn(df, colName):\n",
        "  # Handle label/species column differently to prevent errors\n",
        "  # This checks for a column data type of string if it is we catch it\n",
        "  if(df[colName].apply(is_string)):\n",
        "    print(\"Species Unique Values:\",\"\\nCounts:\\n\", df[colName].value_counts(), df[colName].unique())\n",
        "    return\n",
        "\n",
        "  print(\"Summary Statistics for Column: \", colName)\n",
        "  print(\"Maximum Value: \", df[colName].max())\n",
        "  print(\"Minimum Value: \", df[colName].min())\n",
        "  print(\"Mean:\", df[colName].mean())\n",
        "  print('\\n')\n",
        "  plt.figure()   # plots figure for each iteration\n",
        "  plt.title(colName)\n",
        "  plt.boxplot(df[colName])\n"
      ],
      "metadata": {
        "id": "lDt4oAbbMdfh"
      },
      "execution_count": 123,
      "outputs": []
    },
    {
      "cell_type": "markdown",
      "source": [
        "# **Use of Custom Exploratory Method**"
      ],
      "metadata": {
        "id": "cXG7vtmhSbKG"
      }
    },
    {
      "cell_type": "code",
      "source": [
        "df.boxplot()\n",
        "\n",
        "for col in df.columns:\n",
        "  produceSummaryStatisticsOfColumn(df, col)"
      ],
      "metadata": {
        "colab": {
          "base_uri": "https://localhost:8080/",
          "height": 1000
        },
        "id": "vXK5eOc1MrEZ",
        "outputId": "e7994dc7-a322-473d-96e3-4d073aaaf574"
      },
      "execution_count": 124,
      "outputs": [
        {
          "output_type": "stream",
          "name": "stdout",
          "text": [
            "Summary Statistics for Column:  sepalLength\n",
            "Maximum Value:  7.9\n",
            "Minimum Value:  4.3\n",
            "Mean: 5.843333333333334\n",
            "\n",
            "\n",
            "Summary Statistics for Column:  sepalWidth\n",
            "Maximum Value:  4.4\n",
            "Minimum Value:  2.0\n",
            "Mean: 3.0573333333333337\n",
            "\n",
            "\n",
            "Summary Statistics for Column:  petalLength\n",
            "Maximum Value:  6.9\n",
            "Minimum Value:  1.0\n",
            "Mean: 3.7580000000000005\n",
            "\n",
            "\n",
            "Summary Statistics for Column:  petalWidth\n",
            "Maximum Value:  2.5\n",
            "Minimum Value:  0.1\n",
            "Mean: 1.1993333333333336\n",
            "\n",
            "\n",
            "Species Unique Values: \n",
            "Counts:\n",
            " setosa        50\n",
            "versicolor    50\n",
            "virginica     50\n",
            "Name: species, dtype: int64 ['setosa' 'versicolor' 'virginica']\n"
          ]
        },
        {
          "output_type": "display_data",
          "data": {
            "text/plain": [
              "<Figure size 640x480 with 1 Axes>"
            ],
            "image/png": "[encoded data removed]"
          },
          "metadata": {}
        },
        {
          "output_type": "display_data",
          "data": {
            "text/plain": [
              "<Figure size 640x480 with 1 Axes>"
            ],
            "image/png": "[encoded data removed]"
          },
          "metadata": {}
        },
        {
          "output_type": "display_data",
          "data": {
            "text/plain": [
              "<Figure size 640x480 with 1 Axes>"
            ],
            "image/png": "[encoded data removed]"
          },
          "metadata": {}
        },
        {
          "output_type": "display_data",
          "data": {
            "text/plain": [
              "<Figure size 640x480 with 1 Axes>"
            ],
            "image/png": "[encoded data removed]"
          },
          "metadata": {}
        },
        {
          "output_type": "display_data",
          "data": {
            "text/plain": [
              "<Figure size 640x480 with 1 Axes>"
            ],
            "image/png": "[encoded data removed]"
          },
          "metadata": {}
        }
      ]
    }
  ]
}