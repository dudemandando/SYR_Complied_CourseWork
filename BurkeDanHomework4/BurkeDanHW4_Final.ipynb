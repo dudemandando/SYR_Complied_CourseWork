{
  "nbformat": 4,
  "nbformat_minor": 0,
  "metadata": {
    "colab": {
      "provenance": []
    },
    "kernelspec": {
      "name": "python3",
      "display_name": "Python 3"
    },
    "language_info": {
      "name": "python"
    }
  },
  "cells": [
    {
      "cell_type": "code",
      "execution_count": 307,
      "metadata": {
        "colab": {
          "base_uri": "https://localhost:8080/"
        },
        "id": "UxOxeXhlRsl6",
        "outputId": "6e879434-c90c-4a65-967e-79a494ab8c19"
      },
      "outputs": [
        {
          "output_type": "stream",
          "name": "stdout",
          "text": [
            "Drive already mounted at /content/drive; to attempt to forcibly remount, call drive.mount(\"/content/drive\", force_remount=True).\n"
          ]
        },
        {
          "output_type": "stream",
          "name": "stderr",
          "text": [
            "[nltk_data] Downloading package stopwords to /root/nltk_data...\n",
            "[nltk_data]   Package stopwords is already up-to-date!\n"
          ]
        }
      ],
      "source": [
        "from google.colab import drive\n",
        "drive.mount('/content/drive')\n",
        "import pandas as pd\n",
        "import nltk\n",
        "nltk.download('stopwords')\n",
        "from nltk.corpus import stopwords"
      ]
    },
    {
      "cell_type": "code",
      "source": [
        "stop = stopwords.words('english')"
      ],
      "metadata": {
        "id": "n2Hqiu8muTL-"
      },
      "execution_count": 308,
      "outputs": []
    },
    {
      "cell_type": "markdown",
      "source": [
        "# **Import Clean and Format Data**"
      ],
      "metadata": {
        "id": "oChUVqouv7C-"
      }
    },
    {
      "cell_type": "markdown",
      "source": [
        "Read CSV file, remove unwanted comma characters within the review strings. Reconstruct CSV line; write to new CSV file."
      ],
      "metadata": {
        "id": "H3arJV8CxgqO"
      }
    },
    {
      "cell_type": "code",
      "source": [
        "colNames = \"\"\n",
        "newLines = []\n",
        "\n",
        "\n",
        "with open('/content/deception_data_converted_final.csv') as f:\n",
        "    lines = f.readlines()\n",
        "    newLines.append(lines[0])\n",
        "    for line in range(1,len(lines)):\n",
        "      \n",
        "      \n",
        "      x = lines[line].split(',')\n",
        "      #print(\"|\")\n",
        "      #print(x[2:len(x)])\n",
        "      review = \"\"\n",
        "      for n in range(2,len(x)):\n",
        "        x[n].replace(',','')\n",
        "        review += x[n]\n",
        "      \n",
        "      y=x[0]+ ','+x[1] + ',' + review\n",
        "      #print(y)\n",
        "      #print(\"|\")\n",
        "      newLines.append(y)\n",
        "      f.close()\n",
        "      \n",
        "\n"
      ],
      "metadata": {
        "id": "Zdx-emtoSvhl"
      },
      "execution_count": 309,
      "outputs": []
    },
    {
      "cell_type": "code",
      "source": [
        "with open(r'/content/deception_data_converted_clean.csv', 'w') as fp:\n",
        "    for item in newLines:\n",
        "        # write each item on a new line\n",
        "        fp.write(\"%s\\n\" % item)\n",
        "    print('Done')"
      ],
      "metadata": {
        "colab": {
          "base_uri": "https://localhost:8080/"
        },
        "id": "gW8K0SwHuRCu",
        "outputId": "97b2bb60-a171-41fb-a010-b3197440c6b9"
      },
      "execution_count": 310,
      "outputs": [
        {
          "output_type": "stream",
          "name": "stdout",
          "text": [
            "Done\n"
          ]
        }
      ]
    },
    {
      "cell_type": "markdown",
      "source": [
        "# **Instantiate New Dataframe from Clean Data**"
      ],
      "metadata": {
        "id": "zQwY3fkNwAxF"
      }
    },
    {
      "cell_type": "code",
      "source": [
        "df = pd.read_csv('/content/deception_data_converted_clean.csv')"
      ],
      "metadata": {
        "id": "F6gA7lgqVxIH"
      },
      "execution_count": 311,
      "outputs": []
    },
    {
      "cell_type": "markdown",
      "source": [
        "# **Separate the Data By labels**"
      ],
      "metadata": {
        "id": "2Vf9dahRnQfn"
      }
    },
    {
      "cell_type": "code",
      "source": [
        "dfSent = df[['sentiment', 'review']]\n",
        "dfLie = df[['lie', 'review']]"
      ],
      "metadata": {
        "id": "oTWPgzOsmcdg"
      },
      "execution_count": 312,
      "outputs": []
    },
    {
      "cell_type": "markdown",
      "source": [
        "# **Naive Bayes**"
      ],
      "metadata": {
        "id": "wrnh4t0mnDDW"
      }
    },
    {
      "cell_type": "markdown",
      "source": [
        "Import required dependencies"
      ],
      "metadata": {
        "id": "nDow3POIxUn_"
      }
    },
    {
      "cell_type": "code",
      "source": [
        "from sklearn.feature_extraction.text import CountVectorizer\n",
        "from sklearn.naive_bayes import MultinomialNB\n",
        "from sklearn.metrics import classification_report\n",
        "from sklearn.metrics import (\n",
        "    accuracy_score,\n",
        "    confusion_matrix,\n",
        "    ConfusionMatrixDisplay,\n",
        "    f1_score,\n",
        ")\n",
        "from sklearn.model_selection import train_test_split\n",
        "\n",
        "import numpy as np"
      ],
      "metadata": {
        "id": "D3yYZ-eDmqqP"
      },
      "execution_count": 313,
      "outputs": []
    },
    {
      "cell_type": "markdown",
      "source": [
        "# **Sentiment**"
      ],
      "metadata": {
        "id": "rLQad1vonjc-"
      }
    },
    {
      "cell_type": "markdown",
      "source": [
        "Removal of Stop Words"
      ],
      "metadata": {
        "id": "gctIAII0xRRG"
      }
    },
    {
      "cell_type": "code",
      "source": [
        "dfSent['review'] = dfSent['review'].apply(lambda x: ' '.join([word for word in x.split() if word not in (stop)]))"
      ],
      "metadata": {
        "colab": {
          "base_uri": "https://localhost:8080/"
        },
        "id": "hYDzL_ulxKEm",
        "outputId": "7289d9af-bae4-4c94-d27e-e7316b2880e0"
      },
      "execution_count": 314,
      "outputs": [
        {
          "output_type": "stream",
          "name": "stderr",
          "text": [
            "<ipython-input-314-bc35a5e871f6>:1: SettingWithCopyWarning: \n",
            "A value is trying to be set on a copy of a slice from a DataFrame.\n",
            "Try using .loc[row_indexer,col_indexer] = value instead\n",
            "\n",
            "See the caveats in the documentation: https://pandas.pydata.org/pandas-docs/stable/user_guide/indexing.html#returning-a-view-versus-a-copy\n",
            "  dfSent['review'] = dfSent['review'].apply(lambda x: ' '.join([word for word in x.split() if word not in (stop)]))\n"
          ]
        }
      ]
    },
    {
      "cell_type": "markdown",
      "source": [
        "Change Data type of labels to category"
      ],
      "metadata": {
        "id": "93pyy7GRwst1"
      }
    },
    {
      "cell_type": "code",
      "source": [
        "dfSent['sentiment'] = dfSent['sentiment'].astype(\"category\")\n",
        "dfLie['lie'] = dfLie['lie'].astype(\"category\")\n",
        "dfSent.dtypes"
      ],
      "metadata": {
        "colab": {
          "base_uri": "https://localhost:8080/"
        },
        "id": "vkuRnJuUnG1I",
        "outputId": "a59a1ed3-ddca-4cb8-9a42-e5d0963853ec"
      },
      "execution_count": 315,
      "outputs": [
        {
          "output_type": "stream",
          "name": "stderr",
          "text": [
            "<ipython-input-315-cb8035405524>:1: SettingWithCopyWarning: \n",
            "A value is trying to be set on a copy of a slice from a DataFrame.\n",
            "Try using .loc[row_indexer,col_indexer] = value instead\n",
            "\n",
            "See the caveats in the documentation: https://pandas.pydata.org/pandas-docs/stable/user_guide/indexing.html#returning-a-view-versus-a-copy\n",
            "  dfSent['sentiment'] = dfSent['sentiment'].astype(\"category\")\n",
            "<ipython-input-315-cb8035405524>:2: SettingWithCopyWarning: \n",
            "A value is trying to be set on a copy of a slice from a DataFrame.\n",
            "Try using .loc[row_indexer,col_indexer] = value instead\n",
            "\n",
            "See the caveats in the documentation: https://pandas.pydata.org/pandas-docs/stable/user_guide/indexing.html#returning-a-view-versus-a-copy\n",
            "  dfLie['lie'] = dfLie['lie'].astype(\"category\")\n"
          ]
        },
        {
          "output_type": "execute_result",
          "data": {
            "text/plain": [
              "sentiment    category\n",
              "review         object\n",
              "dtype: object"
            ]
          },
          "metadata": {},
          "execution_count": 315
        }
      ]
    },
    {
      "cell_type": "markdown",
      "source": [
        "Create the test train split (80/20), count vectorize, store labels seperately"
      ],
      "metadata": {
        "id": "GVrzO5fqwoTF"
      }
    },
    {
      "cell_type": "code",
      "source": [
        "\n",
        "\n",
        "count_vec = CountVectorizer()\n",
        "reviewsArr = count_vec.fit_transform(dfSent['review'].tolist())\n",
        "bow = np.array(reviewsArr.todense())\n",
        "\n",
        "x = bow\n",
        "labels = dfSent['sentiment']"
      ],
      "metadata": {
        "id": "zYend5_bn0xH"
      },
      "execution_count": 332,
      "outputs": []
    },
    {
      "cell_type": "code",
      "source": [
        "X_train, X_test, y_train, y_test = train_test_split(x, labels, \n",
        "                                                    test_size=0.2)"
      ],
      "metadata": {
        "id": "jrMlnfdsFId7"
      },
      "execution_count": 333,
      "outputs": []
    },
    {
      "cell_type": "markdown",
      "source": [
        "Check Data Types"
      ],
      "metadata": {
        "id": "LGQfgD0KwmkN"
      }
    },
    {
      "cell_type": "code",
      "source": [
        "labels.cat.categories\n"
      ],
      "metadata": {
        "colab": {
          "base_uri": "https://localhost:8080/"
        },
        "id": "K7nel9dtoWoo",
        "outputId": "9d148015-0720-400f-99ad-2a08683e6966"
      },
      "execution_count": 334,
      "outputs": [
        {
          "output_type": "execute_result",
          "data": {
            "text/plain": [
              "Index(['n', 'p'], dtype='object')"
            ]
          },
          "metadata": {},
          "execution_count": 334
        }
      ]
    },
    {
      "cell_type": "markdown",
      "source": [
        "Fit the Model"
      ],
      "metadata": {
        "id": "IUKhsxUjwdOd"
      }
    },
    {
      "cell_type": "code",
      "source": [
        "modelSent = MultinomialNB().fit(X_train, y_train)\n",
        "y_pred = modelSent.predict(X_test)\n"
      ],
      "metadata": {
        "id": "mSMTLwhPwcnG"
      },
      "execution_count": 335,
      "outputs": []
    },
    {
      "cell_type": "code",
      "source": [
        "cmlables = [\"Positive\", \"Negative\"]\n",
        "cm = confusion_matrix(y_test, y_pred)\n",
        "disp = ConfusionMatrixDisplay(confusion_matrix=cm, display_labels=cmlables)\n",
        "disp.plot();"
      ],
      "metadata": {
        "colab": {
          "base_uri": "https://localhost:8080/",
          "height": 455
        },
        "id": "Vddis-S4DsJz",
        "outputId": "028b9eeb-1c27-4e46-8958-3a338dc20f94"
      },
      "execution_count": 336,
      "outputs": [
        {
          "output_type": "display_data",
          "data": {
            "text/plain": [
              "<Figure size 640x480 with 2 Axes>"
            ],
            "image/png": "[encoded data removed]"
          },
          "metadata": {}
        }
      ]
    },
    {
      "cell_type": "code",
      "source": [
        "print('Accuracy:', accuracy_score(y_test, y_pred))\n",
        "print(classification_report(y_test, y_pred))"
      ],
      "metadata": {
        "colab": {
          "base_uri": "https://localhost:8080/"
        },
        "id": "KETy-jjDC58i",
        "outputId": "32f53cf0-de9e-45cd-a7e7-67f9e8e39622"
      },
      "execution_count": 337,
      "outputs": [
        {
          "output_type": "stream",
          "name": "stdout",
          "text": [
            "Accuracy: 0.7894736842105263\n",
            "              precision    recall  f1-score   support\n",
            "\n",
            "           n       0.83      0.62      0.71         8\n",
            "           p       0.77      0.91      0.83        11\n",
            "\n",
            "    accuracy                           0.79        19\n",
            "   macro avg       0.80      0.77      0.77        19\n",
            "weighted avg       0.80      0.79      0.78        19\n",
            "\n"
          ]
        }
      ]
    },
    {
      "cell_type": "markdown",
      "source": [
        "# **Lie Detection**"
      ],
      "metadata": {
        "id": "2hGxa9Rhs3qO"
      }
    },
    {
      "cell_type": "markdown",
      "source": [
        "Removal of Stop Words provided a higher accuracy that leaving in place"
      ],
      "metadata": {
        "id": "A1uKl3WBwHDl"
      }
    },
    {
      "cell_type": "code",
      "source": [
        "dfLie['review'] = dfLie['review'].apply(lambda x: ' '.join([word for word in x.split() if word not in (stop)]))"
      ],
      "metadata": {
        "colab": {
          "base_uri": "https://localhost:8080/"
        },
        "id": "0fQlNx1fvALf",
        "outputId": "f20b1ca5-f1ab-4f7b-eac5-b04122c7030e"
      },
      "execution_count": 321,
      "outputs": [
        {
          "output_type": "stream",
          "name": "stderr",
          "text": [
            "<ipython-input-321-56947d643af4>:1: SettingWithCopyWarning: \n",
            "A value is trying to be set on a copy of a slice from a DataFrame.\n",
            "Try using .loc[row_indexer,col_indexer] = value instead\n",
            "\n",
            "See the caveats in the documentation: https://pandas.pydata.org/pandas-docs/stable/user_guide/indexing.html#returning-a-view-versus-a-copy\n",
            "  dfLie['review'] = dfLie['review'].apply(lambda x: ' '.join([word for word in x.split() if word not in (stop)]))\n"
          ]
        }
      ]
    },
    {
      "cell_type": "markdown",
      "source": [
        "Create the test train split (80/20), count vectorize, store labels seperately"
      ],
      "metadata": {
        "id": "ZG3q84HAwLiN"
      }
    },
    {
      "cell_type": "code",
      "source": [
        "\n",
        "\n",
        "count_vec = CountVectorizer()\n",
        "reviewsArr = count_vec.fit_transform(dfLie['review'].tolist())\n",
        "bow = np.array(reviewsArr.todense())\n",
        "\n",
        "x = bow\n",
        "labels = dfLie['lie']"
      ],
      "metadata": {
        "id": "3KokuZoholje"
      },
      "execution_count": 338,
      "outputs": []
    },
    {
      "cell_type": "code",
      "source": [
        "X_train, X_test, y_train, y_test = train_test_split(x, labels, \n",
        "                                                    test_size=0.2)"
      ],
      "metadata": {
        "id": "pDmNbyiiFP6y"
      },
      "execution_count": 339,
      "outputs": []
    },
    {
      "cell_type": "markdown",
      "source": [
        "Check Data Types"
      ],
      "metadata": {
        "id": "-oRpbbjbwQet"
      }
    },
    {
      "cell_type": "code",
      "source": [
        "labels.cat.categories"
      ],
      "metadata": {
        "colab": {
          "base_uri": "https://localhost:8080/"
        },
        "id": "R5kijjtEoziG",
        "outputId": "7b36d759-cf95-4dd8-e9be-4401e461539e"
      },
      "execution_count": 340,
      "outputs": [
        {
          "output_type": "execute_result",
          "data": {
            "text/plain": [
              "Index(['f', 't'], dtype='object')"
            ]
          },
          "metadata": {},
          "execution_count": 340
        }
      ]
    },
    {
      "cell_type": "markdown",
      "source": [
        "Fit the model"
      ],
      "metadata": {
        "id": "papoKeupwzut"
      }
    },
    {
      "cell_type": "code",
      "source": [
        "modelLie = MultinomialNB().fit(X_train, y_train)\n",
        "y_pred = modelLie.predict(X_test)\n"
      ],
      "metadata": {
        "id": "JADRfSKiwzPl"
      },
      "execution_count": 341,
      "outputs": []
    },
    {
      "cell_type": "code",
      "source": [
        "cmlables = [\"Lie\", \"Not Lie\"]\n",
        "cm = confusion_matrix(y_test, y_pred)\n",
        "disp = ConfusionMatrixDisplay(confusion_matrix=cm, display_labels=cmlables)\n",
        "disp.plot();"
      ],
      "metadata": {
        "colab": {
          "base_uri": "https://localhost:8080/",
          "height": 455
        },
        "id": "8aRa2LERDMPC",
        "outputId": "1f570cae-60fd-4a6a-8c56-bf4728ca7f91"
      },
      "execution_count": 342,
      "outputs": [
        {
          "output_type": "display_data",
          "data": {
            "text/plain": [
              "<Figure size 640x480 with 2 Axes>"
            ],
            "image/png": "[encoded data removed]"
          },
          "metadata": {}
        }
      ]
    },
    {
      "cell_type": "code",
      "source": [
        "print('Accuracy:', accuracy_score(y_test, y_pred))\n",
        "print(classification_report(y_test, y_pred))"
      ],
      "metadata": {
        "colab": {
          "base_uri": "https://localhost:8080/"
        },
        "id": "YMQlqg8OCn77",
        "outputId": "27331f22-eecb-4f22-e4b2-911ecc88734e"
      },
      "execution_count": 344,
      "outputs": [
        {
          "output_type": "stream",
          "name": "stdout",
          "text": [
            "Accuracy: 0.5789473684210527\n",
            "              precision    recall  f1-score   support\n",
            "\n",
            "           f       0.64      0.64      0.64        11\n",
            "           t       0.50      0.50      0.50         8\n",
            "\n",
            "    accuracy                           0.58        19\n",
            "   macro avg       0.57      0.57      0.57        19\n",
            "weighted avg       0.58      0.58      0.58        19\n",
            "\n"
          ]
        }
      ]
    }
  ]
}