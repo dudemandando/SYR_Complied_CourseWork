{
  "nbformat": 4,
  "nbformat_minor": 0,
  "metadata": {
    "colab": {
      "provenance": []
    },
    "kernelspec": {
      "name": "python3",
      "display_name": "Python 3"
    },
    "language_info": {
      "name": "python"
    }
  },
  "cells": [
    {
      "cell_type": "code",
      "source": [
        "!pip install quantstats\n",
        "!pip install Riskfolio-Lib"
      ],
      "metadata": {
        "id": "pvJhHtqO49O5",
        "colab": {
          "base_uri": "https://localhost:8080/"
        },
        "outputId": "0531644b-420a-485b-98d6-3423cb795659"
      },
      "execution_count": null,
      "outputs": [
        {
          "output_type": "stream",
          "name": "stdout",
          "text": [
            "Collecting quantstats\n",
            "  Downloading QuantStats-0.0.62-py2.py3-none-any.whl (45 kB)\n",
            "\u001b[2K     \u001b[90m━━━━━━━━━━━━━━━━━━━━━━━━━━━━━━━━━━━━━━━━\u001b[0m \u001b[32m45.5/45.5 kB\u001b[0m \u001b[31m356.8 kB/s\u001b[0m eta \u001b[36m0:00:00\u001b[0m\n",
            "\u001b[?25hRequirement already satisfied: pandas>=0.24.0 in /usr/local/lib/python3.10/dist-packages (from quantstats) (1.5.3)\n",
            "Requirement already satisfied: numpy>=1.16.5 in /usr/local/lib/python3.10/dist-packages (from quantstats) (1.25.2)\n",
            "Requirement already satisfied: seaborn>=0.9.0 in /usr/local/lib/python3.10/dist-packages (from quantstats) (0.13.1)\n",
            "Requirement already satisfied: matplotlib>=3.0.0 in /usr/local/lib/python3.10/dist-packages (from quantstats) (3.7.1)\n",
            "Requirement already satisfied: scipy>=1.2.0 in /usr/local/lib/python3.10/dist-packages (from quantstats) (1.11.4)\n",
            "Requirement already satisfied: tabulate>=0.8.0 in /usr/local/lib/python3.10/dist-packages (from quantstats) (0.9.0)\n",
            "Requirement already satisfied: yfinance>=0.1.70 in /usr/local/lib/python3.10/dist-packages (from quantstats) (0.2.37)\n",
            "Requirement already satisfied: python-dateutil>=2.0 in /usr/local/lib/python3.10/dist-packages (from quantstats) (2.8.2)\n",
            "Requirement already satisfied: contourpy>=1.0.1 in /usr/local/lib/python3.10/dist-packages (from matplotlib>=3.0.0->quantstats) (1.2.0)\n",
            "Requirement already satisfied: cycler>=0.10 in /usr/local/lib/python3.10/dist-packages (from matplotlib>=3.0.0->quantstats) (0.12.1)\n",
            "Requirement already satisfied: fonttools>=4.22.0 in /usr/local/lib/python3.10/dist-packages (from matplotlib>=3.0.0->quantstats) (4.50.0)\n",
            "Requirement already satisfied: kiwisolver>=1.0.1 in /usr/local/lib/python3.10/dist-packages (from matplotlib>=3.0.0->quantstats) (1.4.5)\n",
            "Requirement already satisfied: packaging>=20.0 in /usr/local/lib/python3.10/dist-packages (from matplotlib>=3.0.0->quantstats) (24.0)\n",
            "Requirement already satisfied: pillow>=6.2.0 in /usr/local/lib/python3.10/dist-packages (from matplotlib>=3.0.0->quantstats) (9.4.0)\n",
            "Requirement already satisfied: pyparsing>=2.3.1 in /usr/local/lib/python3.10/dist-packages (from matplotlib>=3.0.0->quantstats) (3.1.2)\n",
            "Requirement already satisfied: pytz>=2020.1 in /usr/local/lib/python3.10/dist-packages (from pandas>=0.24.0->quantstats) (2023.4)\n",
            "Requirement already satisfied: six>=1.5 in /usr/local/lib/python3.10/dist-packages (from python-dateutil>=2.0->quantstats) (1.16.0)\n",
            "Requirement already satisfied: requests>=2.31 in /usr/local/lib/python3.10/dist-packages (from yfinance>=0.1.70->quantstats) (2.31.0)\n",
            "Requirement already satisfied: multitasking>=0.0.7 in /usr/local/lib/python3.10/dist-packages (from yfinance>=0.1.70->quantstats) (0.0.11)\n",
            "Requirement already satisfied: lxml>=4.9.1 in /usr/local/lib/python3.10/dist-packages (from yfinance>=0.1.70->quantstats) (4.9.4)\n",
            "Requirement already satisfied: appdirs>=1.4.4 in /usr/local/lib/python3.10/dist-packages (from yfinance>=0.1.70->quantstats) (1.4.4)\n",
            "Requirement already satisfied: frozendict>=2.3.4 in /usr/local/lib/python3.10/dist-packages (from yfinance>=0.1.70->quantstats) (2.4.0)\n",
            "Requirement already satisfied: peewee>=3.16.2 in /usr/local/lib/python3.10/dist-packages (from yfinance>=0.1.70->quantstats) (3.17.1)\n",
            "Requirement already satisfied: beautifulsoup4>=4.11.1 in /usr/local/lib/python3.10/dist-packages (from yfinance>=0.1.70->quantstats) (4.12.3)\n",
            "Requirement already satisfied: html5lib>=1.1 in /usr/local/lib/python3.10/dist-packages (from yfinance>=0.1.70->quantstats) (1.1)\n",
            "Requirement already satisfied: soupsieve>1.2 in /usr/local/lib/python3.10/dist-packages (from beautifulsoup4>=4.11.1->yfinance>=0.1.70->quantstats) (2.5)\n",
            "Requirement already satisfied: webencodings in /usr/local/lib/python3.10/dist-packages (from html5lib>=1.1->yfinance>=0.1.70->quantstats) (0.5.1)\n",
            "Requirement already satisfied: charset-normalizer<4,>=2 in /usr/local/lib/python3.10/dist-packages (from requests>=2.31->yfinance>=0.1.70->quantstats) (3.3.2)\n",
            "Requirement already satisfied: idna<4,>=2.5 in /usr/local/lib/python3.10/dist-packages (from requests>=2.31->yfinance>=0.1.70->quantstats) (3.6)\n",
            "Requirement already satisfied: urllib3<3,>=1.21.1 in /usr/local/lib/python3.10/dist-packages (from requests>=2.31->yfinance>=0.1.70->quantstats) (2.0.7)\n",
            "Requirement already satisfied: certifi>=2017.4.17 in /usr/local/lib/python3.10/dist-packages (from requests>=2.31->yfinance>=0.1.70->quantstats) (2024.2.2)\n",
            "Installing collected packages: quantstats\n",
            "Successfully installed quantstats-0.0.62\n",
            "Collecting Riskfolio-Lib\n",
            "  Downloading Riskfolio_Lib-6.0.0-cp310-cp310-manylinux_2_17_x86_64.manylinux2014_x86_64.whl (300 kB)\n",
            "\u001b[2K     \u001b[90m━━━━━━━━━━━━━━━━━━━━━━━━━━━━━━━━━━━━━━━━\u001b[0m \u001b[32m301.0/301.0 kB\u001b[0m \u001b[31m3.9 MB/s\u001b[0m eta \u001b[36m0:00:00\u001b[0m\n",
            "\u001b[?25hRequirement already satisfied: numpy>=1.24.0 in /usr/local/lib/python3.10/dist-packages (from Riskfolio-Lib) (1.25.2)\n",
            "Requirement already satisfied: scipy>=1.10.0 in /usr/local/lib/python3.10/dist-packages (from Riskfolio-Lib) (1.11.4)\n",
            "Collecting pandas>=2.0.0 (from Riskfolio-Lib)\n",
            "  Downloading pandas-2.2.1-cp310-cp310-manylinux_2_17_x86_64.manylinux2014_x86_64.whl (13.0 MB)\n",
            "\u001b[2K     \u001b[90m━━━━━━━━━━━━━━━━━━━━━━━━━━━━━━━━━━━━━━━━\u001b[0m \u001b[32m13.0/13.0 MB\u001b[0m \u001b[31m25.0 MB/s\u001b[0m eta \u001b[36m0:00:00\u001b[0m\n",
            "\u001b[?25hRequirement already satisfied: matplotlib>=3.7.0 in /usr/local/lib/python3.10/dist-packages (from Riskfolio-Lib) (3.7.1)\n",
            "Collecting clarabel>=0.6.0 (from Riskfolio-Lib)\n",
            "  Downloading clarabel-0.7.1-cp37-abi3-manylinux_2_17_x86_64.manylinux2014_x86_64.whl (1.3 MB)\n",
            "\u001b[2K     \u001b[90m━━━━━━━━━━━━━━━━━━━━━━━━━━━━━━━━━━━━━━━━\u001b[0m \u001b[32m1.3/1.3 MB\u001b[0m \u001b[31m39.5 MB/s\u001b[0m eta \u001b[36m0:00:00\u001b[0m\n",
            "\u001b[?25hCollecting cvxpy>=1.4.0 (from Riskfolio-Lib)\n",
            "  Downloading cvxpy-1.4.2-cp310-cp310-manylinux_2_17_x86_64.manylinux2014_x86_64.whl (1.2 MB)\n",
            "\u001b[2K     \u001b[90m━━━━━━━━━━━━━━━━━━━━━━━━━━━━━━━━━━━━━━━━\u001b[0m \u001b[32m1.2/1.2 MB\u001b[0m \u001b[31m35.5 MB/s\u001b[0m eta \u001b[36m0:00:00\u001b[0m\n",
            "\u001b[?25hCollecting scikit-learn>=1.3.0 (from Riskfolio-Lib)\n",
            "  Downloading scikit_learn-1.4.1.post1-cp310-cp310-manylinux_2_17_x86_64.manylinux2014_x86_64.whl (12.1 MB)\n",
            "\u001b[2K     \u001b[90m━━━━━━━━━━━━━━━━━━━━━━━━━━━━━━━━━━━━━━━━\u001b[0m \u001b[32m12.1/12.1 MB\u001b[0m \u001b[31m21.7 MB/s\u001b[0m eta \u001b[36m0:00:00\u001b[0m\n",
            "\u001b[?25hRequirement already satisfied: statsmodels>=0.13.5 in /usr/local/lib/python3.10/dist-packages (from Riskfolio-Lib) (0.14.1)\n",
            "Collecting arch>=5.4 (from Riskfolio-Lib)\n",
            "  Downloading arch-6.3.0-cp310-cp310-manylinux_2_17_x86_64.manylinux2014_x86_64.whl (982 kB)\n",
            "\u001b[2K     \u001b[90m━━━━━━━━━━━━━━━━━━━━━━━━━━━━━━━━━━━━━━━━\u001b[0m \u001b[32m983.0/983.0 kB\u001b[0m \u001b[31m49.0 MB/s\u001b[0m eta \u001b[36m0:00:00\u001b[0m\n",
            "\u001b[?25hCollecting xlsxwriter>=3.1.2 (from Riskfolio-Lib)\n",
            "  Downloading XlsxWriter-3.2.0-py3-none-any.whl (159 kB)\n",
            "\u001b[2K     \u001b[90m━━━━━━━━━━━━━━━━━━━━━━━━━━━━━━━━━━━━━━━━\u001b[0m \u001b[32m159.9/159.9 kB\u001b[0m \u001b[31m19.8 MB/s\u001b[0m eta \u001b[36m0:00:00\u001b[0m\n",
            "\u001b[?25hRequirement already satisfied: networkx>=3.0 in /usr/local/lib/python3.10/dist-packages (from Riskfolio-Lib) (3.2.1)\n",
            "Requirement already satisfied: astropy>=5.1 in /usr/local/lib/python3.10/dist-packages (from Riskfolio-Lib) (5.3.4)\n",
            "Collecting pybind11>=2.10.1 (from Riskfolio-Lib)\n",
            "  Downloading pybind11-2.11.1-py3-none-any.whl (227 kB)\n",
            "\u001b[2K     \u001b[90m━━━━━━━━━━━━━━━━━━━━━━━━━━━━━━━━━━━━━━━━\u001b[0m \u001b[32m227.7/227.7 kB\u001b[0m \u001b[31m24.1 MB/s\u001b[0m eta \u001b[36m0:00:00\u001b[0m\n",
            "\u001b[?25hRequirement already satisfied: pyerfa>=2.0 in /usr/local/lib/python3.10/dist-packages (from astropy>=5.1->Riskfolio-Lib) (2.0.1.1)\n",
            "Requirement already satisfied: PyYAML>=3.13 in /usr/local/lib/python3.10/dist-packages (from astropy>=5.1->Riskfolio-Lib) (6.0.1)\n",
            "Requirement already satisfied: packaging>=19.0 in /usr/local/lib/python3.10/dist-packages (from astropy>=5.1->Riskfolio-Lib) (24.0)\n",
            "Requirement already satisfied: osqp>=0.6.2 in /usr/local/lib/python3.10/dist-packages (from cvxpy>=1.4.0->Riskfolio-Lib) (0.6.2.post8)\n",
            "Requirement already satisfied: ecos>=2 in /usr/local/lib/python3.10/dist-packages (from cvxpy>=1.4.0->Riskfolio-Lib) (2.0.13)\n",
            "Requirement already satisfied: scs>=3.0 in /usr/local/lib/python3.10/dist-packages (from cvxpy>=1.4.0->Riskfolio-Lib) (3.2.4.post1)\n",
            "Requirement already satisfied: contourpy>=1.0.1 in /usr/local/lib/python3.10/dist-packages (from matplotlib>=3.7.0->Riskfolio-Lib) (1.2.0)\n",
            "Requirement already satisfied: cycler>=0.10 in /usr/local/lib/python3.10/dist-packages (from matplotlib>=3.7.0->Riskfolio-Lib) (0.12.1)\n",
            "Requirement already satisfied: fonttools>=4.22.0 in /usr/local/lib/python3.10/dist-packages (from matplotlib>=3.7.0->Riskfolio-Lib) (4.50.0)\n",
            "Requirement already satisfied: kiwisolver>=1.0.1 in /usr/local/lib/python3.10/dist-packages (from matplotlib>=3.7.0->Riskfolio-Lib) (1.4.5)\n",
            "Requirement already satisfied: pillow>=6.2.0 in /usr/local/lib/python3.10/dist-packages (from matplotlib>=3.7.0->Riskfolio-Lib) (9.4.0)\n",
            "Requirement already satisfied: pyparsing>=2.3.1 in /usr/local/lib/python3.10/dist-packages (from matplotlib>=3.7.0->Riskfolio-Lib) (3.1.2)\n",
            "Requirement already satisfied: python-dateutil>=2.7 in /usr/local/lib/python3.10/dist-packages (from matplotlib>=3.7.0->Riskfolio-Lib) (2.8.2)\n",
            "Requirement already satisfied: pytz>=2020.1 in /usr/local/lib/python3.10/dist-packages (from pandas>=2.0.0->Riskfolio-Lib) (2023.4)\n",
            "Collecting tzdata>=2022.7 (from pandas>=2.0.0->Riskfolio-Lib)\n",
            "  Downloading tzdata-2024.1-py2.py3-none-any.whl (345 kB)\n",
            "\u001b[2K     \u001b[90m━━━━━━━━━━━━━━━━━━━━━━━━━━━━━━━━━━━━━━━━\u001b[0m \u001b[32m345.4/345.4 kB\u001b[0m \u001b[31m37.4 MB/s\u001b[0m eta \u001b[36m0:00:00\u001b[0m\n",
            "\u001b[?25hRequirement already satisfied: joblib>=1.2.0 in /usr/local/lib/python3.10/dist-packages (from scikit-learn>=1.3.0->Riskfolio-Lib) (1.3.2)\n",
            "Requirement already satisfied: threadpoolctl>=2.0.0 in /usr/local/lib/python3.10/dist-packages (from scikit-learn>=1.3.0->Riskfolio-Lib) (3.3.0)\n",
            "Requirement already satisfied: patsy>=0.5.4 in /usr/local/lib/python3.10/dist-packages (from statsmodels>=0.13.5->Riskfolio-Lib) (0.5.6)\n",
            "Requirement already satisfied: qdldl in /usr/local/lib/python3.10/dist-packages (from osqp>=0.6.2->cvxpy>=1.4.0->Riskfolio-Lib) (0.1.7.post0)\n",
            "Requirement already satisfied: six in /usr/local/lib/python3.10/dist-packages (from patsy>=0.5.4->statsmodels>=0.13.5->Riskfolio-Lib) (1.16.0)\n",
            "Installing collected packages: xlsxwriter, tzdata, pybind11, scikit-learn, pandas, clarabel, cvxpy, arch, Riskfolio-Lib\n",
            "  Attempting uninstall: scikit-learn\n",
            "    Found existing installation: scikit-learn 1.2.2\n",
            "    Uninstalling scikit-learn-1.2.2:\n",
            "      Successfully uninstalled scikit-learn-1.2.2\n",
            "  Attempting uninstall: pandas\n",
            "    Found existing installation: pandas 1.5.3\n",
            "    Uninstalling pandas-1.5.3:\n",
            "      Successfully uninstalled pandas-1.5.3\n",
            "  Attempting uninstall: cvxpy\n",
            "    Found existing installation: cvxpy 1.3.3\n",
            "    Uninstalling cvxpy-1.3.3:\n",
            "      Successfully uninstalled cvxpy-1.3.3\n",
            "\u001b[31mERROR: pip's dependency resolver does not currently take into account all the packages that are installed. This behaviour is the source of the following dependency conflicts.\n",
            "bigframes 0.26.0 requires pandas<2.1.4,>=1.5.0, but you have pandas 2.2.1 which is incompatible.\n",
            "google-colab 1.0.0 requires pandas==1.5.3, but you have pandas 2.2.1 which is incompatible.\u001b[0m\u001b[31m\n",
            "\u001b[0mSuccessfully installed Riskfolio-Lib-6.0.0 arch-6.3.0 clarabel-0.7.1 cvxpy-1.4.2 pandas-2.2.1 pybind11-2.11.1 scikit-learn-1.4.1.post1 tzdata-2024.1 xlsxwriter-3.2.0\n"
          ]
        }
      ]
    },
    {
      "cell_type": "code",
      "execution_count": null,
      "metadata": {
        "id": "INpT-xiP43_a"
      },
      "outputs": [],
      "source": [
        " import yfinance as yf\n",
        " import pandas as pd\n",
        " import quantstats as qs\n",
        " import riskfolio as rp"
      ]
    },
    {
      "cell_type": "code",
      "source": [
        "def MONTHLY_RETURNS( SYMBOLS , FROM , TO ) :\n",
        "  from yfinance import download\n",
        "  DATA = download( tickers=SYMBOLS , start=FROM , end=TO )\n",
        "  ADJUSTED = DATA[\"Adj Close\"]\n",
        "  return ADJUSTED.resample( rule=\"M\" ).last().pct_change().dropna()\n",
        "\n",
        "def GetWeightsFromDollarAmounts(valuesList):\n",
        "  totalMonies = sum(valuesList)\n",
        "  weightList = []\n",
        "  y = 0\n",
        "  for x in valuesList:\n",
        "    weightList.append(x/totalMonies)\n",
        "    y = y +1\n",
        "  print(\"Total: \", totalMonies)\n",
        "  print(\"Weights: \", weightList)\n",
        "  return weightList\n",
        "\n",
        "def TreasuryBillMonthReturn(price, parValue, months):\n",
        "  return (((parValue - price) / price)*100/months)\n"
      ],
      "metadata": {
        "id": "bYDD3KTR5ECC"
      },
      "execution_count": null,
      "outputs": []
    },
    {
      "cell_type": "code",
      "source": [
        "round(TreasuryBillMonthReturn(96.65,100,6),2)\n"
      ],
      "metadata": {
        "colab": {
          "base_uri": "https://localhost:8080/"
        },
        "id": "xJ9wQGEVAwLp",
        "outputId": "2d0c5892-5531-4d38-dbe1-f02428d256e5"
      },
      "execution_count": null,
      "outputs": [
        {
          "output_type": "execute_result",
          "data": {
            "text/plain": [
              "0.58"
            ]
          },
          "metadata": {},
          "execution_count": 4
        }
      ]
    },
    {
      "cell_type": "code",
      "source": [
        "histMonthly = MONTHLY_RETURNS([\"BRK-A\", \"DOGE-USD\",\"GLD\"], \"2018-12-31\", \"2024-1-1\")"
      ],
      "metadata": {
        "colab": {
          "base_uri": "https://localhost:8080/"
        },
        "id": "PF44fHnr5ORO",
        "outputId": "965d1075-7c40-478a-e69c-5c02a1935001"
      },
      "execution_count": null,
      "outputs": [
        {
          "output_type": "stream",
          "name": "stderr",
          "text": [
            "[*********************100%%**********************]  3 of 3 completed\n",
            "<ipython-input-3-3b2f1ab54fe5>:5: FutureWarning: 'M' is deprecated and will be removed in a future version, please use 'ME' instead.\n",
            "  return ADJUSTED.resample( rule=\"M\" ).last().pct_change().dropna()\n"
          ]
        }
      ]
    },
    {
      "cell_type": "code",
      "source": [
        "GoldDogeBerk = histMonthly"
      ],
      "metadata": {
        "id": "9o5LJD35_6S4"
      },
      "execution_count": null,
      "outputs": []
    },
    {
      "cell_type": "markdown",
      "source": [
        "## **Question 3**\n",
        "Suppose you will invest $12,000 in \"DOGE-USD\", $8,000 in BRK-A, and $20,000 in GLD.\n",
        "\n",
        "Use the historic data and compute the monthly Sharpe Ratio of this portfolio.\n",
        "\n",
        "Assume that the monthly risk-free rate is 0.1%.\n",
        "\n",
        "Use standard deviation of monthly returns as the measure of risk.\n",
        "Based on the historic data, what is the monthly Sharpe Ratio of this portfolio?\n",
        "\n",
        "Round your answer to 2 decimal places."
      ],
      "metadata": {
        "id": "XxhrVbEyEEOW"
      }
    },
    {
      "cell_type": "code",
      "source": [
        "weights = GetWeightsFromDollarAmounts([8000,12000,20000])"
      ],
      "metadata": {
        "colab": {
          "base_uri": "https://localhost:8080/"
        },
        "id": "vMykDZV_5b-y",
        "outputId": "671798d3-3040-42eb-d4af-f99646fdfa4b"
      },
      "execution_count": null,
      "outputs": [
        {
          "output_type": "stream",
          "name": "stdout",
          "text": [
            "Total:  40000\n",
            "Weights:  [0.2, 0.3, 0.5]\n"
          ]
        }
      ]
    },
    {
      "cell_type": "code",
      "source": [
        "GoldDogeBerk = histMonthly\n",
        "GoldDogeBerkWeights =  GoldDogeBerk.dot(weights)\n",
        "GoldDogeBerk['Std. Dev.'] = GoldDogeBerkWeights\n",
        "GoldDogeBerk"
      ],
      "metadata": {
        "colab": {
          "base_uri": "https://localhost:8080/",
          "height": 1000
        },
        "id": "zcZyCff09gNQ",
        "outputId": "d2f379d3-73aa-4b91-8f7e-474e5429596b"
      },
      "execution_count": null,
      "outputs": [
        {
          "output_type": "execute_result",
          "data": {
            "text/plain": [
              "Ticker         BRK-A  DOGE-USD       GLD  Std. Dev.\n",
              "Date                                               \n",
              "2019-01-31  0.017974 -0.179454  0.028866  -0.035809\n",
              "2019-02-28 -0.029856  0.026493 -0.006092  -0.001069\n",
              "2019-03-31 -0.003259  0.052632 -0.015969   0.007153\n",
              "2019-04-30  0.079229  0.208173 -0.006639   0.074978\n",
              "2019-05-31 -0.086194  0.369280  0.017574   0.102332\n",
              "2019-06-30  0.071669 -0.053182  0.080029   0.038394\n",
              "2019-07-31 -0.030419 -0.110190  0.000075  -0.039103\n",
              "2019-08-31 -0.018104 -0.133839  0.079123  -0.004211\n",
              "2019-09-30  0.028884 -0.049383 -0.033948  -0.026012\n",
              "2019-10-31  0.022791  0.095517  0.025635   0.046031\n",
              "2019-11-30  0.036233 -0.112811 -0.032086  -0.042640\n",
              "2019-12-31  0.027519 -0.125862  0.036559  -0.013975\n",
              "2020-01-31 -0.010583  0.180473  0.044997   0.074524\n",
              "2020-02-29 -0.080060 -0.066416 -0.006362  -0.039118\n",
              "2020-03-31 -0.120014 -0.189709 -0.002224  -0.082028\n",
              "2020-04-30  0.035662  0.348978  0.072611   0.148131\n",
              "2020-05-31 -0.010863  0.045845  0.025882   0.024522\n",
              "2020-06-30 -0.040698 -0.091976  0.027377  -0.022044\n",
              "2020-07-31  0.098507  0.390086  0.107905   0.190680\n",
              "2020-08-31  0.115550 -0.001240 -0.003236   0.021120\n",
              "2020-09-30 -0.023077 -0.183483 -0.041714  -0.080517\n",
              "2020-10-31 -0.054690 -0.020532 -0.005194  -0.019695\n",
              "2020-11-30  0.136159  0.378494 -0.054086   0.113737\n",
              "2020-12-31  0.012008  0.318502  0.070139   0.133021\n",
              "2021-01-31 -0.010681  6.944468 -0.032238   2.065085\n",
              "2021-02-28  0.059518  0.291859 -0.062569   0.068177\n",
              "2021-03-31  0.057935  0.116644 -0.011433   0.040864\n",
              "2021-04-30  0.069479  5.291090  0.035634   1.619040\n",
              "2021-05-31  0.056970 -0.034812  0.076784   0.039342\n",
              "2021-06-30 -0.039906 -0.219745 -0.071477  -0.109643\n",
              "2021-07-31  0.000714 -0.180560  0.025297  -0.041376\n",
              "2021-08-31  0.026259  0.336698 -0.000766   0.105879\n",
              "2021-09-30 -0.043082 -0.266505 -0.032235  -0.104685\n",
              "2021-10-31  0.052319  0.372104  0.014797   0.129494\n",
              "2021-11-30 -0.037020 -0.233828 -0.006901  -0.081003\n",
              "2021-12-31  0.081046 -0.205943  0.032991  -0.029078\n",
              "2022-01-31  0.042478 -0.168280 -0.016788  -0.050382\n",
              "2022-02-28  0.013623 -0.060992  0.061217   0.015036\n",
              "2022-03-31  0.110700  0.035072  0.012726   0.039024\n",
              "2022-04-30 -0.084287 -0.074507 -0.020703  -0.049561\n",
              "2022-05-31 -0.021245 -0.326850 -0.032615  -0.118612\n",
              "2022-06-30 -0.137327 -0.230350 -0.015660  -0.104400\n",
              "2022-07-31  0.104536  0.033078 -0.025882   0.017890\n",
              "2022-08-31 -0.067284 -0.101682 -0.029433  -0.058678\n",
              "2022-09-30 -0.035219  0.005267 -0.028882  -0.019905\n",
              "2022-10-31  0.094915  1.060338 -0.017844   0.328162\n",
              "2022-11-30  0.079160 -0.158755  0.084919   0.010665\n",
              "2022-12-31 -0.024088 -0.342186  0.029306  -0.092820\n",
              "2023-01-31  0.009151  0.368068  0.057593   0.141047\n",
              "2023-02-28 -0.020032 -0.160325 -0.053676  -0.078942\n",
              "2023-03-31  0.004477 -0.045994  0.079161   0.026678\n",
              "2023-04-30  0.080069  0.035490  0.008624   0.030973\n",
              "2023-05-31 -0.029542 -0.101656 -0.013420  -0.043115\n",
              "2023-06-30  0.061034 -0.072300 -0.022214  -0.020590\n",
              "2023-07-31  0.033970  0.170565  0.022887   0.069407\n",
              "2023-08-31  0.021152 -0.180331 -0.012778  -0.056258\n",
              "2023-09-30 -0.027890 -0.025774 -0.047606  -0.037113\n",
              "2023-10-31 -0.025687  0.098743  0.073724   0.061348\n",
              "2023-11-30  0.054217  0.221744  0.025314   0.090023\n",
              "2023-12-31 -0.005999  0.072587  0.012821   0.026987"
            ],
            "text/html": [
              "\n",
              "  <div id=\"df-4b6feab5-3c64-4025-a8c0-3e7c681f4725\" class=\"colab-df-container\">\n",
              "    <div>\n",
              "<style scoped>\n",
              "    .dataframe tbody tr th:only-of-type {\n",
              "        vertical-align: middle;\n",
              "    }\n",
              "\n",
              "    .dataframe tbody tr th {\n",
              "        vertical-align: top;\n",
              "    }\n",
              "\n",
              "    .dataframe thead th {\n",
              "        text-align: right;\n",
              "    }\n",
              "</style>\n",
              "<table border=\"1\" class=\"dataframe\">\n",
              "  <thead>\n",
              "    <tr style=\"text-align: right;\">\n",
              "      <th>Ticker</th>\n",
              "      <th>BRK-A</th>\n",
              "      <th>DOGE-USD</th>\n",
              "      <th>GLD</th>\n",
              "      <th>Std. Dev.</th>\n",
              "    </tr>\n",
              "    <tr>\n",
              "      <th>Date</th>\n",
              "      <th></th>\n",
              "      <th></th>\n",
              "      <th></th>\n",
              "      <th></th>\n",
              "    </tr>\n",
              "  </thead>\n",
              "  <tbody>\n",
              "    <tr>\n",
              "      <th>2019-01-31</th>\n",
              "      <td>0.017974</td>\n",
              "      <td>-0.179454</td>\n",
              "      <td>0.028866</td>\n",
              "      <td>-0.035809</td>\n",
              "    </tr>\n",
              "    <tr>\n",
              "      <th>2019-02-28</th>\n",
              "      <td>-0.029856</td>\n",
              "      <td>0.026493</td>\n",
              "      <td>-0.006092</td>\n",
              "      <td>-0.001069</td>\n",
              "    </tr>\n",
              "    <tr>\n",
              "      <th>2019-03-31</th>\n",
              "      <td>-0.003259</td>\n",
              "      <td>0.052632</td>\n",
              "      <td>-0.015969</td>\n",
              "      <td>0.007153</td>\n",
              "    </tr>\n",
              "    <tr>\n",
              "      <th>2019-04-30</th>\n",
              "      <td>0.079229</td>\n",
              "      <td>0.208173</td>\n",
              "      <td>-0.006639</td>\n",
              "      <td>0.074978</td>\n",
              "    </tr>\n",
              "    <tr>\n",
              "      <th>2019-05-31</th>\n",
              "      <td>-0.086194</td>\n",
              "      <td>0.369280</td>\n",
              "      <td>0.017574</td>\n",
              "      <td>0.102332</td>\n",
              "    </tr>\n",
              "    <tr>\n",
              "      <th>2019-06-30</th>\n",
              "      <td>0.071669</td>\n",
              "      <td>-0.053182</td>\n",
              "      <td>0.080029</td>\n",
              "      <td>0.038394</td>\n",
              "    </tr>\n",
              "    <tr>\n",
              "      <th>2019-07-31</th>\n",
              "      <td>-0.030419</td>\n",
              "      <td>-0.110190</td>\n",
              "      <td>0.000075</td>\n",
              "      <td>-0.039103</td>\n",
              "    </tr>\n",
              "    <tr>\n",
              "      <th>2019-08-31</th>\n",
              "      <td>-0.018104</td>\n",
              "      <td>-0.133839</td>\n",
              "      <td>0.079123</td>\n",
              "      <td>-0.004211</td>\n",
              "    </tr>\n",
              "    <tr>\n",
              "      <th>2019-09-30</th>\n",
              "      <td>0.028884</td>\n",
              "      <td>-0.049383</td>\n",
              "      <td>-0.033948</td>\n",
              "      <td>-0.026012</td>\n",
              "    </tr>\n",
              "    <tr>\n",
              "      <th>2019-10-31</th>\n",
              "      <td>0.022791</td>\n",
              "      <td>0.095517</td>\n",
              "      <td>0.025635</td>\n",
              "      <td>0.046031</td>\n",
              "    </tr>\n",
              "    <tr>\n",
              "      <th>2019-11-30</th>\n",
              "      <td>0.036233</td>\n",
              "      <td>-0.112811</td>\n",
              "      <td>-0.032086</td>\n",
              "      <td>-0.042640</td>\n",
              "    </tr>\n",
              "    <tr>\n",
              "      <th>2019-12-31</th>\n",
              "      <td>0.027519</td>\n",
              "      <td>-0.125862</td>\n",
              "      <td>0.036559</td>\n",
              "      <td>-0.013975</td>\n",
              "    </tr>\n",
              "    <tr>\n",
              "      <th>2020-01-31</th>\n",
              "      <td>-0.010583</td>\n",
              "      <td>0.180473</td>\n",
              "      <td>0.044997</td>\n",
              "      <td>0.074524</td>\n",
              "    </tr>\n",
              "    <tr>\n",
              "      <th>2020-02-29</th>\n",
              "      <td>-0.080060</td>\n",
              "      <td>-0.066416</td>\n",
              "      <td>-0.006362</td>\n",
              "      <td>-0.039118</td>\n",
              "    </tr>\n",
              "    <tr>\n",
              "      <th>2020-03-31</th>\n",
              "      <td>-0.120014</td>\n",
              "      <td>-0.189709</td>\n",
              "      <td>-0.002224</td>\n",
              "      <td>-0.082028</td>\n",
              "    </tr>\n",
              "    <tr>\n",
              "      <th>2020-04-30</th>\n",
              "      <td>0.035662</td>\n",
              "      <td>0.348978</td>\n",
              "      <td>0.072611</td>\n",
              "      <td>0.148131</td>\n",
              "    </tr>\n",
              "    <tr>\n",
              "      <th>2020-05-31</th>\n",
              "      <td>-0.010863</td>\n",
              "      <td>0.045845</td>\n",
              "      <td>0.025882</td>\n",
              "      <td>0.024522</td>\n",
              "    </tr>\n",
              "    <tr>\n",
              "      <th>2020-06-30</th>\n",
              "      <td>-0.040698</td>\n",
              "      <td>-0.091976</td>\n",
              "      <td>0.027377</td>\n",
              "      <td>-0.022044</td>\n",
              "    </tr>\n",
              "    <tr>\n",
              "      <th>2020-07-31</th>\n",
              "      <td>0.098507</td>\n",
              "      <td>0.390086</td>\n",
              "      <td>0.107905</td>\n",
              "      <td>0.190680</td>\n",
              "    </tr>\n",
              "    <tr>\n",
              "      <th>2020-08-31</th>\n",
              "      <td>0.115550</td>\n",
              "      <td>-0.001240</td>\n",
              "      <td>-0.003236</td>\n",
              "      <td>0.021120</td>\n",
              "    </tr>\n",
              "    <tr>\n",
              "      <th>2020-09-30</th>\n",
              "      <td>-0.023077</td>\n",
              "      <td>-0.183483</td>\n",
              "      <td>-0.041714</td>\n",
              "      <td>-0.080517</td>\n",
              "    </tr>\n",
              "    <tr>\n",
              "      <th>2020-10-31</th>\n",
              "      <td>-0.054690</td>\n",
              "      <td>-0.020532</td>\n",
              "      <td>-0.005194</td>\n",
              "      <td>-0.019695</td>\n",
              "    </tr>\n",
              "    <tr>\n",
              "      <th>2020-11-30</th>\n",
              "      <td>0.136159</td>\n",
              "      <td>0.378494</td>\n",
              "      <td>-0.054086</td>\n",
              "      <td>0.113737</td>\n",
              "    </tr>\n",
              "    <tr>\n",
              "      <th>2020-12-31</th>\n",
              "      <td>0.012008</td>\n",
              "      <td>0.318502</td>\n",
              "      <td>0.070139</td>\n",
              "      <td>0.133021</td>\n",
              "    </tr>\n",
              "    <tr>\n",
              "      <th>2021-01-31</th>\n",
              "      <td>-0.010681</td>\n",
              "      <td>6.944468</td>\n",
              "      <td>-0.032238</td>\n",
              "      <td>2.065085</td>\n",
              "    </tr>\n",
              "    <tr>\n",
              "      <th>2021-02-28</th>\n",
              "      <td>0.059518</td>\n",
              "      <td>0.291859</td>\n",
              "      <td>-0.062569</td>\n",
              "      <td>0.068177</td>\n",
              "    </tr>\n",
              "    <tr>\n",
              "      <th>2021-03-31</th>\n",
              "      <td>0.057935</td>\n",
              "      <td>0.116644</td>\n",
              "      <td>-0.011433</td>\n",
              "      <td>0.040864</td>\n",
              "    </tr>\n",
              "    <tr>\n",
              "      <th>2021-04-30</th>\n",
              "      <td>0.069479</td>\n",
              "      <td>5.291090</td>\n",
              "      <td>0.035634</td>\n",
              "      <td>1.619040</td>\n",
              "    </tr>\n",
              "    <tr>\n",
              "      <th>2021-05-31</th>\n",
              "      <td>0.056970</td>\n",
              "      <td>-0.034812</td>\n",
              "      <td>0.076784</td>\n",
              "      <td>0.039342</td>\n",
              "    </tr>\n",
              "    <tr>\n",
              "      <th>2021-06-30</th>\n",
              "      <td>-0.039906</td>\n",
              "      <td>-0.219745</td>\n",
              "      <td>-0.071477</td>\n",
              "      <td>-0.109643</td>\n",
              "    </tr>\n",
              "    <tr>\n",
              "      <th>2021-07-31</th>\n",
              "      <td>0.000714</td>\n",
              "      <td>-0.180560</td>\n",
              "      <td>0.025297</td>\n",
              "      <td>-0.041376</td>\n",
              "    </tr>\n",
              "    <tr>\n",
              "      <th>2021-08-31</th>\n",
              "      <td>0.026259</td>\n",
              "      <td>0.336698</td>\n",
              "      <td>-0.000766</td>\n",
              "      <td>0.105879</td>\n",
              "    </tr>\n",
              "    <tr>\n",
              "      <th>2021-09-30</th>\n",
              "      <td>-0.043082</td>\n",
              "      <td>-0.266505</td>\n",
              "      <td>-0.032235</td>\n",
              "      <td>-0.104685</td>\n",
              "    </tr>\n",
              "    <tr>\n",
              "      <th>2021-10-31</th>\n",
              "      <td>0.052319</td>\n",
              "      <td>0.372104</td>\n",
              "      <td>0.014797</td>\n",
              "      <td>0.129494</td>\n",
              "    </tr>\n",
              "    <tr>\n",
              "      <th>2021-11-30</th>\n",
              "      <td>-0.037020</td>\n",
              "      <td>-0.233828</td>\n",
              "      <td>-0.006901</td>\n",
              "      <td>-0.081003</td>\n",
              "    </tr>\n",
              "    <tr>\n",
              "      <th>2021-12-31</th>\n",
              "      <td>0.081046</td>\n",
              "      <td>-0.205943</td>\n",
              "      <td>0.032991</td>\n",
              "      <td>-0.029078</td>\n",
              "    </tr>\n",
              "    <tr>\n",
              "      <th>2022-01-31</th>\n",
              "      <td>0.042478</td>\n",
              "      <td>-0.168280</td>\n",
              "      <td>-0.016788</td>\n",
              "      <td>-0.050382</td>\n",
              "    </tr>\n",
              "    <tr>\n",
              "      <th>2022-02-28</th>\n",
              "      <td>0.013623</td>\n",
              "      <td>-0.060992</td>\n",
              "      <td>0.061217</td>\n",
              "      <td>0.015036</td>\n",
              "    </tr>\n",
              "    <tr>\n",
              "      <th>2022-03-31</th>\n",
              "      <td>0.110700</td>\n",
              "      <td>0.035072</td>\n",
              "      <td>0.012726</td>\n",
              "      <td>0.039024</td>\n",
              "    </tr>\n",
              "    <tr>\n",
              "      <th>2022-04-30</th>\n",
              "      <td>-0.084287</td>\n",
              "      <td>-0.074507</td>\n",
              "      <td>-0.020703</td>\n",
              "      <td>-0.049561</td>\n",
              "    </tr>\n",
              "    <tr>\n",
              "      <th>2022-05-31</th>\n",
              "      <td>-0.021245</td>\n",
              "      <td>-0.326850</td>\n",
              "      <td>-0.032615</td>\n",
              "      <td>-0.118612</td>\n",
              "    </tr>\n",
              "    <tr>\n",
              "      <th>2022-06-30</th>\n",
              "      <td>-0.137327</td>\n",
              "      <td>-0.230350</td>\n",
              "      <td>-0.015660</td>\n",
              "      <td>-0.104400</td>\n",
              "    </tr>\n",
              "    <tr>\n",
              "      <th>2022-07-31</th>\n",
              "      <td>0.104536</td>\n",
              "      <td>0.033078</td>\n",
              "      <td>-0.025882</td>\n",
              "      <td>0.017890</td>\n",
              "    </tr>\n",
              "    <tr>\n",
              "      <th>2022-08-31</th>\n",
              "      <td>-0.067284</td>\n",
              "      <td>-0.101682</td>\n",
              "      <td>-0.029433</td>\n",
              "      <td>-0.058678</td>\n",
              "    </tr>\n",
              "    <tr>\n",
              "      <th>2022-09-30</th>\n",
              "      <td>-0.035219</td>\n",
              "      <td>0.005267</td>\n",
              "      <td>-0.028882</td>\n",
              "      <td>-0.019905</td>\n",
              "    </tr>\n",
              "    <tr>\n",
              "      <th>2022-10-31</th>\n",
              "      <td>0.094915</td>\n",
              "      <td>1.060338</td>\n",
              "      <td>-0.017844</td>\n",
              "      <td>0.328162</td>\n",
              "    </tr>\n",
              "    <tr>\n",
              "      <th>2022-11-30</th>\n",
              "      <td>0.079160</td>\n",
              "      <td>-0.158755</td>\n",
              "      <td>0.084919</td>\n",
              "      <td>0.010665</td>\n",
              "    </tr>\n",
              "    <tr>\n",
              "      <th>2022-12-31</th>\n",
              "      <td>-0.024088</td>\n",
              "      <td>-0.342186</td>\n",
              "      <td>0.029306</td>\n",
              "      <td>-0.092820</td>\n",
              "    </tr>\n",
              "    <tr>\n",
              "      <th>2023-01-31</th>\n",
              "      <td>0.009151</td>\n",
              "      <td>0.368068</td>\n",
              "      <td>0.057593</td>\n",
              "      <td>0.141047</td>\n",
              "    </tr>\n",
              "    <tr>\n",
              "      <th>2023-02-28</th>\n",
              "      <td>-0.020032</td>\n",
              "      <td>-0.160325</td>\n",
              "      <td>-0.053676</td>\n",
              "      <td>-0.078942</td>\n",
              "    </tr>\n",
              "    <tr>\n",
              "      <th>2023-03-31</th>\n",
              "      <td>0.004477</td>\n",
              "      <td>-0.045994</td>\n",
              "      <td>0.079161</td>\n",
              "      <td>0.026678</td>\n",
              "    </tr>\n",
              "    <tr>\n",
              "      <th>2023-04-30</th>\n",
              "      <td>0.080069</td>\n",
              "      <td>0.035490</td>\n",
              "      <td>0.008624</td>\n",
              "      <td>0.030973</td>\n",
              "    </tr>\n",
              "    <tr>\n",
              "      <th>2023-05-31</th>\n",
              "      <td>-0.029542</td>\n",
              "      <td>-0.101656</td>\n",
              "      <td>-0.013420</td>\n",
              "      <td>-0.043115</td>\n",
              "    </tr>\n",
              "    <tr>\n",
              "      <th>2023-06-30</th>\n",
              "      <td>0.061034</td>\n",
              "      <td>-0.072300</td>\n",
              "      <td>-0.022214</td>\n",
              "      <td>-0.020590</td>\n",
              "    </tr>\n",
              "    <tr>\n",
              "      <th>2023-07-31</th>\n",
              "      <td>0.033970</td>\n",
              "      <td>0.170565</td>\n",
              "      <td>0.022887</td>\n",
              "      <td>0.069407</td>\n",
              "    </tr>\n",
              "    <tr>\n",
              "      <th>2023-08-31</th>\n",
              "      <td>0.021152</td>\n",
              "      <td>-0.180331</td>\n",
              "      <td>-0.012778</td>\n",
              "      <td>-0.056258</td>\n",
              "    </tr>\n",
              "    <tr>\n",
              "      <th>2023-09-30</th>\n",
              "      <td>-0.027890</td>\n",
              "      <td>-0.025774</td>\n",
              "      <td>-0.047606</td>\n",
              "      <td>-0.037113</td>\n",
              "    </tr>\n",
              "    <tr>\n",
              "      <th>2023-10-31</th>\n",
              "      <td>-0.025687</td>\n",
              "      <td>0.098743</td>\n",
              "      <td>0.073724</td>\n",
              "      <td>0.061348</td>\n",
              "    </tr>\n",
              "    <tr>\n",
              "      <th>2023-11-30</th>\n",
              "      <td>0.054217</td>\n",
              "      <td>0.221744</td>\n",
              "      <td>0.025314</td>\n",
              "      <td>0.090023</td>\n",
              "    </tr>\n",
              "    <tr>\n",
              "      <th>2023-12-31</th>\n",
              "      <td>-0.005999</td>\n",
              "      <td>0.072587</td>\n",
              "      <td>0.012821</td>\n",
              "      <td>0.026987</td>\n",
              "    </tr>\n",
              "  </tbody>\n",
              "</table>\n",
              "</div>\n",
              "    <div class=\"colab-df-buttons\">\n",
              "\n",
              "  <div class=\"colab-df-container\">\n",
              "    <button class=\"colab-df-convert\" onclick=\"convertToInteractive('df-4b6feab5-3c64-4025-a8c0-3e7c681f4725')\"\n",
              "            title=\"Convert this dataframe to an interactive table.\"\n",
              "            style=\"display:none;\">\n",
              "\n",
              "  <svg xmlns=\"http://www.w3.org/2000/svg\" height=\"24px\" viewBox=\"0 -960 960 960\">\n",
              "    <path d=\"M120-120v-720h720v720H120Zm60-500h600v-160H180v160Zm220 220h160v-160H400v160Zm0 220h160v-160H400v160ZM180-400h160v-160H180v160Zm440 0h160v-160H620v160ZM180-180h160v-160H180v160Zm440 0h160v-160H620v160Z\"/>\n",
              "  </svg>\n",
              "    </button>\n",
              "\n",
              "  <style>\n",
              "    .colab-df-container {\n",
              "      display:flex;\n",
              "      gap: 12px;\n",
              "    }\n",
              "\n",
              "    .colab-df-convert {\n",
              "      background-color: #E8F0FE;\n",
              "      border: none;\n",
              "      border-radius: 50%;\n",
              "      cursor: pointer;\n",
              "      display: none;\n",
              "      fill: #1967D2;\n",
              "      height: 32px;\n",
              "      padding: 0 0 0 0;\n",
              "      width: 32px;\n",
              "    }\n",
              "\n",
              "    .colab-df-convert:hover {\n",
              "      background-color: #E2EBFA;\n",
              "      box-shadow: 0px 1px 2px rgba(60, 64, 67, 0.3), 0px 1px 3px 1px rgba(60, 64, 67, 0.15);\n",
              "      fill: #174EA6;\n",
              "    }\n",
              "\n",
              "    .colab-df-buttons div {\n",
              "      margin-bottom: 4px;\n",
              "    }\n",
              "\n",
              "    [theme=dark] .colab-df-convert {\n",
              "      background-color: #3B4455;\n",
              "      fill: #D2E3FC;\n",
              "    }\n",
              "\n",
              "    [theme=dark] .colab-df-convert:hover {\n",
              "      background-color: #434B5C;\n",
              "      box-shadow: 0px 1px 3px 1px rgba(0, 0, 0, 0.15);\n",
              "      filter: drop-shadow(0px 1px 2px rgba(0, 0, 0, 0.3));\n",
              "      fill: #FFFFFF;\n",
              "    }\n",
              "  </style>\n",
              "\n",
              "    <script>\n",
              "      const buttonEl =\n",
              "        document.querySelector('#df-4b6feab5-3c64-4025-a8c0-3e7c681f4725 button.colab-df-convert');\n",
              "      buttonEl.style.display =\n",
              "        google.colab.kernel.accessAllowed ? 'block' : 'none';\n",
              "\n",
              "      async function convertToInteractive(key) {\n",
              "        const element = document.querySelector('#df-4b6feab5-3c64-4025-a8c0-3e7c681f4725');\n",
              "        const dataTable =\n",
              "          await google.colab.kernel.invokeFunction('convertToInteractive',\n",
              "                                                    [key], {});\n",
              "        if (!dataTable) return;\n",
              "\n",
              "        const docLinkHtml = 'Like what you see? Visit the ' +\n",
              "          '<a target=\"_blank\" href=https://colab.research.google.com/notebooks/data_table.ipynb>data table notebook</a>'\n",
              "          + ' to learn more about interactive tables.';\n",
              "        element.innerHTML = '';\n",
              "        dataTable['output_type'] = 'display_data';\n",
              "        await google.colab.output.renderOutput(dataTable, element);\n",
              "        const docLink = document.createElement('div');\n",
              "        docLink.innerHTML = docLinkHtml;\n",
              "        element.appendChild(docLink);\n",
              "      }\n",
              "    </script>\n",
              "  </div>\n",
              "\n",
              "\n",
              "<div id=\"df-cda9bf82-20d2-4da7-8945-d6cfdf2f7f31\">\n",
              "  <button class=\"colab-df-quickchart\" onclick=\"quickchart('df-cda9bf82-20d2-4da7-8945-d6cfdf2f7f31')\"\n",
              "            title=\"Suggest charts\"\n",
              "            style=\"display:none;\">\n",
              "\n",
              "<svg xmlns=\"http://www.w3.org/2000/svg\" height=\"24px\"viewBox=\"0 0 24 24\"\n",
              "     width=\"24px\">\n",
              "    <g>\n",
              "        <path d=\"M19 3H5c-1.1 0-2 .9-2 2v14c0 1.1.9 2 2 2h14c1.1 0 2-.9 2-2V5c0-1.1-.9-2-2-2zM9 17H7v-7h2v7zm4 0h-2V7h2v10zm4 0h-2v-4h2v4z\"/>\n",
              "    </g>\n",
              "</svg>\n",
              "  </button>\n",
              "\n",
              "<style>\n",
              "  .colab-df-quickchart {\n",
              "      --bg-color: #E8F0FE;\n",
              "      --fill-color: #1967D2;\n",
              "      --hover-bg-color: #E2EBFA;\n",
              "      --hover-fill-color: #174EA6;\n",
              "      --disabled-fill-color: #AAA;\n",
              "      --disabled-bg-color: #DDD;\n",
              "  }\n",
              "\n",
              "  [theme=dark] .colab-df-quickchart {\n",
              "      --bg-color: #3B4455;\n",
              "      --fill-color: #D2E3FC;\n",
              "      --hover-bg-color: #434B5C;\n",
              "      --hover-fill-color: #FFFFFF;\n",
              "      --disabled-bg-color: #3B4455;\n",
              "      --disabled-fill-color: #666;\n",
              "  }\n",
              "\n",
              "  .colab-df-quickchart {\n",
              "    background-color: var(--bg-color);\n",
              "    border: none;\n",
              "    border-radius: 50%;\n",
              "    cursor: pointer;\n",
              "    display: none;\n",
              "    fill: var(--fill-color);\n",
              "    height: 32px;\n",
              "    padding: 0;\n",
              "    width: 32px;\n",
              "  }\n",
              "\n",
              "  .colab-df-quickchart:hover {\n",
              "    background-color: var(--hover-bg-color);\n",
              "    box-shadow: 0 1px 2px rgba(60, 64, 67, 0.3), 0 1px 3px 1px rgba(60, 64, 67, 0.15);\n",
              "    fill: var(--button-hover-fill-color);\n",
              "  }\n",
              "\n",
              "  .colab-df-quickchart-complete:disabled,\n",
              "  .colab-df-quickchart-complete:disabled:hover {\n",
              "    background-color: var(--disabled-bg-color);\n",
              "    fill: var(--disabled-fill-color);\n",
              "    box-shadow: none;\n",
              "  }\n",
              "\n",
              "  .colab-df-spinner {\n",
              "    border: 2px solid var(--fill-color);\n",
              "    border-color: transparent;\n",
              "    border-bottom-color: var(--fill-color);\n",
              "    animation:\n",
              "      spin 1s steps(1) infinite;\n",
              "  }\n",
              "\n",
              "  @keyframes spin {\n",
              "    0% {\n",
              "      border-color: transparent;\n",
              "      border-bottom-color: var(--fill-color);\n",
              "      border-left-color: var(--fill-color);\n",
              "    }\n",
              "    20% {\n",
              "      border-color: transparent;\n",
              "      border-left-color: var(--fill-color);\n",
              "      border-top-color: var(--fill-color);\n",
              "    }\n",
              "    30% {\n",
              "      border-color: transparent;\n",
              "      border-left-color: var(--fill-color);\n",
              "      border-top-color: var(--fill-color);\n",
              "      border-right-color: var(--fill-color);\n",
              "    }\n",
              "    40% {\n",
              "      border-color: transparent;\n",
              "      border-right-color: var(--fill-color);\n",
              "      border-top-color: var(--fill-color);\n",
              "    }\n",
              "    60% {\n",
              "      border-color: transparent;\n",
              "      border-right-color: var(--fill-color);\n",
              "    }\n",
              "    80% {\n",
              "      border-color: transparent;\n",
              "      border-right-color: var(--fill-color);\n",
              "      border-bottom-color: var(--fill-color);\n",
              "    }\n",
              "    90% {\n",
              "      border-color: transparent;\n",
              "      border-bottom-color: var(--fill-color);\n",
              "    }\n",
              "  }\n",
              "</style>\n",
              "\n",
              "  <script>\n",
              "    async function quickchart(key) {\n",
              "      const quickchartButtonEl =\n",
              "        document.querySelector('#' + key + ' button');\n",
              "      quickchartButtonEl.disabled = true;  // To prevent multiple clicks.\n",
              "      quickchartButtonEl.classList.add('colab-df-spinner');\n",
              "      try {\n",
              "        const charts = await google.colab.kernel.invokeFunction(\n",
              "            'suggestCharts', [key], {});\n",
              "      } catch (error) {\n",
              "        console.error('Error during call to suggestCharts:', error);\n",
              "      }\n",
              "      quickchartButtonEl.classList.remove('colab-df-spinner');\n",
              "      quickchartButtonEl.classList.add('colab-df-quickchart-complete');\n",
              "    }\n",
              "    (() => {\n",
              "      let quickchartButtonEl =\n",
              "        document.querySelector('#df-cda9bf82-20d2-4da7-8945-d6cfdf2f7f31 button');\n",
              "      quickchartButtonEl.style.display =\n",
              "        google.colab.kernel.accessAllowed ? 'block' : 'none';\n",
              "    })();\n",
              "  </script>\n",
              "</div>\n",
              "\n",
              "  <div id=\"id_8c587088-4a35-4340-b8a7-5b21f98e3efb\">\n",
              "    <style>\n",
              "      .colab-df-generate {\n",
              "        background-color: #E8F0FE;\n",
              "        border: none;\n",
              "        border-radius: 50%;\n",
              "        cursor: pointer;\n",
              "        display: none;\n",
              "        fill: #1967D2;\n",
              "        height: 32px;\n",
              "        padding: 0 0 0 0;\n",
              "        width: 32px;\n",
              "      }\n",
              "\n",
              "      .colab-df-generate:hover {\n",
              "        background-color: #E2EBFA;\n",
              "        box-shadow: 0px 1px 2px rgba(60, 64, 67, 0.3), 0px 1px 3px 1px rgba(60, 64, 67, 0.15);\n",
              "        fill: #174EA6;\n",
              "      }\n",
              "\n",
              "      [theme=dark] .colab-df-generate {\n",
              "        background-color: #3B4455;\n",
              "        fill: #D2E3FC;\n",
              "      }\n",
              "\n",
              "      [theme=dark] .colab-df-generate:hover {\n",
              "        background-color: #434B5C;\n",
              "        box-shadow: 0px 1px 3px 1px rgba(0, 0, 0, 0.15);\n",
              "        filter: drop-shadow(0px 1px 2px rgba(0, 0, 0, 0.3));\n",
              "        fill: #FFFFFF;\n",
              "      }\n",
              "    </style>\n",
              "    <button class=\"colab-df-generate\" onclick=\"generateWithVariable('histMonthly')\"\n",
              "            title=\"Generate code using this dataframe.\"\n",
              "            style=\"display:none;\">\n",
              "\n",
              "  <svg xmlns=\"http://www.w3.org/2000/svg\" height=\"24px\"viewBox=\"0 0 24 24\"\n",
              "       width=\"24px\">\n",
              "    <path d=\"M7,19H8.4L18.45,9,17,7.55,7,17.6ZM5,21V16.75L18.45,3.32a2,2,0,0,1,2.83,0l1.4,1.43a1.91,1.91,0,0,1,.58,1.4,1.91,1.91,0,0,1-.58,1.4L9.25,21ZM18.45,9,17,7.55Zm-12,3A5.31,5.31,0,0,0,4.9,8.1,5.31,5.31,0,0,0,1,6.5,5.31,5.31,0,0,0,4.9,4.9,5.31,5.31,0,0,0,6.5,1,5.31,5.31,0,0,0,8.1,4.9,5.31,5.31,0,0,0,12,6.5,5.46,5.46,0,0,0,6.5,12Z\"/>\n",
              "  </svg>\n",
              "    </button>\n",
              "    <script>\n",
              "      (() => {\n",
              "      const buttonEl =\n",
              "        document.querySelector('#id_8c587088-4a35-4340-b8a7-5b21f98e3efb button.colab-df-generate');\n",
              "      buttonEl.style.display =\n",
              "        google.colab.kernel.accessAllowed ? 'block' : 'none';\n",
              "\n",
              "      buttonEl.onclick = () => {\n",
              "        google.colab.notebook.generateWithVariable('histMonthly');\n",
              "      }\n",
              "      })();\n",
              "    </script>\n",
              "  </div>\n",
              "\n",
              "    </div>\n",
              "  </div>\n"
            ],
            "application/vnd.google.colaboratory.intrinsic+json": {
              "type": "dataframe",
              "variable_name": "histMonthly",
              "summary": "{\n  \"name\": \"histMonthly\",\n  \"rows\": 60,\n  \"fields\": [\n    {\n      \"column\": \"Date\",\n      \"properties\": {\n        \"dtype\": \"date\",\n        \"min\": \"2019-01-31 00:00:00\",\n        \"max\": \"2023-12-31 00:00:00\",\n        \"num_unique_values\": 60,\n        \"samples\": [\n          \"2019-01-31 00:00:00\",\n          \"2019-06-30 00:00:00\",\n          \"2022-01-31 00:00:00\"\n        ],\n        \"semantic_type\": \"\",\n        \"description\": \"\"\n      }\n    },\n    {\n      \"column\": \"BRK-A\",\n      \"properties\": {\n        \"dtype\": \"number\",\n        \"std\": 0.05922344443743889,\n        \"min\": -0.1373272861512499,\n        \"max\": 0.13615867768595047,\n        \"num_unique_values\": 60,\n        \"samples\": [\n          0.017973856209150263,\n          0.07166902309297796,\n          0.04247751086179896\n        ],\n        \"semantic_type\": \"\",\n        \"description\": \"\"\n      }\n    },\n    {\n      \"column\": \"DOGE-USD\",\n      \"properties\": {\n        \"dtype\": \"number\",\n        \"std\": 1.1391033191994784,\n        \"min\": -0.3421860168648352,\n        \"max\": 6.9444683474632996,\n        \"num_unique_values\": 60,\n        \"samples\": [\n          -0.1794543723879125,\n          -0.053182215121447496,\n          -0.16827965686846458\n        ],\n        \"semantic_type\": \"\",\n        \"description\": \"\"\n      }\n    },\n    {\n      \"column\": \"GLD\",\n      \"properties\": {\n        \"dtype\": \"number\",\n        \"std\": 0.04189072049455867,\n        \"min\": -0.07147662098325525,\n        \"max\": 0.10790463097013703,\n        \"num_unique_values\": 60,\n        \"samples\": [\n          0.028865979381443196,\n          0.08002914919848991,\n          -0.016787612677039987\n        ],\n        \"semantic_type\": \"\",\n        \"description\": \"\"\n      }\n    },\n    {\n      \"column\": \"Std. Dev.\",\n      \"properties\": {\n        \"dtype\": \"number\",\n        \"std\": 0.34376441900205584,\n        \"min\": -0.11861180238257761,\n        \"max\": 2.065085226206359,\n        \"num_unique_values\": 60,\n        \"samples\": [\n          -0.0358085507838221,\n          0.0383937146814063,\n          -0.05038220122669957\n        ],\n        \"semantic_type\": \"\",\n        \"description\": \"\"\n      }\n    }\n  ]\n}"
            }
          },
          "metadata": {},
          "execution_count": 8
        }
      ]
    },
    {
      "cell_type": "code",
      "source": [
        "# Sample Standard Deviation of Monthly Returns\n",
        "#single number summary or variability in the data\n",
        "stdDevMonthReturns = GoldDogeBerkWeights.std()\n",
        "stdDevMonthReturns"
      ],
      "metadata": {
        "colab": {
          "base_uri": "https://localhost:8080/"
        },
        "id": "MeWIJSjACQEp",
        "outputId": "88776776-ba8d-450e-b919-dd617bd60d06"
      },
      "execution_count": null,
      "outputs": [
        {
          "output_type": "execute_result",
          "data": {
            "text/plain": [
              "0.34376441900205584"
            ]
          },
          "metadata": {},
          "execution_count": 9
        }
      ]
    },
    {
      "cell_type": "code",
      "source": [
        "# Risk Premium\n",
        "riskPrem = GoldDogeBerkWeights.mean() - 0.001\n",
        "riskPrem"
      ],
      "metadata": {
        "colab": {
          "base_uri": "https://localhost:8080/"
        },
        "id": "clv_-0-GX--z",
        "outputId": "e5586971-5cce-4476-be87-e1499eca4bfb"
      },
      "execution_count": null,
      "outputs": [
        {
          "output_type": "execute_result",
          "data": {
            "text/plain": [
              "0.07228932803209895"
            ]
          },
          "metadata": {},
          "execution_count": 10
        }
      ]
    },
    {
      "cell_type": "code",
      "source": [
        "#divide the risk prem by the std deviation to get the sharpe ratio\n",
        "# reward to volitility ratio\n",
        "sharpeRatio = riskPrem / stdDevMonthReturns\n",
        "round(sharpeRatio,2)"
      ],
      "metadata": {
        "colab": {
          "base_uri": "https://localhost:8080/"
        },
        "id": "zt2C4QBXZOWp",
        "outputId": "3488c3e2-c8f4-4d5e-b799-ded0e3daa9c0"
      },
      "execution_count": null,
      "outputs": [
        {
          "output_type": "execute_result",
          "data": {
            "text/plain": [
              "0.21"
            ]
          },
          "metadata": {},
          "execution_count": 11
        }
      ]
    },
    {
      "cell_type": "markdown",
      "source": [
        "## **Question 4**\n",
        "\n",
        "On December 31, 2018, you made the following investment:\n",
        "\n",
        "$8,000 in Berkshire Hathaway Inc. (BRK-A),\n",
        "$12,000 in the Cheesecake Factory's stocks (CAKE),\n",
        "$20,000 in SPDR Gold Shares (GLD).\n",
        "How much was your investment worth on January 18, 2024?\n",
        "Round your answer to the nearest integer."
      ],
      "metadata": {
        "id": "d9AihRFUDr91"
      }
    },
    {
      "cell_type": "code",
      "source": [
        "!pip install empyrial\n",
        "!pip install pyfolio"
      ],
      "metadata": {
        "id": "815lhnHxDvf7"
      },
      "execution_count": null,
      "outputs": []
    },
    {
      "cell_type": "code",
      "source": [
        "from empyrial import *\n",
        "import pyfolio\n",
        "from plotly.express import *"
      ],
      "metadata": {
        "id": "r3L5GvJ_aSiu"
      },
      "execution_count": null,
      "outputs": []
    },
    {
      "cell_type": "code",
      "source": [
        "histMonthly = MONTHLY_RETURNS([\"BRK-A\", \"DOGE-USD\",\"GLD\"], \"2018-12-31\", \"2024-1-1\")\n",
        "\n",
        "weights = GetWeightsFromDollarAmounts([8000,12000,20000])\n",
        "\n",
        "GoldDogeBerk = histMonthly"
      ],
      "metadata": {
        "colab": {
          "base_uri": "https://localhost:8080/"
        },
        "id": "dNfLZHpQaWAi",
        "outputId": "9621cc6f-955e-4681-8d2c-611c4241e79c"
      },
      "execution_count": null,
      "outputs": [
        {
          "output_type": "stream",
          "name": "stderr",
          "text": [
            "[*********************100%%**********************]  3 of 3 completed"
          ]
        },
        {
          "output_type": "stream",
          "name": "stdout",
          "text": [
            "Total:  40000\n",
            "Weights:  [0.2, 0.3, 0.5]\n"
          ]
        },
        {
          "output_type": "stream",
          "name": "stderr",
          "text": [
            "\n"
          ]
        }
      ]
    },
    {
      "cell_type": "code",
      "source": [
        "DAILY = get_returns(stocks=[\"BRK-A\", \"CAKE\",\"GLD\"],\n",
        "            wts= [0.2, 0.3, 0.5],\n",
        "            start_date=\"2018-12-31\")\n",
        "\n",
        "DAILY.head()"
      ],
      "metadata": {
        "colab": {
          "base_uri": "https://localhost:8080/"
        },
        "id": "V5Rur4mQam3U",
        "outputId": "1e060815-e443-48bb-d8da-50fba71eca05"
      },
      "execution_count": null,
      "outputs": [
        {
          "output_type": "execute_result",
          "data": {
            "text/plain": [
              "Date\n",
              "2019-01-02   -0.003629\n",
              "2019-01-03   -0.013972\n",
              "2019-01-04    0.001960\n",
              "2019-01-07    0.013911\n",
              "2019-01-08    0.014013\n",
              "dtype: float64"
            ]
          },
          "metadata": {},
          "execution_count": 15
        }
      ]
    },
    {
      "cell_type": "code",
      "source": [
        "DOUGH = pyfolio.timeseries.cum_returns(returns=DAILY, starting_value=40000)\n",
        "DOUGH"
      ],
      "metadata": {
        "colab": {
          "base_uri": "https://localhost:8080/"
        },
        "id": "UlZ0HG3Ubn1l",
        "outputId": "cfab8d31-9bda-432a-fece-3f9a8c4b014c"
      },
      "execution_count": null,
      "outputs": [
        {
          "output_type": "execute_result",
          "data": {
            "text/plain": [
              "Date\n",
              "2019-01-02    39854.840994\n",
              "2019-01-03    39298.000992\n",
              "2019-01-04    39375.023117\n",
              "2019-01-07    39922.781929\n",
              "2019-01-08    40482.204284\n",
              "                  ...     \n",
              "2024-03-20    60972.412378\n",
              "2024-03-21    60467.937438\n",
              "2024-03-22    59981.240437\n",
              "2024-03-25    59923.658885\n",
              "2024-03-26    60146.072930\n",
              "Length: 1317, dtype: float64"
            ]
          },
          "metadata": {},
          "execution_count": 16
        }
      ]
    },
    {
      "cell_type": "code",
      "source": [
        "type(DOUGH)"
      ],
      "metadata": {
        "colab": {
          "base_uri": "https://localhost:8080/",
          "height": 204
        },
        "id": "EZX9juVAdUJd",
        "outputId": "620f09fc-8fb1-4f4e-98c6-ce62eb2b903f"
      },
      "execution_count": null,
      "outputs": [
        {
          "output_type": "execute_result",
          "data": {
            "text/plain": [
              "pandas.core.series.Series"
            ],
            "text/html": [
              "<div style=\"max-width:800px; border: 1px solid var(--colab-border-color);\"><style>\n",
              "      pre.function-repr-contents {\n",
              "        overflow-x: auto;\n",
              "        padding: 8px 12px;\n",
              "        max-height: 500px;\n",
              "      }\n",
              "\n",
              "      pre.function-repr-contents.function-repr-contents-collapsed {\n",
              "        cursor: pointer;\n",
              "        max-height: 100px;\n",
              "      }\n",
              "    </style>\n",
              "    <pre style=\"white-space: initial; background:\n",
              "         var(--colab-secondary-surface-color); padding: 8px 12px;\n",
              "         border-bottom: 1px solid var(--colab-border-color);\"><b>pandas.core.series.Series</b><br/>def __init__(data=None, index=None, dtype: Dtype | None=None, name=None, copy: bool | None=None, fastpath: bool | lib.NoDefault=lib.no_default) -&gt; None</pre><pre class=\"function-repr-contents function-repr-contents-collapsed\" style=\"\"><a class=\"filepath\" style=\"display:none\" href=\"#\">/usr/local/lib/python3.10/dist-packages/pandas/core/series.py</a>One-dimensional ndarray with axis labels (including time series).\n",
              "\n",
              "Labels need not be unique but must be a hashable type. The object\n",
              "supports both integer- and label-based indexing and provides a host of\n",
              "methods for performing operations involving the index. Statistical\n",
              "methods from ndarray have been overridden to automatically exclude\n",
              "missing data (currently represented as NaN).\n",
              "\n",
              "Operations between Series (+, -, /, \\*, \\*\\*) align values based on their\n",
              "associated index values-- they need not be the same length. The result\n",
              "index will be the sorted union of the two indexes.\n",
              "\n",
              "Parameters\n",
              "----------\n",
              "data : array-like, Iterable, dict, or scalar value\n",
              "    Contains data stored in Series. If data is a dict, argument order is\n",
              "    maintained.\n",
              "index : array-like or Index (1d)\n",
              "    Values must be hashable and have the same length as `data`.\n",
              "    Non-unique index values are allowed. Will default to\n",
              "    RangeIndex (0, 1, 2, ..., n) if not provided. If data is dict-like\n",
              "    and index is None, then the keys in the data are used as the index. If the\n",
              "    index is not None, the resulting Series is reindexed with the index values.\n",
              "dtype : str, numpy.dtype, or ExtensionDtype, optional\n",
              "    Data type for the output Series. If not specified, this will be\n",
              "    inferred from `data`.\n",
              "    See the :ref:`user guide &lt;basics.dtypes&gt;` for more usages.\n",
              "name : Hashable, default None\n",
              "    The name to give to the Series.\n",
              "copy : bool, default False\n",
              "    Copy input data. Only affects Series or 1d ndarray input. See examples.\n",
              "\n",
              "Notes\n",
              "-----\n",
              "Please reference the :ref:`User Guide &lt;basics.series&gt;` for more information.\n",
              "\n",
              "Examples\n",
              "--------\n",
              "Constructing Series from a dictionary with an Index specified\n",
              "\n",
              "&gt;&gt;&gt; d = {&#x27;a&#x27;: 1, &#x27;b&#x27;: 2, &#x27;c&#x27;: 3}\n",
              "&gt;&gt;&gt; ser = pd.Series(data=d, index=[&#x27;a&#x27;, &#x27;b&#x27;, &#x27;c&#x27;])\n",
              "&gt;&gt;&gt; ser\n",
              "a   1\n",
              "b   2\n",
              "c   3\n",
              "dtype: int64\n",
              "\n",
              "The keys of the dictionary match with the Index values, hence the Index\n",
              "values have no effect.\n",
              "\n",
              "&gt;&gt;&gt; d = {&#x27;a&#x27;: 1, &#x27;b&#x27;: 2, &#x27;c&#x27;: 3}\n",
              "&gt;&gt;&gt; ser = pd.Series(data=d, index=[&#x27;x&#x27;, &#x27;y&#x27;, &#x27;z&#x27;])\n",
              "&gt;&gt;&gt; ser\n",
              "x   NaN\n",
              "y   NaN\n",
              "z   NaN\n",
              "dtype: float64\n",
              "\n",
              "Note that the Index is first build with the keys from the dictionary.\n",
              "After this the Series is reindexed with the given Index values, hence we\n",
              "get all NaN as a result.\n",
              "\n",
              "Constructing Series from a list with `copy=False`.\n",
              "\n",
              "&gt;&gt;&gt; r = [1, 2]\n",
              "&gt;&gt;&gt; ser = pd.Series(r, copy=False)\n",
              "&gt;&gt;&gt; ser.iloc[0] = 999\n",
              "&gt;&gt;&gt; r\n",
              "[1, 2]\n",
              "&gt;&gt;&gt; ser\n",
              "0    999\n",
              "1      2\n",
              "dtype: int64\n",
              "\n",
              "Due to input data type the Series has a `copy` of\n",
              "the original data even though `copy=False`, so\n",
              "the data is unchanged.\n",
              "\n",
              "Constructing Series from a 1d ndarray with `copy=False`.\n",
              "\n",
              "&gt;&gt;&gt; r = np.array([1, 2])\n",
              "&gt;&gt;&gt; ser = pd.Series(r, copy=False)\n",
              "&gt;&gt;&gt; ser.iloc[0] = 999\n",
              "&gt;&gt;&gt; r\n",
              "array([999,   2])\n",
              "&gt;&gt;&gt; ser\n",
              "0    999\n",
              "1      2\n",
              "dtype: int64\n",
              "\n",
              "Due to input data type the Series has a `view` on\n",
              "the original data, so\n",
              "the data is changed as well.</pre>\n",
              "      <script>\n",
              "      if (google.colab.kernel.accessAllowed && google.colab.files && google.colab.files.view) {\n",
              "        for (const element of document.querySelectorAll('.filepath')) {\n",
              "          element.style.display = 'block'\n",
              "          element.onclick = (event) => {\n",
              "            event.preventDefault();\n",
              "            event.stopPropagation();\n",
              "            google.colab.files.view(element.textContent, 263);\n",
              "          };\n",
              "        }\n",
              "      }\n",
              "      for (const element of document.querySelectorAll('.function-repr-contents')) {\n",
              "        element.onclick = (event) => {\n",
              "          event.preventDefault();\n",
              "          event.stopPropagation();\n",
              "          element.classList.toggle('function-repr-contents-collapsed');\n",
              "        };\n",
              "      }\n",
              "      </script>\n",
              "      </div>"
            ]
          },
          "metadata": {},
          "execution_count": 17
        }
      ]
    },
    {
      "cell_type": "code",
      "source": [
        "DOUGH['2024-01-18']"
      ],
      "metadata": {
        "colab": {
          "base_uri": "https://localhost:8080/"
        },
        "id": "MmliHXsmdaLj",
        "outputId": "33dd3132-065d-407d-f86c-b3fde6b53ec6"
      },
      "execution_count": null,
      "outputs": [
        {
          "output_type": "execute_result",
          "data": {
            "text/plain": [
              "55220.04543938699"
            ]
          },
          "metadata": {},
          "execution_count": 18
        }
      ]
    },
    {
      "cell_type": "code",
      "source": [
        "PLOT = area(x=DOUGH.index, y=DOUGH, color_discrete_sequence=[\"pink\"])"
      ],
      "metadata": {
        "id": "lqqprv6kcFCL"
      },
      "execution_count": null,
      "outputs": []
    },
    {
      "cell_type": "code",
      "source": [
        "PLOT"
      ],
      "metadata": {
        "colab": {
          "base_uri": "https://localhost:8080/",
          "height": 542
        },
        "id": "x0J9hr2tcqPF",
        "outputId": "7075ac3e-ddd3-4237-8c48-81acf914c9df"
      },
      "execution_count": null,
      "outputs": [
        {
          "output_type": "display_data",
          "data": {
            "text/html": [
              "<html>\n",
              "<head><meta charset=\"utf-8\" /></head>\n",
              "<body>\n",
              "    <div>            <script src=\"https://cdnjs.cloudflare.com/ajax/libs/mathjax/2.7.5/MathJax.js?config=TeX-AMS-MML_SVG\"></script><script type=\"text/javascript\">if (window.MathJax && window.MathJax.Hub && window.MathJax.Hub.Config) {window.MathJax.Hub.Config({SVG: {font: \"STIX-Web\"}});}</script>                <script type=\"text/javascript\">window.PlotlyConfig = {MathJaxConfig: 'local'};</script>\n",
              "        <script charset=\"utf-8\" src=\"https://cdn.plot.ly/plotly-2.24.1.min.js\"></script>                <div id=\"fc9312a4-d82d-4fbc-af6f-406f15c503e7\" class=\"plotly-graph-div\" style=\"height:525px; width:100%;\"></div>            <script type=\"text/javascript\">                                    window.PLOTLYENV=window.PLOTLYENV || {};                                    if (document.getElementById(\"fc9312a4-d82d-4fbc-af6f-406f15c503e7\")) {                    Plotly.newPlot(                        \"fc9312a4-d82d-4fbc-af6f-406f15c503e7\",                        [{\"fillpattern\":{\"shape\":\"\"},\"hovertemplate\":\"x=%{x}\\u003cbr\\u003ey=%{y}\\u003cextra\\u003e\\u003c\\u002fextra\\u003e\",\"legendgroup\":\"\",\"line\":{\"color\":\"pink\"},\"marker\":{\"symbol\":\"circle\"},\"mode\":\"lines\",\"name\":\"\",\"orientation\":\"v\",\"showlegend\":false,\"stackgroup\":\"1\",\"x\":[\"2019-01-02T00:00:00\",\"2019-01-03T00:00:00\",\"2019-01-04T00:00:00\",\"2019-01-07T00:00:00\",\"2019-01-08T00:00:00\",\"2019-01-09T00:00:00\",\"2019-01-10T00:00:00\",\"2019-01-11T00:00:00\",\"2019-01-14T00:00:00\",\"2019-01-15T00:00:00\",\"2019-01-16T00:00:00\",\"2019-01-17T00:00:00\",\"2019-01-18T00:00:00\",\"2019-01-22T00:00:00\",\"2019-01-23T00:00:00\",\"2019-01-24T00:00:00\",\"2019-01-25T00:00:00\",\"2019-01-28T00:00:00\",\"2019-01-29T00:00:00\",\"2019-01-30T00:00:00\",\"2019-01-31T00:00:00\",\"2019-02-01T00:00:00\",\"2019-02-04T00:00:00\",\"2019-02-05T00:00:00\",\"2019-02-06T00:00:00\",\"2019-02-07T00:00:00\",\"2019-02-08T00:00:00\",\"2019-02-11T00:00:00\",\"2019-02-12T00:00:00\",\"2019-02-13T00:00:00\",\"2019-02-14T00:00:00\",\"2019-02-15T00:00:00\",\"2019-02-19T00:00:00\",\"2019-02-20T00:00:00\",\"2019-02-21T00:00:00\",\"2019-02-22T00:00:00\",\"2019-02-25T00:00:00\",\"2019-02-26T00:00:00\",\"2019-02-27T00:00:00\",\"2019-02-28T00:00:00\",\"2019-03-01T00:00:00\",\"2019-03-04T00:00:00\",\"2019-03-05T00:00:00\",\"2019-03-06T00:00:00\",\"2019-03-07T00:00:00\",\"2019-03-08T00:00:00\",\"2019-03-11T00:00:00\",\"2019-03-12T00:00:00\",\"2019-03-13T00:00:00\",\"2019-03-14T00:00:00\",\"2019-03-15T00:00:00\",\"2019-03-18T00:00:00\",\"2019-03-19T00:00:00\",\"2019-03-20T00:00:00\",\"2019-03-21T00:00:00\",\"2019-03-22T00:00:00\",\"2019-03-25T00:00:00\",\"2019-03-26T00:00:00\",\"2019-03-27T00:00:00\",\"2019-03-28T00:00:00\",\"2019-03-29T00:00:00\",\"2019-04-01T00:00:00\",\"2019-04-02T00:00:00\",\"2019-04-03T00:00:00\",\"2019-04-04T00:00:00\",\"2019-04-05T00:00:00\",\"2019-04-08T00:00:00\",\"2019-04-09T00:00:00\",\"2019-04-10T00:00:00\",\"2019-04-11T00:00:00\",\"2019-04-12T00:00:00\",\"2019-04-15T00:00:00\",\"2019-04-16T00:00:00\",\"2019-04-17T00:00:00\",\"2019-04-18T00:00:00\",\"2019-04-22T00:00:00\",\"2019-04-23T00:00:00\",\"2019-04-24T00:00:00\",\"2019-04-25T00:00:00\",\"2019-04-26T00:00:00\",\"2019-04-29T00:00:00\",\"2019-04-30T00:00:00\",\"2019-05-01T00:00:00\",\"2019-05-02T00:00:00\",\"2019-05-03T00:00:00\",\"2019-05-06T00:00:00\",\"2019-05-07T00:00:00\",\"2019-05-08T00:00:00\",\"2019-05-09T00:00:00\",\"2019-05-10T00:00:00\",\"2019-05-13T00:00:00\",\"2019-05-14T00:00:00\",\"2019-05-15T00:00:00\",\"2019-05-16T00:00:00\",\"2019-05-17T00:00:00\",\"2019-05-20T00:00:00\",\"2019-05-21T00:00:00\",\"2019-05-22T00:00:00\",\"2019-05-23T00:00:00\",\"2019-05-24T00:00:00\",\"2019-05-28T00:00:00\",\"2019-05-29T00:00:00\",\"2019-05-30T00:00:00\",\"2019-05-31T00:00:00\",\"2019-06-03T00:00:00\",\"2019-06-04T00:00:00\",\"2019-06-05T00:00:00\",\"2019-06-06T00:00:00\",\"2019-06-07T00:00:00\",\"2019-06-10T00:00:00\",\"2019-06-11T00:00:00\",\"2019-06-12T00:00:00\",\"2019-06-13T00:00:00\",\"2019-06-14T00:00:00\",\"2019-06-17T00:00:00\",\"2019-06-18T00:00:00\",\"2019-06-19T00:00:00\",\"2019-06-20T00:00:00\",\"2019-06-21T00:00:00\",\"2019-06-24T00:00:00\",\"2019-06-25T00:00:00\",\"2019-06-26T00:00:00\",\"2019-06-27T00:00:00\",\"2019-06-28T00:00:00\",\"2019-07-01T00:00:00\",\"2019-07-02T00:00:00\",\"2019-07-03T00:00:00\",\"2019-07-05T00:00:00\",\"2019-07-08T00:00:00\",\"2019-07-09T00:00:00\",\"2019-07-10T00:00:00\",\"2019-07-11T00:00:00\",\"2019-07-12T00:00:00\",\"2019-07-15T00:00:00\",\"2019-07-16T00:00:00\",\"2019-07-17T00:00:00\",\"2019-07-18T00:00:00\",\"2019-07-19T00:00:00\",\"2019-07-22T00:00:00\",\"2019-07-23T00:00:00\",\"2019-07-24T00:00:00\",\"2019-07-25T00:00:00\",\"2019-07-26T00:00:00\",\"2019-07-29T00:00:00\",\"2019-07-30T00:00:00\",\"2019-07-31T00:00:00\",\"2019-08-01T00:00:00\",\"2019-08-02T00:00:00\",\"2019-08-05T00:00:00\",\"2019-08-06T00:00:00\",\"2019-08-07T00:00:00\",\"2019-08-08T00:00:00\",\"2019-08-09T00:00:00\",\"2019-08-12T00:00:00\",\"2019-08-13T00:00:00\",\"2019-08-14T00:00:00\",\"2019-08-15T00:00:00\",\"2019-08-16T00:00:00\",\"2019-08-19T00:00:00\",\"2019-08-20T00:00:00\",\"2019-08-21T00:00:00\",\"2019-08-22T00:00:00\",\"2019-08-23T00:00:00\",\"2019-08-26T00:00:00\",\"2019-08-27T00:00:00\",\"2019-08-28T00:00:00\",\"2019-08-29T00:00:00\",\"2019-08-30T00:00:00\",\"2019-09-03T00:00:00\",\"2019-09-04T00:00:00\",\"2019-09-05T00:00:00\",\"2019-09-06T00:00:00\",\"2019-09-09T00:00:00\",\"2019-09-10T00:00:00\",\"2019-09-11T00:00:00\",\"2019-09-12T00:00:00\",\"2019-09-13T00:00:00\",\"2019-09-16T00:00:00\",\"2019-09-17T00:00:00\",\"2019-09-18T00:00:00\",\"2019-09-19T00:00:00\",\"2019-09-20T00:00:00\",\"2019-09-23T00:00:00\",\"2019-09-24T00:00:00\",\"2019-09-25T00:00:00\",\"2019-09-26T00:00:00\",\"2019-09-27T00:00:00\",\"2019-09-30T00:00:00\",\"2019-10-01T00:00:00\",\"2019-10-02T00:00:00\",\"2019-10-03T00:00:00\",\"2019-10-04T00:00:00\",\"2019-10-07T00:00:00\",\"2019-10-08T00:00:00\",\"2019-10-09T00:00:00\",\"2019-10-10T00:00:00\",\"2019-10-11T00:00:00\",\"2019-10-14T00:00:00\",\"2019-10-15T00:00:00\",\"2019-10-16T00:00:00\",\"2019-10-17T00:00:00\",\"2019-10-18T00:00:00\",\"2019-10-21T00:00:00\",\"2019-10-22T00:00:00\",\"2019-10-23T00:00:00\",\"2019-10-24T00:00:00\",\"2019-10-25T00:00:00\",\"2019-10-28T00:00:00\",\"2019-10-29T00:00:00\",\"2019-10-30T00:00:00\",\"2019-10-31T00:00:00\",\"2019-11-01T00:00:00\",\"2019-11-04T00:00:00\",\"2019-11-05T00:00:00\",\"2019-11-06T00:00:00\",\"2019-11-07T00:00:00\",\"2019-11-08T00:00:00\",\"2019-11-11T00:00:00\",\"2019-11-12T00:00:00\",\"2019-11-13T00:00:00\",\"2019-11-14T00:00:00\",\"2019-11-15T00:00:00\",\"2019-11-18T00:00:00\",\"2019-11-19T00:00:00\",\"2019-11-20T00:00:00\",\"2019-11-21T00:00:00\",\"2019-11-22T00:00:00\",\"2019-11-25T00:00:00\",\"2019-11-26T00:00:00\",\"2019-11-27T00:00:00\",\"2019-11-29T00:00:00\",\"2019-12-02T00:00:00\",\"2019-12-03T00:00:00\",\"2019-12-04T00:00:00\",\"2019-12-05T00:00:00\",\"2019-12-06T00:00:00\",\"2019-12-09T00:00:00\",\"2019-12-10T00:00:00\",\"2019-12-11T00:00:00\",\"2019-12-12T00:00:00\",\"2019-12-13T00:00:00\",\"2019-12-16T00:00:00\",\"2019-12-17T00:00:00\",\"2019-12-18T00:00:00\",\"2019-12-19T00:00:00\",\"2019-12-20T00:00:00\",\"2019-12-23T00:00:00\",\"2019-12-24T00:00:00\",\"2019-12-26T00:00:00\",\"2019-12-27T00:00:00\",\"2019-12-30T00:00:00\",\"2019-12-31T00:00:00\",\"2020-01-02T00:00:00\",\"2020-01-03T00:00:00\",\"2020-01-06T00:00:00\",\"2020-01-07T00:00:00\",\"2020-01-08T00:00:00\",\"2020-01-09T00:00:00\",\"2020-01-10T00:00:00\",\"2020-01-13T00:00:00\",\"2020-01-14T00:00:00\",\"2020-01-15T00:00:00\",\"2020-01-16T00:00:00\",\"2020-01-17T00:00:00\",\"2020-01-21T00:00:00\",\"2020-01-22T00:00:00\",\"2020-01-23T00:00:00\",\"2020-01-24T00:00:00\",\"2020-01-27T00:00:00\",\"2020-01-28T00:00:00\",\"2020-01-29T00:00:00\",\"2020-01-30T00:00:00\",\"2020-01-31T00:00:00\",\"2020-02-03T00:00:00\",\"2020-02-04T00:00:00\",\"2020-02-05T00:00:00\",\"2020-02-06T00:00:00\",\"2020-02-07T00:00:00\",\"2020-02-10T00:00:00\",\"2020-02-11T00:00:00\",\"2020-02-12T00:00:00\",\"2020-02-13T00:00:00\",\"2020-02-14T00:00:00\",\"2020-02-18T00:00:00\",\"2020-02-19T00:00:00\",\"2020-02-20T00:00:00\",\"2020-02-21T00:00:00\",\"2020-02-24T00:00:00\",\"2020-02-25T00:00:00\",\"2020-02-26T00:00:00\",\"2020-02-27T00:00:00\",\"2020-02-28T00:00:00\",\"2020-03-02T00:00:00\",\"2020-03-03T00:00:00\",\"2020-03-04T00:00:00\",\"2020-03-05T00:00:00\",\"2020-03-06T00:00:00\",\"2020-03-09T00:00:00\",\"2020-03-10T00:00:00\",\"2020-03-11T00:00:00\",\"2020-03-12T00:00:00\",\"2020-03-13T00:00:00\",\"2020-03-16T00:00:00\",\"2020-03-17T00:00:00\",\"2020-03-18T00:00:00\",\"2020-03-19T00:00:00\",\"2020-03-20T00:00:00\",\"2020-03-23T00:00:00\",\"2020-03-24T00:00:00\",\"2020-03-25T00:00:00\",\"2020-03-26T00:00:00\",\"2020-03-27T00:00:00\",\"2020-03-30T00:00:00\",\"2020-03-31T00:00:00\",\"2020-04-01T00:00:00\",\"2020-04-02T00:00:00\",\"2020-04-03T00:00:00\",\"2020-04-06T00:00:00\",\"2020-04-07T00:00:00\",\"2020-04-08T00:00:00\",\"2020-04-09T00:00:00\",\"2020-04-13T00:00:00\",\"2020-04-14T00:00:00\",\"2020-04-15T00:00:00\",\"2020-04-16T00:00:00\",\"2020-04-17T00:00:00\",\"2020-04-20T00:00:00\",\"2020-04-21T00:00:00\",\"2020-04-22T00:00:00\",\"2020-04-23T00:00:00\",\"2020-04-24T00:00:00\",\"2020-04-27T00:00:00\",\"2020-04-28T00:00:00\",\"2020-04-29T00:00:00\",\"2020-04-30T00:00:00\",\"2020-05-01T00:00:00\",\"2020-05-04T00:00:00\",\"2020-05-05T00:00:00\",\"2020-05-06T00:00:00\",\"2020-05-07T00:00:00\",\"2020-05-08T00:00:00\",\"2020-05-11T00:00:00\",\"2020-05-12T00:00:00\",\"2020-05-13T00:00:00\",\"2020-05-14T00:00:00\",\"2020-05-15T00:00:00\",\"2020-05-18T00:00:00\",\"2020-05-19T00:00:00\",\"2020-05-20T00:00:00\",\"2020-05-21T00:00:00\",\"2020-05-22T00:00:00\",\"2020-05-26T00:00:00\",\"2020-05-27T00:00:00\",\"2020-05-28T00:00:00\",\"2020-05-29T00:00:00\",\"2020-06-01T00:00:00\",\"2020-06-02T00:00:00\",\"2020-06-03T00:00:00\",\"2020-06-04T00:00:00\",\"2020-06-05T00:00:00\",\"2020-06-08T00:00:00\",\"2020-06-09T00:00:00\",\"2020-06-10T00:00:00\",\"2020-06-11T00:00:00\",\"2020-06-12T00:00:00\",\"2020-06-15T00:00:00\",\"2020-06-16T00:00:00\",\"2020-06-17T00:00:00\",\"2020-06-18T00:00:00\",\"2020-06-19T00:00:00\",\"2020-06-22T00:00:00\",\"2020-06-23T00:00:00\",\"2020-06-24T00:00:00\",\"2020-06-25T00:00:00\",\"2020-06-26T00:00:00\",\"2020-06-29T00:00:00\",\"2020-06-30T00:00:00\",\"2020-07-01T00:00:00\",\"2020-07-02T00:00:00\",\"2020-07-06T00:00:00\",\"2020-07-07T00:00:00\",\"2020-07-08T00:00:00\",\"2020-07-09T00:00:00\",\"2020-07-10T00:00:00\",\"2020-07-13T00:00:00\",\"2020-07-14T00:00:00\",\"2020-07-15T00:00:00\",\"2020-07-16T00:00:00\",\"2020-07-17T00:00:00\",\"2020-07-20T00:00:00\",\"2020-07-21T00:00:00\",\"2020-07-22T00:00:00\",\"2020-07-23T00:00:00\",\"2020-07-24T00:00:00\",\"2020-07-27T00:00:00\",\"2020-07-28T00:00:00\",\"2020-07-29T00:00:00\",\"2020-07-30T00:00:00\",\"2020-07-31T00:00:00\",\"2020-08-03T00:00:00\",\"2020-08-04T00:00:00\",\"2020-08-05T00:00:00\",\"2020-08-06T00:00:00\",\"2020-08-07T00:00:00\",\"2020-08-10T00:00:00\",\"2020-08-11T00:00:00\",\"2020-08-12T00:00:00\",\"2020-08-13T00:00:00\",\"2020-08-14T00:00:00\",\"2020-08-17T00:00:00\",\"2020-08-18T00:00:00\",\"2020-08-19T00:00:00\",\"2020-08-20T00:00:00\",\"2020-08-21T00:00:00\",\"2020-08-24T00:00:00\",\"2020-08-25T00:00:00\",\"2020-08-26T00:00:00\",\"2020-08-27T00:00:00\",\"2020-08-28T00:00:00\",\"2020-08-31T00:00:00\",\"2020-09-01T00:00:00\",\"2020-09-02T00:00:00\",\"2020-09-03T00:00:00\",\"2020-09-04T00:00:00\",\"2020-09-08T00:00:00\",\"2020-09-09T00:00:00\",\"2020-09-10T00:00:00\",\"2020-09-11T00:00:00\",\"2020-09-14T00:00:00\",\"2020-09-15T00:00:00\",\"2020-09-16T00:00:00\",\"2020-09-17T00:00:00\",\"2020-09-18T00:00:00\",\"2020-09-21T00:00:00\",\"2020-09-22T00:00:00\",\"2020-09-23T00:00:00\",\"2020-09-24T00:00:00\",\"2020-09-25T00:00:00\",\"2020-09-28T00:00:00\",\"2020-09-29T00:00:00\",\"2020-09-30T00:00:00\",\"2020-10-01T00:00:00\",\"2020-10-02T00:00:00\",\"2020-10-05T00:00:00\",\"2020-10-06T00:00:00\",\"2020-10-07T00:00:00\",\"2020-10-08T00:00:00\",\"2020-10-09T00:00:00\",\"2020-10-12T00:00:00\",\"2020-10-13T00:00:00\",\"2020-10-14T00:00:00\",\"2020-10-15T00:00:00\",\"2020-10-16T00:00:00\",\"2020-10-19T00:00:00\",\"2020-10-20T00:00:00\",\"2020-10-21T00:00:00\",\"2020-10-22T00:00:00\",\"2020-10-23T00:00:00\",\"2020-10-26T00:00:00\",\"2020-10-27T00:00:00\",\"2020-10-28T00:00:00\",\"2020-10-29T00:00:00\",\"2020-10-30T00:00:00\",\"2020-11-02T00:00:00\",\"2020-11-03T00:00:00\",\"2020-11-04T00:00:00\",\"2020-11-05T00:00:00\",\"2020-11-06T00:00:00\",\"2020-11-09T00:00:00\",\"2020-11-10T00:00:00\",\"2020-11-11T00:00:00\",\"2020-11-12T00:00:00\",\"2020-11-13T00:00:00\",\"2020-11-16T00:00:00\",\"2020-11-17T00:00:00\",\"2020-11-18T00:00:00\",\"2020-11-19T00:00:00\",\"2020-11-20T00:00:00\",\"2020-11-23T00:00:00\",\"2020-11-24T00:00:00\",\"2020-11-25T00:00:00\",\"2020-11-27T00:00:00\",\"2020-11-30T00:00:00\",\"2020-12-01T00:00:00\",\"2020-12-02T00:00:00\",\"2020-12-03T00:00:00\",\"2020-12-04T00:00:00\",\"2020-12-07T00:00:00\",\"2020-12-08T00:00:00\",\"2020-12-09T00:00:00\",\"2020-12-10T00:00:00\",\"2020-12-11T00:00:00\",\"2020-12-14T00:00:00\",\"2020-12-15T00:00:00\",\"2020-12-16T00:00:00\",\"2020-12-17T00:00:00\",\"2020-12-18T00:00:00\",\"2020-12-21T00:00:00\",\"2020-12-22T00:00:00\",\"2020-12-23T00:00:00\",\"2020-12-24T00:00:00\",\"2020-12-28T00:00:00\",\"2020-12-29T00:00:00\",\"2020-12-30T00:00:00\",\"2020-12-31T00:00:00\",\"2021-01-04T00:00:00\",\"2021-01-05T00:00:00\",\"2021-01-06T00:00:00\",\"2021-01-07T00:00:00\",\"2021-01-08T00:00:00\",\"2021-01-11T00:00:00\",\"2021-01-12T00:00:00\",\"2021-01-13T00:00:00\",\"2021-01-14T00:00:00\",\"2021-01-15T00:00:00\",\"2021-01-19T00:00:00\",\"2021-01-20T00:00:00\",\"2021-01-21T00:00:00\",\"2021-01-22T00:00:00\",\"2021-01-25T00:00:00\",\"2021-01-26T00:00:00\",\"2021-01-27T00:00:00\",\"2021-01-28T00:00:00\",\"2021-01-29T00:00:00\",\"2021-02-01T00:00:00\",\"2021-02-02T00:00:00\",\"2021-02-03T00:00:00\",\"2021-02-04T00:00:00\",\"2021-02-05T00:00:00\",\"2021-02-08T00:00:00\",\"2021-02-09T00:00:00\",\"2021-02-10T00:00:00\",\"2021-02-11T00:00:00\",\"2021-02-12T00:00:00\",\"2021-02-16T00:00:00\",\"2021-02-17T00:00:00\",\"2021-02-18T00:00:00\",\"2021-02-19T00:00:00\",\"2021-02-22T00:00:00\",\"2021-02-23T00:00:00\",\"2021-02-24T00:00:00\",\"2021-02-25T00:00:00\",\"2021-02-26T00:00:00\",\"2021-03-01T00:00:00\",\"2021-03-02T00:00:00\",\"2021-03-03T00:00:00\",\"2021-03-04T00:00:00\",\"2021-03-05T00:00:00\",\"2021-03-08T00:00:00\",\"2021-03-09T00:00:00\",\"2021-03-10T00:00:00\",\"2021-03-11T00:00:00\",\"2021-03-12T00:00:00\",\"2021-03-15T00:00:00\",\"2021-03-16T00:00:00\",\"2021-03-17T00:00:00\",\"2021-03-18T00:00:00\",\"2021-03-19T00:00:00\",\"2021-03-22T00:00:00\",\"2021-03-23T00:00:00\",\"2021-03-24T00:00:00\",\"2021-03-25T00:00:00\",\"2021-03-26T00:00:00\",\"2021-03-29T00:00:00\",\"2021-03-30T00:00:00\",\"2021-03-31T00:00:00\",\"2021-04-01T00:00:00\",\"2021-04-05T00:00:00\",\"2021-04-06T00:00:00\",\"2021-04-07T00:00:00\",\"2021-04-08T00:00:00\",\"2021-04-09T00:00:00\",\"2021-04-12T00:00:00\",\"2021-04-13T00:00:00\",\"2021-04-14T00:00:00\",\"2021-04-15T00:00:00\",\"2021-04-16T00:00:00\",\"2021-04-19T00:00:00\",\"2021-04-20T00:00:00\",\"2021-04-21T00:00:00\",\"2021-04-22T00:00:00\",\"2021-04-23T00:00:00\",\"2021-04-26T00:00:00\",\"2021-04-27T00:00:00\",\"2021-04-28T00:00:00\",\"2021-04-29T00:00:00\",\"2021-04-30T00:00:00\",\"2021-05-03T00:00:00\",\"2021-05-04T00:00:00\",\"2021-05-05T00:00:00\",\"2021-05-06T00:00:00\",\"2021-05-07T00:00:00\",\"2021-05-10T00:00:00\",\"2021-05-11T00:00:00\",\"2021-05-12T00:00:00\",\"2021-05-13T00:00:00\",\"2021-05-14T00:00:00\",\"2021-05-17T00:00:00\",\"2021-05-18T00:00:00\",\"2021-05-19T00:00:00\",\"2021-05-20T00:00:00\",\"2021-05-21T00:00:00\",\"2021-05-24T00:00:00\",\"2021-05-25T00:00:00\",\"2021-05-26T00:00:00\",\"2021-05-27T00:00:00\",\"2021-05-28T00:00:00\",\"2021-06-01T00:00:00\",\"2021-06-02T00:00:00\",\"2021-06-03T00:00:00\",\"2021-06-04T00:00:00\",\"2021-06-07T00:00:00\",\"2021-06-08T00:00:00\",\"2021-06-09T00:00:00\",\"2021-06-10T00:00:00\",\"2021-06-11T00:00:00\",\"2021-06-14T00:00:00\",\"2021-06-15T00:00:00\",\"2021-06-16T00:00:00\",\"2021-06-17T00:00:00\",\"2021-06-18T00:00:00\",\"2021-06-21T00:00:00\",\"2021-06-22T00:00:00\",\"2021-06-23T00:00:00\",\"2021-06-24T00:00:00\",\"2021-06-25T00:00:00\",\"2021-06-28T00:00:00\",\"2021-06-29T00:00:00\",\"2021-06-30T00:00:00\",\"2021-07-01T00:00:00\",\"2021-07-02T00:00:00\",\"2021-07-06T00:00:00\",\"2021-07-07T00:00:00\",\"2021-07-08T00:00:00\",\"2021-07-09T00:00:00\",\"2021-07-12T00:00:00\",\"2021-07-13T00:00:00\",\"2021-07-14T00:00:00\",\"2021-07-15T00:00:00\",\"2021-07-16T00:00:00\",\"2021-07-19T00:00:00\",\"2021-07-20T00:00:00\",\"2021-07-21T00:00:00\",\"2021-07-22T00:00:00\",\"2021-07-23T00:00:00\",\"2021-07-26T00:00:00\",\"2021-07-27T00:00:00\",\"2021-07-28T00:00:00\",\"2021-07-29T00:00:00\",\"2021-07-30T00:00:00\",\"2021-08-02T00:00:00\",\"2021-08-03T00:00:00\",\"2021-08-04T00:00:00\",\"2021-08-05T00:00:00\",\"2021-08-06T00:00:00\",\"2021-08-09T00:00:00\",\"2021-08-10T00:00:00\",\"2021-08-11T00:00:00\",\"2021-08-12T00:00:00\",\"2021-08-13T00:00:00\",\"2021-08-16T00:00:00\",\"2021-08-17T00:00:00\",\"2021-08-18T00:00:00\",\"2021-08-19T00:00:00\",\"2021-08-20T00:00:00\",\"2021-08-23T00:00:00\",\"2021-08-24T00:00:00\",\"2021-08-25T00:00:00\",\"2021-08-26T00:00:00\",\"2021-08-27T00:00:00\",\"2021-08-30T00:00:00\",\"2021-08-31T00:00:00\",\"2021-09-01T00:00:00\",\"2021-09-02T00:00:00\",\"2021-09-03T00:00:00\",\"2021-09-07T00:00:00\",\"2021-09-08T00:00:00\",\"2021-09-09T00:00:00\",\"2021-09-10T00:00:00\",\"2021-09-13T00:00:00\",\"2021-09-14T00:00:00\",\"2021-09-15T00:00:00\",\"2021-09-16T00:00:00\",\"2021-09-17T00:00:00\",\"2021-09-20T00:00:00\",\"2021-09-21T00:00:00\",\"2021-09-22T00:00:00\",\"2021-09-23T00:00:00\",\"2021-09-24T00:00:00\",\"2021-09-27T00:00:00\",\"2021-09-28T00:00:00\",\"2021-09-29T00:00:00\",\"2021-09-30T00:00:00\",\"2021-10-01T00:00:00\",\"2021-10-04T00:00:00\",\"2021-10-05T00:00:00\",\"2021-10-06T00:00:00\",\"2021-10-07T00:00:00\",\"2021-10-08T00:00:00\",\"2021-10-11T00:00:00\",\"2021-10-12T00:00:00\",\"2021-10-13T00:00:00\",\"2021-10-14T00:00:00\",\"2021-10-15T00:00:00\",\"2021-10-18T00:00:00\",\"2021-10-19T00:00:00\",\"2021-10-20T00:00:00\",\"2021-10-21T00:00:00\",\"2021-10-22T00:00:00\",\"2021-10-25T00:00:00\",\"2021-10-26T00:00:00\",\"2021-10-27T00:00:00\",\"2021-10-28T00:00:00\",\"2021-10-29T00:00:00\",\"2021-11-01T00:00:00\",\"2021-11-02T00:00:00\",\"2021-11-03T00:00:00\",\"2021-11-04T00:00:00\",\"2021-11-05T00:00:00\",\"2021-11-08T00:00:00\",\"2021-11-09T00:00:00\",\"2021-11-10T00:00:00\",\"2021-11-11T00:00:00\",\"2021-11-12T00:00:00\",\"2021-11-15T00:00:00\",\"2021-11-16T00:00:00\",\"2021-11-17T00:00:00\",\"2021-11-18T00:00:00\",\"2021-11-19T00:00:00\",\"2021-11-22T00:00:00\",\"2021-11-23T00:00:00\",\"2021-11-24T00:00:00\",\"2021-11-26T00:00:00\",\"2021-11-29T00:00:00\",\"2021-11-30T00:00:00\",\"2021-12-01T00:00:00\",\"2021-12-02T00:00:00\",\"2021-12-03T00:00:00\",\"2021-12-06T00:00:00\",\"2021-12-07T00:00:00\",\"2021-12-08T00:00:00\",\"2021-12-09T00:00:00\",\"2021-12-10T00:00:00\",\"2021-12-13T00:00:00\",\"2021-12-14T00:00:00\",\"2021-12-15T00:00:00\",\"2021-12-16T00:00:00\",\"2021-12-17T00:00:00\",\"2021-12-20T00:00:00\",\"2021-12-21T00:00:00\",\"2021-12-22T00:00:00\",\"2021-12-23T00:00:00\",\"2021-12-27T00:00:00\",\"2021-12-28T00:00:00\",\"2021-12-29T00:00:00\",\"2021-12-30T00:00:00\",\"2021-12-31T00:00:00\",\"2022-01-03T00:00:00\",\"2022-01-04T00:00:00\",\"2022-01-05T00:00:00\",\"2022-01-06T00:00:00\",\"2022-01-07T00:00:00\",\"2022-01-10T00:00:00\",\"2022-01-11T00:00:00\",\"2022-01-12T00:00:00\",\"2022-01-13T00:00:00\",\"2022-01-14T00:00:00\",\"2022-01-18T00:00:00\",\"2022-01-19T00:00:00\",\"2022-01-20T00:00:00\",\"2022-01-21T00:00:00\",\"2022-01-24T00:00:00\",\"2022-01-25T00:00:00\",\"2022-01-26T00:00:00\",\"2022-01-27T00:00:00\",\"2022-01-28T00:00:00\",\"2022-01-31T00:00:00\",\"2022-02-01T00:00:00\",\"2022-02-02T00:00:00\",\"2022-02-03T00:00:00\",\"2022-02-04T00:00:00\",\"2022-02-07T00:00:00\",\"2022-02-08T00:00:00\",\"2022-02-09T00:00:00\",\"2022-02-10T00:00:00\",\"2022-02-11T00:00:00\",\"2022-02-14T00:00:00\",\"2022-02-15T00:00:00\",\"2022-02-16T00:00:00\",\"2022-02-17T00:00:00\",\"2022-02-18T00:00:00\",\"2022-02-22T00:00:00\",\"2022-02-23T00:00:00\",\"2022-02-24T00:00:00\",\"2022-02-25T00:00:00\",\"2022-02-28T00:00:00\",\"2022-03-01T00:00:00\",\"2022-03-02T00:00:00\",\"2022-03-03T00:00:00\",\"2022-03-04T00:00:00\",\"2022-03-07T00:00:00\",\"2022-03-08T00:00:00\",\"2022-03-09T00:00:00\",\"2022-03-10T00:00:00\",\"2022-03-11T00:00:00\",\"2022-03-14T00:00:00\",\"2022-03-15T00:00:00\",\"2022-03-16T00:00:00\",\"2022-03-17T00:00:00\",\"2022-03-18T00:00:00\",\"2022-03-21T00:00:00\",\"2022-03-22T00:00:00\",\"2022-03-23T00:00:00\",\"2022-03-24T00:00:00\",\"2022-03-25T00:00:00\",\"2022-03-28T00:00:00\",\"2022-03-29T00:00:00\",\"2022-03-30T00:00:00\",\"2022-03-31T00:00:00\",\"2022-04-01T00:00:00\",\"2022-04-04T00:00:00\",\"2022-04-05T00:00:00\",\"2022-04-06T00:00:00\",\"2022-04-07T00:00:00\",\"2022-04-08T00:00:00\",\"2022-04-11T00:00:00\",\"2022-04-12T00:00:00\",\"2022-04-13T00:00:00\",\"2022-04-14T00:00:00\",\"2022-04-18T00:00:00\",\"2022-04-19T00:00:00\",\"2022-04-20T00:00:00\",\"2022-04-21T00:00:00\",\"2022-04-22T00:00:00\",\"2022-04-25T00:00:00\",\"2022-04-26T00:00:00\",\"2022-04-27T00:00:00\",\"2022-04-28T00:00:00\",\"2022-04-29T00:00:00\",\"2022-05-02T00:00:00\",\"2022-05-03T00:00:00\",\"2022-05-04T00:00:00\",\"2022-05-05T00:00:00\",\"2022-05-06T00:00:00\",\"2022-05-09T00:00:00\",\"2022-05-10T00:00:00\",\"2022-05-11T00:00:00\",\"2022-05-12T00:00:00\",\"2022-05-13T00:00:00\",\"2022-05-16T00:00:00\",\"2022-05-17T00:00:00\",\"2022-05-18T00:00:00\",\"2022-05-19T00:00:00\",\"2022-05-20T00:00:00\",\"2022-05-23T00:00:00\",\"2022-05-24T00:00:00\",\"2022-05-25T00:00:00\",\"2022-05-26T00:00:00\",\"2022-05-27T00:00:00\",\"2022-05-31T00:00:00\",\"2022-06-01T00:00:00\",\"2022-06-02T00:00:00\",\"2022-06-03T00:00:00\",\"2022-06-06T00:00:00\",\"2022-06-07T00:00:00\",\"2022-06-08T00:00:00\",\"2022-06-09T00:00:00\",\"2022-06-10T00:00:00\",\"2022-06-13T00:00:00\",\"2022-06-14T00:00:00\",\"2022-06-15T00:00:00\",\"2022-06-16T00:00:00\",\"2022-06-17T00:00:00\",\"2022-06-21T00:00:00\",\"2022-06-22T00:00:00\",\"2022-06-23T00:00:00\",\"2022-06-24T00:00:00\",\"2022-06-27T00:00:00\",\"2022-06-28T00:00:00\",\"2022-06-29T00:00:00\",\"2022-06-30T00:00:00\",\"2022-07-01T00:00:00\",\"2022-07-05T00:00:00\",\"2022-07-06T00:00:00\",\"2022-07-07T00:00:00\",\"2022-07-08T00:00:00\",\"2022-07-11T00:00:00\",\"2022-07-12T00:00:00\",\"2022-07-13T00:00:00\",\"2022-07-14T00:00:00\",\"2022-07-15T00:00:00\",\"2022-07-18T00:00:00\",\"2022-07-19T00:00:00\",\"2022-07-20T00:00:00\",\"2022-07-21T00:00:00\",\"2022-07-22T00:00:00\",\"2022-07-25T00:00:00\",\"2022-07-26T00:00:00\",\"2022-07-27T00:00:00\",\"2022-07-28T00:00:00\",\"2022-07-29T00:00:00\",\"2022-08-01T00:00:00\",\"2022-08-02T00:00:00\",\"2022-08-03T00:00:00\",\"2022-08-04T00:00:00\",\"2022-08-05T00:00:00\",\"2022-08-08T00:00:00\",\"2022-08-09T00:00:00\",\"2022-08-10T00:00:00\",\"2022-08-11T00:00:00\",\"2022-08-12T00:00:00\",\"2022-08-15T00:00:00\",\"2022-08-16T00:00:00\",\"2022-08-17T00:00:00\",\"2022-08-18T00:00:00\",\"2022-08-19T00:00:00\",\"2022-08-22T00:00:00\",\"2022-08-23T00:00:00\",\"2022-08-24T00:00:00\",\"2022-08-25T00:00:00\",\"2022-08-26T00:00:00\",\"2022-08-29T00:00:00\",\"2022-08-30T00:00:00\",\"2022-08-31T00:00:00\",\"2022-09-01T00:00:00\",\"2022-09-02T00:00:00\",\"2022-09-06T00:00:00\",\"2022-09-07T00:00:00\",\"2022-09-08T00:00:00\",\"2022-09-09T00:00:00\",\"2022-09-12T00:00:00\",\"2022-09-13T00:00:00\",\"2022-09-14T00:00:00\",\"2022-09-15T00:00:00\",\"2022-09-16T00:00:00\",\"2022-09-19T00:00:00\",\"2022-09-20T00:00:00\",\"2022-09-21T00:00:00\",\"2022-09-22T00:00:00\",\"2022-09-23T00:00:00\",\"2022-09-26T00:00:00\",\"2022-09-27T00:00:00\",\"2022-09-28T00:00:00\",\"2022-09-29T00:00:00\",\"2022-09-30T00:00:00\",\"2022-10-03T00:00:00\",\"2022-10-04T00:00:00\",\"2022-10-05T00:00:00\",\"2022-10-06T00:00:00\",\"2022-10-07T00:00:00\",\"2022-10-10T00:00:00\",\"2022-10-11T00:00:00\",\"2022-10-12T00:00:00\",\"2022-10-13T00:00:00\",\"2022-10-14T00:00:00\",\"2022-10-17T00:00:00\",\"2022-10-18T00:00:00\",\"2022-10-19T00:00:00\",\"2022-10-20T00:00:00\",\"2022-10-21T00:00:00\",\"2022-10-24T00:00:00\",\"2022-10-25T00:00:00\",\"2022-10-26T00:00:00\",\"2022-10-27T00:00:00\",\"2022-10-28T00:00:00\",\"2022-10-31T00:00:00\",\"2022-11-01T00:00:00\",\"2022-11-02T00:00:00\",\"2022-11-03T00:00:00\",\"2022-11-04T00:00:00\",\"2022-11-07T00:00:00\",\"2022-11-08T00:00:00\",\"2022-11-09T00:00:00\",\"2022-11-10T00:00:00\",\"2022-11-11T00:00:00\",\"2022-11-14T00:00:00\",\"2022-11-15T00:00:00\",\"2022-11-16T00:00:00\",\"2022-11-17T00:00:00\",\"2022-11-18T00:00:00\",\"2022-11-21T00:00:00\",\"2022-11-22T00:00:00\",\"2022-11-23T00:00:00\",\"2022-11-25T00:00:00\",\"2022-11-28T00:00:00\",\"2022-11-29T00:00:00\",\"2022-11-30T00:00:00\",\"2022-12-01T00:00:00\",\"2022-12-02T00:00:00\",\"2022-12-05T00:00:00\",\"2022-12-06T00:00:00\",\"2022-12-07T00:00:00\",\"2022-12-08T00:00:00\",\"2022-12-09T00:00:00\",\"2022-12-12T00:00:00\",\"2022-12-13T00:00:00\",\"2022-12-14T00:00:00\",\"2022-12-15T00:00:00\",\"2022-12-16T00:00:00\",\"2022-12-19T00:00:00\",\"2022-12-20T00:00:00\",\"2022-12-21T00:00:00\",\"2022-12-22T00:00:00\",\"2022-12-23T00:00:00\",\"2022-12-27T00:00:00\",\"2022-12-28T00:00:00\",\"2022-12-29T00:00:00\",\"2022-12-30T00:00:00\",\"2023-01-03T00:00:00\",\"2023-01-04T00:00:00\",\"2023-01-05T00:00:00\",\"2023-01-06T00:00:00\",\"2023-01-09T00:00:00\",\"2023-01-10T00:00:00\",\"2023-01-11T00:00:00\",\"2023-01-12T00:00:00\",\"2023-01-13T00:00:00\",\"2023-01-17T00:00:00\",\"2023-01-18T00:00:00\",\"2023-01-19T00:00:00\",\"2023-01-20T00:00:00\",\"2023-01-23T00:00:00\",\"2023-01-24T00:00:00\",\"2023-01-25T00:00:00\",\"2023-01-26T00:00:00\",\"2023-01-27T00:00:00\",\"2023-01-30T00:00:00\",\"2023-01-31T00:00:00\",\"2023-02-01T00:00:00\",\"2023-02-02T00:00:00\",\"2023-02-03T00:00:00\",\"2023-02-06T00:00:00\",\"2023-02-07T00:00:00\",\"2023-02-08T00:00:00\",\"2023-02-09T00:00:00\",\"2023-02-10T00:00:00\",\"2023-02-13T00:00:00\",\"2023-02-14T00:00:00\",\"2023-02-15T00:00:00\",\"2023-02-16T00:00:00\",\"2023-02-17T00:00:00\",\"2023-02-21T00:00:00\",\"2023-02-22T00:00:00\",\"2023-02-23T00:00:00\",\"2023-02-24T00:00:00\",\"2023-02-27T00:00:00\",\"2023-02-28T00:00:00\",\"2023-03-01T00:00:00\",\"2023-03-02T00:00:00\",\"2023-03-03T00:00:00\",\"2023-03-06T00:00:00\",\"2023-03-07T00:00:00\",\"2023-03-08T00:00:00\",\"2023-03-09T00:00:00\",\"2023-03-10T00:00:00\",\"2023-03-13T00:00:00\",\"2023-03-14T00:00:00\",\"2023-03-15T00:00:00\",\"2023-03-16T00:00:00\",\"2023-03-17T00:00:00\",\"2023-03-20T00:00:00\",\"2023-03-21T00:00:00\",\"2023-03-22T00:00:00\",\"2023-03-23T00:00:00\",\"2023-03-24T00:00:00\",\"2023-03-27T00:00:00\",\"2023-03-28T00:00:00\",\"2023-03-29T00:00:00\",\"2023-03-30T00:00:00\",\"2023-03-31T00:00:00\",\"2023-04-03T00:00:00\",\"2023-04-04T00:00:00\",\"2023-04-05T00:00:00\",\"2023-04-06T00:00:00\",\"2023-04-10T00:00:00\",\"2023-04-11T00:00:00\",\"2023-04-12T00:00:00\",\"2023-04-13T00:00:00\",\"2023-04-14T00:00:00\",\"2023-04-17T00:00:00\",\"2023-04-18T00:00:00\",\"2023-04-19T00:00:00\",\"2023-04-20T00:00:00\",\"2023-04-21T00:00:00\",\"2023-04-24T00:00:00\",\"2023-04-25T00:00:00\",\"2023-04-26T00:00:00\",\"2023-04-27T00:00:00\",\"2023-04-28T00:00:00\",\"2023-05-01T00:00:00\",\"2023-05-02T00:00:00\",\"2023-05-03T00:00:00\",\"2023-05-04T00:00:00\",\"2023-05-05T00:00:00\",\"2023-05-08T00:00:00\",\"2023-05-09T00:00:00\",\"2023-05-10T00:00:00\",\"2023-05-11T00:00:00\",\"2023-05-12T00:00:00\",\"2023-05-15T00:00:00\",\"2023-05-16T00:00:00\",\"2023-05-17T00:00:00\",\"2023-05-18T00:00:00\",\"2023-05-19T00:00:00\",\"2023-05-22T00:00:00\",\"2023-05-23T00:00:00\",\"2023-05-24T00:00:00\",\"2023-05-25T00:00:00\",\"2023-05-26T00:00:00\",\"2023-05-30T00:00:00\",\"2023-05-31T00:00:00\",\"2023-06-01T00:00:00\",\"2023-06-02T00:00:00\",\"2023-06-05T00:00:00\",\"2023-06-06T00:00:00\",\"2023-06-07T00:00:00\",\"2023-06-08T00:00:00\",\"2023-06-09T00:00:00\",\"2023-06-12T00:00:00\",\"2023-06-13T00:00:00\",\"2023-06-14T00:00:00\",\"2023-06-15T00:00:00\",\"2023-06-16T00:00:00\",\"2023-06-20T00:00:00\",\"2023-06-21T00:00:00\",\"2023-06-22T00:00:00\",\"2023-06-23T00:00:00\",\"2023-06-26T00:00:00\",\"2023-06-27T00:00:00\",\"2023-06-28T00:00:00\",\"2023-06-29T00:00:00\",\"2023-06-30T00:00:00\",\"2023-07-03T00:00:00\",\"2023-07-05T00:00:00\",\"2023-07-06T00:00:00\",\"2023-07-07T00:00:00\",\"2023-07-10T00:00:00\",\"2023-07-11T00:00:00\",\"2023-07-12T00:00:00\",\"2023-07-13T00:00:00\",\"2023-07-14T00:00:00\",\"2023-07-17T00:00:00\",\"2023-07-18T00:00:00\",\"2023-07-19T00:00:00\",\"2023-07-20T00:00:00\",\"2023-07-21T00:00:00\",\"2023-07-24T00:00:00\",\"2023-07-25T00:00:00\",\"2023-07-26T00:00:00\",\"2023-07-27T00:00:00\",\"2023-07-28T00:00:00\",\"2023-07-31T00:00:00\",\"2023-08-01T00:00:00\",\"2023-08-02T00:00:00\",\"2023-08-03T00:00:00\",\"2023-08-04T00:00:00\",\"2023-08-07T00:00:00\",\"2023-08-08T00:00:00\",\"2023-08-09T00:00:00\",\"2023-08-10T00:00:00\",\"2023-08-11T00:00:00\",\"2023-08-14T00:00:00\",\"2023-08-15T00:00:00\",\"2023-08-16T00:00:00\",\"2023-08-17T00:00:00\",\"2023-08-18T00:00:00\",\"2023-08-21T00:00:00\",\"2023-08-22T00:00:00\",\"2023-08-23T00:00:00\",\"2023-08-24T00:00:00\",\"2023-08-25T00:00:00\",\"2023-08-28T00:00:00\",\"2023-08-29T00:00:00\",\"2023-08-30T00:00:00\",\"2023-08-31T00:00:00\",\"2023-09-01T00:00:00\",\"2023-09-05T00:00:00\",\"2023-09-06T00:00:00\",\"2023-09-07T00:00:00\",\"2023-09-08T00:00:00\",\"2023-09-11T00:00:00\",\"2023-09-12T00:00:00\",\"2023-09-13T00:00:00\",\"2023-09-14T00:00:00\",\"2023-09-15T00:00:00\",\"2023-09-18T00:00:00\",\"2023-09-19T00:00:00\",\"2023-09-20T00:00:00\",\"2023-09-21T00:00:00\",\"2023-09-22T00:00:00\",\"2023-09-25T00:00:00\",\"2023-09-26T00:00:00\",\"2023-09-27T00:00:00\",\"2023-09-28T00:00:00\",\"2023-09-29T00:00:00\",\"2023-10-02T00:00:00\",\"2023-10-03T00:00:00\",\"2023-10-04T00:00:00\",\"2023-10-05T00:00:00\",\"2023-10-06T00:00:00\",\"2023-10-09T00:00:00\",\"2023-10-10T00:00:00\",\"2023-10-11T00:00:00\",\"2023-10-12T00:00:00\",\"2023-10-13T00:00:00\",\"2023-10-16T00:00:00\",\"2023-10-17T00:00:00\",\"2023-10-18T00:00:00\",\"2023-10-19T00:00:00\",\"2023-10-20T00:00:00\",\"2023-10-23T00:00:00\",\"2023-10-24T00:00:00\",\"2023-10-25T00:00:00\",\"2023-10-26T00:00:00\",\"2023-10-27T00:00:00\",\"2023-10-30T00:00:00\",\"2023-10-31T00:00:00\",\"2023-11-01T00:00:00\",\"2023-11-02T00:00:00\",\"2023-11-03T00:00:00\",\"2023-11-06T00:00:00\",\"2023-11-07T00:00:00\",\"2023-11-08T00:00:00\",\"2023-11-09T00:00:00\",\"2023-11-10T00:00:00\",\"2023-11-13T00:00:00\",\"2023-11-14T00:00:00\",\"2023-11-15T00:00:00\",\"2023-11-16T00:00:00\",\"2023-11-17T00:00:00\",\"2023-11-20T00:00:00\",\"2023-11-21T00:00:00\",\"2023-11-22T00:00:00\",\"2023-11-24T00:00:00\",\"2023-11-27T00:00:00\",\"2023-11-28T00:00:00\",\"2023-11-29T00:00:00\",\"2023-11-30T00:00:00\",\"2023-12-01T00:00:00\",\"2023-12-04T00:00:00\",\"2023-12-05T00:00:00\",\"2023-12-06T00:00:00\",\"2023-12-07T00:00:00\",\"2023-12-08T00:00:00\",\"2023-12-11T00:00:00\",\"2023-12-12T00:00:00\",\"2023-12-13T00:00:00\",\"2023-12-14T00:00:00\",\"2023-12-15T00:00:00\",\"2023-12-18T00:00:00\",\"2023-12-19T00:00:00\",\"2023-12-20T00:00:00\",\"2023-12-21T00:00:00\",\"2023-12-22T00:00:00\",\"2023-12-26T00:00:00\",\"2023-12-27T00:00:00\",\"2023-12-28T00:00:00\",\"2023-12-29T00:00:00\",\"2024-01-02T00:00:00\",\"2024-01-03T00:00:00\",\"2024-01-04T00:00:00\",\"2024-01-05T00:00:00\",\"2024-01-08T00:00:00\",\"2024-01-09T00:00:00\",\"2024-01-10T00:00:00\",\"2024-01-11T00:00:00\",\"2024-01-12T00:00:00\",\"2024-01-16T00:00:00\",\"2024-01-17T00:00:00\",\"2024-01-18T00:00:00\",\"2024-01-19T00:00:00\",\"2024-01-22T00:00:00\",\"2024-01-23T00:00:00\",\"2024-01-24T00:00:00\",\"2024-01-25T00:00:00\",\"2024-01-26T00:00:00\",\"2024-01-29T00:00:00\",\"2024-01-30T00:00:00\",\"2024-01-31T00:00:00\",\"2024-02-01T00:00:00\",\"2024-02-02T00:00:00\",\"2024-02-05T00:00:00\",\"2024-02-06T00:00:00\",\"2024-02-07T00:00:00\",\"2024-02-08T00:00:00\",\"2024-02-09T00:00:00\",\"2024-02-12T00:00:00\",\"2024-02-13T00:00:00\",\"2024-02-14T00:00:00\",\"2024-02-15T00:00:00\",\"2024-02-16T00:00:00\",\"2024-02-20T00:00:00\",\"2024-02-21T00:00:00\",\"2024-02-22T00:00:00\",\"2024-02-23T00:00:00\",\"2024-02-26T00:00:00\",\"2024-02-27T00:00:00\",\"2024-02-28T00:00:00\",\"2024-02-29T00:00:00\",\"2024-03-01T00:00:00\",\"2024-03-04T00:00:00\",\"2024-03-05T00:00:00\",\"2024-03-06T00:00:00\",\"2024-03-07T00:00:00\",\"2024-03-08T00:00:00\",\"2024-03-11T00:00:00\",\"2024-03-12T00:00:00\",\"2024-03-13T00:00:00\",\"2024-03-14T00:00:00\",\"2024-03-15T00:00:00\",\"2024-03-18T00:00:00\",\"2024-03-19T00:00:00\",\"2024-03-20T00:00:00\",\"2024-03-21T00:00:00\",\"2024-03-22T00:00:00\",\"2024-03-25T00:00:00\",\"2024-03-26T00:00:00\"],\"xaxis\":\"x\",\"y\":[39854.840994402795,39298.00099168836,39375.0231168343,39922.78192854707,40482.20428438538,40590.07861684157,40437.36100366053,40493.55348771435,40336.59898279491,40406.54614537968,40516.900126798624,40629.66815065111,40686.696603296725,40171.324614776626,40268.39112207902,40194.38650292263,40587.13883102521,40864.937573493386,40757.99919916972,41108.387057156986,41098.95732001291,41144.633280688,41279.582148600464,41411.45745230131,41149.020194439116,41030.6917556044,41076.89260523064,40940.39022970002,41199.727424939294,41105.358119636636,41337.784943386854,41612.303128087384,41757.989836661385,41745.7286473537,42147.13913218749,41705.168987063254,41428.12339271225,41372.90013772451,41399.13002484438,41397.89076348541,41086.062293754476,40606.27744022244,40953.37161469806,40889.31370049996,40753.71147862088,40891.24171773195,40987.462704489095,41087.304316744034,41291.47581919314,41155.7466830311,41206.13651593538,41242.25909346651,41129.67324607232,40801.85543622054,41061.558262656,40999.710621869446,41369.249647597455,41519.395114004896,41319.78346737022,41453.24870396074,41587.12824364057,41588.45636484744,41507.306191690725,41384.98264877809,41599.128152499004,41712.05089646654,41655.14449291546,41591.9527031194,41719.68497326863,41331.48371917147,41539.942468937516,41405.77691664673,41296.0803330432,40925.57180526794,41160.710948492706,41297.97143514505,41544.851742064355,41739.08569754879,41895.92554874857,42323.76944962611,42545.5088385165,42271.85527019299,42000.24905444077,42171.91925441889,42359.67316495132,42091.37982424655,41602.06291336429,41381.81747142653,41462.163108234934,41545.52478402104,41474.519556281455,41492.056337940805,41385.77803592088,41344.16869159563,41345.56177146591,41295.57450065089,41344.666555643584,41260.56213392594,40751.90870170833,40464.53534220087,40240.940509568936,39928.37057060056,40235.64480392989,40205.00757366464,40747.71953196806,41251.579468502845,41121.00000396645,41331.32097673451,41411.40751502327,41405.26430651473,41523.09093392925,41466.878127573815,41659.127317466235,41622.08597359435,41641.098983849115,41782.548276901885,41653.53320742152,42249.21170681174,42212.4510494056,42355.14998739141,42499.175268915154,42142.60199832746,42515.94446727436,42521.091930236806,42014.707093051264,42425.929584222635,42596.31109367838,42552.81496253809,42212.57576508305,42170.0230439057,42384.355596779984,42169.859669625475,42437.48845837845,42657.26853081838,42455.213453485456,42661.74590238968,43010.85224496698,42556.159964116196,42338.98875882048,42425.09282439099,42715.8685292883,42353.09323305723,42542.44561775754,42854.95124221996,42878.07003815914,42090.58146077367,42811.954773533595,42267.17342407736,42248.342805571214,42269.31508454524,42431.709412782955,42807.388163896,42355.830252288186,42230.11927034897,42273.32067509056,41821.43642319329,41725.23925409018,41709.10172788478,41574.64737590165,41529.698757773775,41341.63233937509,41867.593814053835,42060.743479601515,42091.80876860657,42082.43901981416,42344.51313987131,42467.96960715125,42358.46967261938,42843.760255010806,43061.62277603908,42801.71561471161,42727.66768225103,43277.07538348122,43497.59374008567,43755.34028457337,43503.45199321336,43524.91194337454,43704.61362983772,43644.71117873411,43477.89670993371,43024.866996812845,43080.044903240014,43216.52350550802,43255.58669169785,42944.372833968344,43029.96992346999,42952.22100260721,42823.96643253179,42828.17437204584,42844.34037871169,42924.51985355262,42766.01522745566,42476.92678696459,42288.23418457925,42383.22431243914,42217.52678593707,42296.04089124532,42049.784895897144,42057.99020449249,42204.8943111129,42237.82650011252,42240.318831826444,42490.876121201036,42753.37285077932,43020.97602969994,42886.15865173992,43547.07469645745,43406.381295739375,43842.82640740041,43397.79587079503,43628.03858494555,43814.09406096921,44199.486321709555,44414.37475960387,44049.14727438496,43729.949865495146,43586.395474697754,43329.98020913987,43433.99816290328,43514.3275948939,43818.02037478323,43948.001680959904,43979.610664506356,43604.80547928034,43541.34830274402,43470.677354005114,43581.73807553185,43863.680807907236,43690.544285201926,43646.89686764403,43793.521782312375,43878.88615251782,43680.47629155428,43696.53362614073,43661.64272005185,43725.14457135511,43328.74204058812,43253.551698686526,43232.6140051297,43131.1803168201,43117.84957978216,43190.56079935702,43311.78180392927,43143.28044110197,43051.5640453572,43193.260998483114,43208.45725184072,43264.42150727363,43503.22916593836,43256.71985855064,43427.005289656,43510.577322692436,43784.91819682747,43956.14472938749,44509.3536059474,44476.87138186717,44375.286298950734,44373.38143291941,44352.672029625915,44231.29886916279,44199.214270513185,44307.92694338126,44674.0591832611,44252.550599708135,44386.22781466317,44354.13524619549,44546.262123506465,44540.91662186083,44250.89985653819,44119.331999158996,44369.054672268336,44529.35314735055,44346.300802900514,44022.81792984443,44058.91287823598,44526.11753674121,44811.45651002822,44536.442470507136,44815.59481256357,44668.420551447605,44674.30136225001,44696.26370903577,44946.07290741823,45205.906223168626,45667.244627991546,46110.380103870964,46488.64629597887,46333.010219558826,44911.65000088212,44316.32261687388,43566.120062877926,42697.86862945119,43352.549182795374,43453.743964803885,44147.70872336893,43185.01313848379,43168.18533438481,41965.275592390964,41695.540507761325,40286.68653187034,37673.63901377271,37958.67103796023,35238.77919385774,36393.967581575416,35912.29975079217,35516.554329030965,34399.78384550255,34929.894149544,37819.90608490134,37468.66052216238,38155.63085693303,36781.98500077334,37138.75667960557,36449.62303083645,36007.91537414918,36500.84007587619,36650.5520555415,37960.1330817928,37677.36483019444,38333.51783279717,39586.68449036696,39453.96621412315,39873.41880545525,39130.99870028038,39150.14844363428,38981.27384035172,39186.29936396101,38784.761597675744,39724.107063403375,39499.43088139019,39488.91092020737,39772.55225957991,40007.863342791425,41135.574950941846,39976.544384463814,39314.29617916237,39194.733321514796,39089.7299801883,38667.568090493885,39369.440035835985,39857.66795246473,39285.568977396186,38764.35572979681,38598.26402426352,38827.447193835236,38999.99251925159,39401.09924187958,39636.64210325919,39810.47563355495,39357.240874536445,39549.53124612534,39738.977103246296,40651.00294085655,40186.50711909256,40341.25611507253,40183.93713869077,40135.427161583575,40822.174034001255,41678.70741110053,42050.39891339564,42830.413479647315,42030.07748185346,41675.919074434394,40177.539184272435,40898.96004451144,41121.79549825515,41076.45837962406,40954.26117942658,40961.484478101396,40756.56786272599,40832.45660013465,41581.038266692296,40748.722646568174,40676.69116318993,40155.75557091384,40966.78437608982,41195.07679306467,40727.1647902802,40745.72123320236,41215.90597774772,41062.84690540661,41337.33952714182,41033.56787880991,41313.6755961749,41210.693477194145,41440.585376976465,42262.09124532223,41834.76030664703,42043.33709631148,41991.45774132541,42578.030480424626,43293.50517741502,43702.9083603674,44243.979655583105,44705.58481758215,45206.01108105963,45886.525533203145,45253.24500092208,45173.40630524983,45127.23336655735,45974.26359785901,46495.549220684465,47238.37068469429,47131.880267528904,47284.52315194445,45796.17657872142,45728.53767154072,46330.892301082546,46203.70384521804,46422.812187617055,46728.85149996357,45548.13958604233,45774.344838903744,45657.35114430393,46039.358988980915,46126.39263414867,46471.218662780586,46592.2706032391,47840.58518593631,47553.7386570755,47938.16911928935,47834.00329627661,47481.16380655346,47504.244380889686,47421.100550143456,47752.426657677854,47188.31853747904,46769.45546327853,47783.53215366462,47781.89362409808,47893.73288418731,47143.00346495652,47225.478219813784,45987.18590589555,46024.178296900296,45098.65506685231,45281.81688216642,44800.537390238416,45607.79074300793,45439.33523063422,45568.96459573765,46040.57804536598,46183.5790811684,46433.048736660945,45908.96163658949,46164.48208206341,46748.18743610895,47444.4307874199,46966.77061045089,46216.820462886775,46344.305695253395,46697.00416068587,46513.40397093508,46921.46267888413,47181.4427953907,47201.03089021341,47404.095820643386,47236.41637273644,46449.886404398516,46409.56121013972,45305.44721496928,45474.2354399971,45529.777337795305,45967.85494444442,46517.10873584927,46608.60031230343,47519.97205183356,47366.2447546661,48172.94815167898,48805.87035806906,47967.014432571435,47550.4594761448,48266.33556165215,48859.82787698179,48588.64806060268,48390.66080068645,48294.83632762779,47923.75193009072,47505.42979497656,47996.26867937347,47898.390171985084,47475.93915819879,47268.987460987795,48243.88131374695,48496.47082012393,48921.72342208294,48615.778351405315,48381.98567427706,48677.180935917066,48250.97438567609,48274.254779752235,48044.98521180481,47253.82740496352,48265.667157520664,48286.448937779074,48762.25230055105,48720.57627698652,48610.101436599914,48222.542877776985,48570.40922794116,48698.379001793845,48694.272003594146,48751.31875869572,48834.34087952227,49184.19844448626,49251.79843795033,49316.44970984555,49484.967681880975,49477.340833073235,48774.677221365746,48744.33635172486,49273.80017193711,49460.548807800944,49567.87799575272,49254.912650467544,49700.12679387093,50661.665969800044,50542.41831899491,50047.90708694589,50863.376570537424,50986.75610043897,51806.717533105104,50546.9450066339,50416.1689757008,50734.75486240222,50035.38417806613,50679.333525801056,50290.31463927461,50917.53851370424,51667.511273761644,52256.01096764436,52578.00181166694,52555.94137225463,52097.05599250061,51817.73001809118,50750.010790352615,51781.61857607092,52263.292489555,53156.61861937973,53084.77325351674,53666.239751898844,52668.41612565648,52043.7181341729,52488.82470777946,52918.244602780906,53204.35806438255,51950.73571638486,52385.15729928816,53106.92324902279,53487.695180987495,54083.67037532236,53602.29584608942,54736.35702142801,54846.64237404071,54084.137819640506,54517.142930959286,54062.07916559467,54305.22951105859,53678.725326763706,52391.44698511395,52478.30169057746,53732.41412144094,54759.612102917556,53431.1587729747,53365.85386000044,53315.819082949056,53934.910944942705,53907.70472577084,54013.85633821868,54352.061568356425,54635.03642054583,54264.39538009403,54316.436218960574,54068.20955760962,54134.05050179568,54467.79065814776,54792.557828934514,54748.57078463229,54068.42390701975,55043.54773447187,55170.0905207819,54795.84062132494,54969.42168231675,54897.743478109776,55270.12620956998,56540.70845024307,56131.38846678832,56480.5548015964,56406.92961940759,56682.13971190741,57353.516166288595,58096.11955243249,57646.76254017937,57293.08270199501,55732.75729498832,56099.91616652845,56990.99925442502,57133.49232248106,56889.49800504824,56737.95516870607,56441.97323796171,56401.917937236125,56809.784417081544,56711.87204847148,57305.06194250722,57606.814259127255,57758.40687686325,57203.221060656964,57623.26351639757,56669.333875282675,56884.51509062477,57370.1904095426,58595.56314219258,58255.64756290653,56857.27721572504,56384.51730335866,56082.259592071474,55859.653807080125,55490.939551457675,53909.24874729063,52887.13302642863,53697.90148616623,53737.75764003545,53747.64658187427,53863.82773715162,54022.31756581652,53745.12945232948,53192.49161886129,53864.43051772098,53865.815157753386,53930.07667000013,53776.5297827505,53333.40333065439,52823.890707827915,53818.21777029628,54366.20430903635,54206.29002507595,54256.03579257139,53964.06271737504,53215.0411098368,52228.95156391321,53254.00765425099,53730.57069533005,53772.11917362716,53669.999808644716,54403.14955028474,54663.85695613305,52626.50933172408,52978.20564941063,51995.02030396516,51920.469638873445,51576.74983761934,51329.98114338795,51574.20642849958,50980.03293320473,50203.61513204771,50539.470695208714,51345.63391972777,51307.13153040249,51481.51188824194,51576.360301138215,51187.24125829616,51159.65747312536,50629.525838836686,50912.71996012164,51318.214594804995,51747.73067208993,51822.57043786996,51828.106507028984,52778.66712455247,52347.215299350406,52661.38611499532,52737.63022274697,52561.62472465949,52413.00584269073,51602.73872979837,51415.062159404915,51620.799067383174,51292.95975248753,51851.35105746027,51673.75850427399,51433.64799822867,50982.37467998165,50859.73985796954,50751.45959318479,50644.86159224919,50762.72753510884,51467.77810537483,52119.5021350407,52338.04967247936,51631.68732869854,51218.482775646255,51375.684440076344,52216.35035832167,52008.70109029596,51517.367365738275,51729.64365432772,51612.22938880018,51359.42752437826,51114.615761592344,51225.42840170425,51231.21399631464,51525.252152413,50845.28127649092,50746.76041373933,50754.70528122933,50783.28706406466,50682.53115925186,51258.78081421579,51341.17979544131,51165.28665583294,50886.74110600767,50986.83912349568,50507.94777134426,51124.30257559642,50768.27302007181,50996.91232727978,51498.734451161814,52778.91904939587,52479.01164508323,52606.161938474586,52804.16281611599,52740.404630824574,52810.80770328845,52830.65885682503,52318.97590571041,52502.843087112175,51861.25982418289,51489.56566495383,51214.216171612155,50955.46255339225,50896.18953405958,50224.13886000885,49856.912189347226,49231.274370451225,48882.20783099822,49506.566080620774,49718.10764415551,50434.56701011143,50428.11117439612,50693.4040929594,50381.34631340035,50781.59719442468,50703.42031783056,50676.54776715801,50353.670046472726,50392.96029728137,50301.58442170809,49775.03220974689,50519.133556072375,51044.20498371818,51088.4563139103,51244.55906700951,50989.78668791086,50923.92323387042,51288.872791609756,51254.17217506762,50817.56932758403,51689.3534352075,51665.880222856154,51161.41138479521,51428.34759444455,51337.57586369974,51602.823726810486,51416.03611257666,51737.06748167004,51476.809539206144,50886.13098701212,51282.91276098441,50875.29462209405,50439.90833710708,50931.52986638156,51450.01472011579,50580.178644559855,49780.52491129195,49907.70392189873,50282.11280338197,50675.25766430945,50978.89255891259,50575.84278130711,50732.5132309261,51430.91199105736,51999.66310787166,52394.7214415664,52127.82512975379,52627.41470866327,52869.51288341048,52890.124319241404,53014.46702605667,53352.823830293986,53928.96995409365,53746.36231006291,53271.935931657135,53396.334164679116,54118.15772500646,54193.9552096751,54126.7220797146,54116.97148873151,53848.99945930351,53582.47942049624,52701.24857172494,53715.135741912825,53648.43027478784,53586.14189894472,53205.92751553325,53126.267424140504,52856.69190958689,53814.10880647394,54390.49458087309,53959.906686842514,54283.897912771536,54355.04071861813,54502.954602880905,55074.51535259281,54985.34572656171,54812.3115186314,54974.962090549496,54985.63886467727,55082.784073260445,54617.997544066544,54519.24648189936,54080.50613424875,53660.5796286831,53496.44901336621,53907.13416070335,54105.10303666566,54563.107994643615,55005.996947913525,54445.97312791863,54620.09952975729,54505.83977807813,54614.464783358686,54540.82286332173,53810.61986396644,53647.33603664548,53074.31479714742,52629.067376485764,53059.233549255056,52471.11581156923,52476.56789821561,52214.628310562635,52563.93596567641,51706.176654643496,51848.304380329624,50498.26905182017,50519.29611582404,50181.20586913757,49888.16869813468,49737.29342046727,49460.483218851616,49910.477669358675,49161.618637278596,49128.94297799145,48844.60553379217,49093.09063562267,48964.595492170134,49623.16497102158,50372.3183552284,51042.74208297405,50102.89854055453,49833.06690098856,50579.936124462874,49969.91663138205,49794.50127994671,50083.509976495734,49947.23432697516,49535.954965432895,49134.990781381995,47422.99540406573,46984.28883842831,47573.35509527373,46857.3968038191,46929.7097599134,46664.150931828044,46653.3176896564,46592.851405066256,47316.637779834855,47229.25523448758,46875.94432942843,46674.28235408368,46147.60383224603,46679.349781328485,46284.765593653916,45551.61136728869,45797.22541604073,45685.169496892646,45335.20605435512,45285.384264021246,45381.087972994705,44847.35096195324,45124.83382909492,44946.048176738695,45696.698093808816,45689.72748021936,46000.41399836525,46025.60704941691,45872.25752658279,45404.23324422195,46251.18171310839,47133.850451947335,47361.72900020747,47223.41816337121,46994.23222595109,47714.64519913861,47830.31619662953,47286.262431934796,47969.25402663139,47857.05660423555,48600.30054718614,48540.42592895075,49384.36547236615,48955.10655766035,49269.57769239167,48841.4957798297,48911.40867026482,48129.381782874414,47170.64888506009,47645.67688350958,48330.56454360566,48520.48938712198,47377.19052321359,47253.423428251364,46646.732583191326,46252.08226818871,46225.025978775586,46244.3680534724,45646.92668434085,46575.17887742423,46911.3494808658,47405.707297583685,47840.78528218626,46731.11425709385,46645.34422559406,46166.56516986207,46094.92699526164,46269.12853177418,45852.56412889219,45544.99402962783,44813.29148141146,44138.41032494377,43742.81547080235,44037.24958848595,45169.63529274033,44922.35481012498,44713.01681064156,45459.07727738439,46797.29750060342,46617.214282819434,46353.29843050297,45704.84547415771,45063.366838366914,45099.99913412931,45629.26323183529,46099.987163518854,45412.73846447322,45768.22184955624,46231.444520715,45653.872065677606,45329.103819984775,46316.274175950675,46109.60890583443,46436.20892579288,46686.85655532323,47112.85053625237,47680.901593074195,47178.5031737322,46888.746232893456,46081.43503656789,45996.33558884175,46992.13774729993,46982.70470174953,47762.37714662706,47244.032049586254,49560.24161008831,50194.07733859039,50151.13793595057,50401.59399764772,50335.83006797964,50217.02200599123,49867.577870152534,49512.7622989073,49958.30575253748,50120.051686024264,50316.23125073922,49800.0332560634,49600.87249950125,50077.66667409741,50378.887262315526,49875.60534013053,48814.796437898025,48717.25925870711,48798.55181157293,49197.80625702241,49404.119176165455,49564.72231948484,50123.42325455884,50102.1851213148,49142.41355820396,48966.45837490853,48413.57098133853,48924.2526438097,49277.47513415973,48873.489399370024,49161.43457247005,49235.29191316094,49021.14422690154,49483.27467957421,49589.618312677216,50033.914058391754,50918.03354954671,50524.91982712971,51701.59194621015,52303.849970303265,52719.65800026866,52780.99016623267,52987.30291050057,53424.60518074631,52911.55962032926,52563.946333141124,52799.72890435423,53359.15663954192,53980.43032058065,53156.70701630267,53405.185104349825,53335.13893443401,53274.29805850329,52938.9558664871,53537.461914386586,53667.715697471845,53583.83067488027,52451.74774951287,52485.08545298228,52750.28831902127,52260.44399015744,51916.17761814562,52074.4912932299,52282.33257010987,52193.302319011455,51872.3613925542,52304.98470175588,52296.75262375903,51861.73978586645,52011.481614375625,51366.42044882595,51158.25277405994,51057.19170118022,51167.374874326815,51518.814593193456,51772.51776667497,51898.289822089755,51744.98097350203,51019.3218024748,51117.31011697602,50830.890432955835,51067.785817168246,51520.23660338732,51400.965013731744,51424.885918454376,52071.92832985334,52419.37643532018,52456.806633120184,52040.30189095851,52422.739761905366,52639.86683013116,52199.378918618066,52138.34544037079,52527.889915725165,52601.46525487517,52912.80917286339,52809.75637337105,53020.353820139324,53482.35710921473,53320.28274169897,53224.7448028545,53219.26639855307,53587.07812576568,53338.26087759227,53868.123270013915,53415.231215441425,53348.79863580007,53458.77589313119,53297.06856539522,53437.96858852715,53241.21664639099,53200.55541693506,53104.18827100616,52878.819065695876,53350.40129912537,53640.88128548183,53425.45191615994,53732.22121924691,53648.7891911577,53931.21852391201,53523.57596506585,53865.79407384552,54107.748474822685,53728.65633564554,53199.34192617029,52920.733561070505,53193.26429014799,53000.229167869285,53513.99469783326,53592.487020486515,53802.16032179333,53190.69717631501,53008.268768502494,52744.8881307419,52126.05131254808,52338.06281685685,52443.32388367541,52218.43819643568,52607.8448945242,52900.80364384642,52809.33686251923,53192.6097119301,53317.82518351963,53564.423777100725,53218.13714753144,53332.48983904549,53490.72670830196,53321.76424588088,53692.34275773533,53508.74962819622,53275.718353795346,53234.31449260475,52469.712238672386,52418.968925375884,52409.64743053085,52739.48090120782,52476.232113378006,52906.13100811339,53302.79240248989,53609.60442089584,53177.44825316201,53037.68170261909,53385.53480353854,53546.05343137728,53884.49573641308,54656.92603254668,54725.92050807851,54188.00994079616,54212.9320609505,54816.39519854003,55054.764829004365,54997.501726308816,54890.67916476745,54917.0089348451,54866.108549998076,55360.68018594417,54687.35292157893,55035.028989842685,55094.75466068914,54523.17521248039,54518.42552072328,54576.92552585617,54568.57387213416,54907.99595317361,54666.9445438741,54454.0887653139,54123.27064212385,53872.19290909603,53636.862928856026,53602.64174327478,53137.606831166806,52747.2713235856,52727.95852337793,52602.78136483306,52696.63833803246,53185.07583511147,53113.41416338834,52961.38534874151,53026.12373085944,53668.03751790578,53822.31657034782,53605.55484213863,53706.020513936775,52955.61062166161,52838.91546044514,52989.047089685984,52942.857722537825,52984.60432451838,52972.46498347192,52828.35934498352,53056.911570271186,53248.71430659875,53188.08611119239,53218.51875082454,53079.27136388044,52580.82837772675,52485.54960514421,52383.83664190196,52084.5121005922,51697.085677263196,51849.41743631236,51325.23535325323,50724.99435143736,50181.236171106095,50509.775026126335,50504.51103017525,50555.234985407275,51130.20888706729,51462.57187684314,51665.90889752767,51049.25708125749,51917.49805560289,52224.969097359455,52688.22275784831,52723.76809068122,53046.268955498075,52946.37261906358,52762.52931550193,52842.170180863606,52886.6461290204,52769.3104569166,52903.55211063456,53186.01876447767,53285.79379527558,53281.58347774367,53367.28793933017,53825.3361298994,53310.70816964981,53136.63955534446,52754.7406228613,53001.99270660339,52801.303898554375,53143.88540584065,54010.91346548209,54223.46520191698,54386.43629653598,54444.1004118269,54538.672468417004,54698.317895180495,54751.5736443378,54869.80356693267,55013.125633623546,55332.63715470572,55191.67678827388,54955.13310948243,55870.81103660694,55222.331269365444,54791.498671494104,55092.3691830739,55393.19227896782,54872.72759996591,54739.525176454394,54622.58790707429,55662.78348783821,55969.595093751086,55460.8557663051,55791.56133967915,56416.236622050805,55811.85738298242,56203.28328473851,56453.72926096949,56777.836512649636,56994.407036688914,56589.52664222955,56383.523214262175,56298.54930487337,55843.63803497617,55830.43566603123,55907.279343122995,56069.64871349751,55931.60288669837,55931.816258407656,55488.43990696193,55584.51666871826,55090.42640530215,54698.77291763948,55220.04543938699,55513.6990040411,55852.830008167824,56030.89439164366,55835.35775813969,56173.45242831546,56292.92301711024,56812.08618038284,56917.317261194585,56665.278870567025,57499.47657093603,57311.580012893624,56762.9187971856,56971.65041721457,57178.08538917173,57528.53705011551,57301.32850837338,57186.542415206204,56374.663769801184,56427.69892526063,57127.20503348598,57326.140909445116,57540.594157010935,57482.00678067815,58052.460969869906,58475.10830691348,57993.080767632695,57956.087048965404,58031.143546663894,58122.38921561669,58654.173710641466,58952.55842792399,59337.54439188229,60022.641698401494,60079.735181021664,60529.379841796,60354.15917761008,59994.66328073546,60488.61246260514,60098.58653004237,60078.92256266491,60091.30020207549,60331.79605649587,60972.41237765876,60467.937438498506,59981.24043659343,59923.658884746525,60146.07293011902],\"yaxis\":\"y\",\"type\":\"scatter\"}],                        {\"template\":{\"data\":{\"histogram2dcontour\":[{\"type\":\"histogram2dcontour\",\"colorbar\":{\"outlinewidth\":0,\"ticks\":\"\"},\"colorscale\":[[0.0,\"#0d0887\"],[0.1111111111111111,\"#46039f\"],[0.2222222222222222,\"#7201a8\"],[0.3333333333333333,\"#9c179e\"],[0.4444444444444444,\"#bd3786\"],[0.5555555555555556,\"#d8576b\"],[0.6666666666666666,\"#ed7953\"],[0.7777777777777778,\"#fb9f3a\"],[0.8888888888888888,\"#fdca26\"],[1.0,\"#f0f921\"]]}],\"choropleth\":[{\"type\":\"choropleth\",\"colorbar\":{\"outlinewidth\":0,\"ticks\":\"\"}}],\"histogram2d\":[{\"type\":\"histogram2d\",\"colorbar\":{\"outlinewidth\":0,\"ticks\":\"\"},\"colorscale\":[[0.0,\"#0d0887\"],[0.1111111111111111,\"#46039f\"],[0.2222222222222222,\"#7201a8\"],[0.3333333333333333,\"#9c179e\"],[0.4444444444444444,\"#bd3786\"],[0.5555555555555556,\"#d8576b\"],[0.6666666666666666,\"#ed7953\"],[0.7777777777777778,\"#fb9f3a\"],[0.8888888888888888,\"#fdca26\"],[1.0,\"#f0f921\"]]}],\"heatmap\":[{\"type\":\"heatmap\",\"colorbar\":{\"outlinewidth\":0,\"ticks\":\"\"},\"colorscale\":[[0.0,\"#0d0887\"],[0.1111111111111111,\"#46039f\"],[0.2222222222222222,\"#7201a8\"],[0.3333333333333333,\"#9c179e\"],[0.4444444444444444,\"#bd3786\"],[0.5555555555555556,\"#d8576b\"],[0.6666666666666666,\"#ed7953\"],[0.7777777777777778,\"#fb9f3a\"],[0.8888888888888888,\"#fdca26\"],[1.0,\"#f0f921\"]]}],\"heatmapgl\":[{\"type\":\"heatmapgl\",\"colorbar\":{\"outlinewidth\":0,\"ticks\":\"\"},\"colorscale\":[[0.0,\"#0d0887\"],[0.1111111111111111,\"#46039f\"],[0.2222222222222222,\"#7201a8\"],[0.3333333333333333,\"#9c179e\"],[0.4444444444444444,\"#bd3786\"],[0.5555555555555556,\"#d8576b\"],[0.6666666666666666,\"#ed7953\"],[0.7777777777777778,\"#fb9f3a\"],[0.8888888888888888,\"#fdca26\"],[1.0,\"#f0f921\"]]}],\"contourcarpet\":[{\"type\":\"contourcarpet\",\"colorbar\":{\"outlinewidth\":0,\"ticks\":\"\"}}],\"contour\":[{\"type\":\"contour\",\"colorbar\":{\"outlinewidth\":0,\"ticks\":\"\"},\"colorscale\":[[0.0,\"#0d0887\"],[0.1111111111111111,\"#46039f\"],[0.2222222222222222,\"#7201a8\"],[0.3333333333333333,\"#9c179e\"],[0.4444444444444444,\"#bd3786\"],[0.5555555555555556,\"#d8576b\"],[0.6666666666666666,\"#ed7953\"],[0.7777777777777778,\"#fb9f3a\"],[0.8888888888888888,\"#fdca26\"],[1.0,\"#f0f921\"]]}],\"surface\":[{\"type\":\"surface\",\"colorbar\":{\"outlinewidth\":0,\"ticks\":\"\"},\"colorscale\":[[0.0,\"#0d0887\"],[0.1111111111111111,\"#46039f\"],[0.2222222222222222,\"#7201a8\"],[0.3333333333333333,\"#9c179e\"],[0.4444444444444444,\"#bd3786\"],[0.5555555555555556,\"#d8576b\"],[0.6666666666666666,\"#ed7953\"],[0.7777777777777778,\"#fb9f3a\"],[0.8888888888888888,\"#fdca26\"],[1.0,\"#f0f921\"]]}],\"mesh3d\":[{\"type\":\"mesh3d\",\"colorbar\":{\"outlinewidth\":0,\"ticks\":\"\"}}],\"scatter\":[{\"fillpattern\":{\"fillmode\":\"overlay\",\"size\":10,\"solidity\":0.2},\"type\":\"scatter\"}],\"parcoords\":[{\"type\":\"parcoords\",\"line\":{\"colorbar\":{\"outlinewidth\":0,\"ticks\":\"\"}}}],\"scatterpolargl\":[{\"type\":\"scatterpolargl\",\"marker\":{\"colorbar\":{\"outlinewidth\":0,\"ticks\":\"\"}}}],\"bar\":[{\"error_x\":{\"color\":\"#2a3f5f\"},\"error_y\":{\"color\":\"#2a3f5f\"},\"marker\":{\"line\":{\"color\":\"#E5ECF6\",\"width\":0.5},\"pattern\":{\"fillmode\":\"overlay\",\"size\":10,\"solidity\":0.2}},\"type\":\"bar\"}],\"scattergeo\":[{\"type\":\"scattergeo\",\"marker\":{\"colorbar\":{\"outlinewidth\":0,\"ticks\":\"\"}}}],\"scatterpolar\":[{\"type\":\"scatterpolar\",\"marker\":{\"colorbar\":{\"outlinewidth\":0,\"ticks\":\"\"}}}],\"histogram\":[{\"marker\":{\"pattern\":{\"fillmode\":\"overlay\",\"size\":10,\"solidity\":0.2}},\"type\":\"histogram\"}],\"scattergl\":[{\"type\":\"scattergl\",\"marker\":{\"colorbar\":{\"outlinewidth\":0,\"ticks\":\"\"}}}],\"scatter3d\":[{\"type\":\"scatter3d\",\"line\":{\"colorbar\":{\"outlinewidth\":0,\"ticks\":\"\"}},\"marker\":{\"colorbar\":{\"outlinewidth\":0,\"ticks\":\"\"}}}],\"scattermapbox\":[{\"type\":\"scattermapbox\",\"marker\":{\"colorbar\":{\"outlinewidth\":0,\"ticks\":\"\"}}}],\"scatterternary\":[{\"type\":\"scatterternary\",\"marker\":{\"colorbar\":{\"outlinewidth\":0,\"ticks\":\"\"}}}],\"scattercarpet\":[{\"type\":\"scattercarpet\",\"marker\":{\"colorbar\":{\"outlinewidth\":0,\"ticks\":\"\"}}}],\"carpet\":[{\"aaxis\":{\"endlinecolor\":\"#2a3f5f\",\"gridcolor\":\"white\",\"linecolor\":\"white\",\"minorgridcolor\":\"white\",\"startlinecolor\":\"#2a3f5f\"},\"baxis\":{\"endlinecolor\":\"#2a3f5f\",\"gridcolor\":\"white\",\"linecolor\":\"white\",\"minorgridcolor\":\"white\",\"startlinecolor\":\"#2a3f5f\"},\"type\":\"carpet\"}],\"table\":[{\"cells\":{\"fill\":{\"color\":\"#EBF0F8\"},\"line\":{\"color\":\"white\"}},\"header\":{\"fill\":{\"color\":\"#C8D4E3\"},\"line\":{\"color\":\"white\"}},\"type\":\"table\"}],\"barpolar\":[{\"marker\":{\"line\":{\"color\":\"#E5ECF6\",\"width\":0.5},\"pattern\":{\"fillmode\":\"overlay\",\"size\":10,\"solidity\":0.2}},\"type\":\"barpolar\"}],\"pie\":[{\"automargin\":true,\"type\":\"pie\"}]},\"layout\":{\"autotypenumbers\":\"strict\",\"colorway\":[\"#636efa\",\"#EF553B\",\"#00cc96\",\"#ab63fa\",\"#FFA15A\",\"#19d3f3\",\"#FF6692\",\"#B6E880\",\"#FF97FF\",\"#FECB52\"],\"font\":{\"color\":\"#2a3f5f\"},\"hovermode\":\"closest\",\"hoverlabel\":{\"align\":\"left\"},\"paper_bgcolor\":\"white\",\"plot_bgcolor\":\"#E5ECF6\",\"polar\":{\"bgcolor\":\"#E5ECF6\",\"angularaxis\":{\"gridcolor\":\"white\",\"linecolor\":\"white\",\"ticks\":\"\"},\"radialaxis\":{\"gridcolor\":\"white\",\"linecolor\":\"white\",\"ticks\":\"\"}},\"ternary\":{\"bgcolor\":\"#E5ECF6\",\"aaxis\":{\"gridcolor\":\"white\",\"linecolor\":\"white\",\"ticks\":\"\"},\"baxis\":{\"gridcolor\":\"white\",\"linecolor\":\"white\",\"ticks\":\"\"},\"caxis\":{\"gridcolor\":\"white\",\"linecolor\":\"white\",\"ticks\":\"\"}},\"coloraxis\":{\"colorbar\":{\"outlinewidth\":0,\"ticks\":\"\"}},\"colorscale\":{\"sequential\":[[0.0,\"#0d0887\"],[0.1111111111111111,\"#46039f\"],[0.2222222222222222,\"#7201a8\"],[0.3333333333333333,\"#9c179e\"],[0.4444444444444444,\"#bd3786\"],[0.5555555555555556,\"#d8576b\"],[0.6666666666666666,\"#ed7953\"],[0.7777777777777778,\"#fb9f3a\"],[0.8888888888888888,\"#fdca26\"],[1.0,\"#f0f921\"]],\"sequentialminus\":[[0.0,\"#0d0887\"],[0.1111111111111111,\"#46039f\"],[0.2222222222222222,\"#7201a8\"],[0.3333333333333333,\"#9c179e\"],[0.4444444444444444,\"#bd3786\"],[0.5555555555555556,\"#d8576b\"],[0.6666666666666666,\"#ed7953\"],[0.7777777777777778,\"#fb9f3a\"],[0.8888888888888888,\"#fdca26\"],[1.0,\"#f0f921\"]],\"diverging\":[[0,\"#8e0152\"],[0.1,\"#c51b7d\"],[0.2,\"#de77ae\"],[0.3,\"#f1b6da\"],[0.4,\"#fde0ef\"],[0.5,\"#f7f7f7\"],[0.6,\"#e6f5d0\"],[0.7,\"#b8e186\"],[0.8,\"#7fbc41\"],[0.9,\"#4d9221\"],[1,\"#276419\"]]},\"xaxis\":{\"gridcolor\":\"white\",\"linecolor\":\"white\",\"ticks\":\"\",\"title\":{\"standoff\":15},\"zerolinecolor\":\"white\",\"automargin\":true,\"zerolinewidth\":2},\"yaxis\":{\"gridcolor\":\"white\",\"linecolor\":\"white\",\"ticks\":\"\",\"title\":{\"standoff\":15},\"zerolinecolor\":\"white\",\"automargin\":true,\"zerolinewidth\":2},\"scene\":{\"xaxis\":{\"backgroundcolor\":\"#E5ECF6\",\"gridcolor\":\"white\",\"linecolor\":\"white\",\"showbackground\":true,\"ticks\":\"\",\"zerolinecolor\":\"white\",\"gridwidth\":2},\"yaxis\":{\"backgroundcolor\":\"#E5ECF6\",\"gridcolor\":\"white\",\"linecolor\":\"white\",\"showbackground\":true,\"ticks\":\"\",\"zerolinecolor\":\"white\",\"gridwidth\":2},\"zaxis\":{\"backgroundcolor\":\"#E5ECF6\",\"gridcolor\":\"white\",\"linecolor\":\"white\",\"showbackground\":true,\"ticks\":\"\",\"zerolinecolor\":\"white\",\"gridwidth\":2}},\"shapedefaults\":{\"line\":{\"color\":\"#2a3f5f\"}},\"annotationdefaults\":{\"arrowcolor\":\"#2a3f5f\",\"arrowhead\":0,\"arrowwidth\":1},\"geo\":{\"bgcolor\":\"white\",\"landcolor\":\"#E5ECF6\",\"subunitcolor\":\"white\",\"showland\":true,\"showlakes\":true,\"lakecolor\":\"white\"},\"title\":{\"x\":0.05},\"mapbox\":{\"style\":\"light\"}}},\"xaxis\":{\"anchor\":\"y\",\"domain\":[0.0,1.0],\"title\":{\"text\":\"x\"}},\"yaxis\":{\"anchor\":\"x\",\"domain\":[0.0,1.0],\"title\":{\"text\":\"y\"}},\"legend\":{\"tracegroupgap\":0},\"margin\":{\"t\":60}},                        {\"responsive\": true}                    ).then(function(){\n",
              "                            \n",
              "var gd = document.getElementById('fc9312a4-d82d-4fbc-af6f-406f15c503e7');\n",
              "var x = new MutationObserver(function (mutations, observer) {{\n",
              "        var display = window.getComputedStyle(gd).display;\n",
              "        if (!display || display === 'none') {{\n",
              "            console.log([gd, 'removed!']);\n",
              "            Plotly.purge(gd);\n",
              "            observer.disconnect();\n",
              "        }}\n",
              "}});\n",
              "\n",
              "// Listen for the removal of the full notebook cells\n",
              "var notebookContainer = gd.closest('#notebook-container');\n",
              "if (notebookContainer) {{\n",
              "    x.observe(notebookContainer, {childList: true});\n",
              "}}\n",
              "\n",
              "// Listen for the clearing of the current output cell\n",
              "var outputEl = gd.closest('.output');\n",
              "if (outputEl) {{\n",
              "    x.observe(outputEl, {childList: true});\n",
              "}}\n",
              "\n",
              "                        })                };                            </script>        </div>\n",
              "</body>\n",
              "</html>"
            ]
          },
          "metadata": {}
        }
      ]
    },
    {
      "cell_type": "code",
      "source": [
        "def GetDailyReturnsWithWeightsAndPortfolio(stocks, investAmounts, startDate, checkDate, startingValue):\n",
        "  #Determine the weights\n",
        "  totalMonies = sum(investAmounts)\n",
        "  weightList = []\n",
        "  y = 0\n",
        "  for x in investAmounts:\n",
        "    weightList.append(x/totalMonies)\n",
        "    y = y +1\n",
        "  print(\"Total: \", totalMonies)\n",
        "  print(\"Weights: \", weightList)\n",
        "\n",
        "  DAILY = get_returns(stocks=stocks,\n",
        "            wts= weightList,\n",
        "            start_date=startDate)\n",
        "  DOUGH = pyfolio.timeseries.cum_returns(returns=DAILY, starting_value=startingValue)\n",
        "  return DOUGH[checkDate]"
      ],
      "metadata": {
        "id": "R4g5Ki5jfEJZ"
      },
      "execution_count": null,
      "outputs": []
    },
    {
      "cell_type": "code",
      "source": [
        "GetDailyReturnsWithWeightsAndPortfolio([\"BRK-A\", \"CAKE\",\"GLD\"],[8000,12000,20000], \"2018-12-31\",'2024-01-18', 40000 )"
      ],
      "metadata": {
        "colab": {
          "base_uri": "https://localhost:8080/"
        },
        "id": "zwvR8712fzJk",
        "outputId": "86683bbb-2ff9-4958-f87c-5cdb159deab1"
      },
      "execution_count": null,
      "outputs": [
        {
          "output_type": "stream",
          "name": "stdout",
          "text": [
            "Total:  40000\n",
            "Weights:  [0.2, 0.3, 0.5]\n"
          ]
        },
        {
          "output_type": "execute_result",
          "data": {
            "text/plain": [
              "55220.04543938699"
            ]
          },
          "metadata": {},
          "execution_count": 22
        }
      ]
    },
    {
      "cell_type": "code",
      "source": [
        "def GetMonthlySharpeRatioFromHist(tickers, startDate, endDate, dollarAmounts, riskFreeRate, roundDecimals):\n",
        "  histMonthly = MONTHLY_RETURNS([\"BRK-A\", \"DOGE-USD\",\"GLD\"], \"2018-12-31\", \"2024-1-1\")\n",
        "  weights = GetWeightsFromDollarAmounts(dollarAmounts)\n",
        "\n",
        "  histMonthlyWeights =  histMonthly.dot(weights)\n",
        "  # Sample Standard Deviation of Monthly Returns\n",
        "  #single number summary or variability in the data\n",
        "  stdDevMonthReturns = histMonthlyWeights.std()\n",
        "  print(\"Standard Deviation Monthly Returns: \", stdDevMonthReturns)\n",
        "  # Risk Premium\n",
        "  riskPrem = GoldDogeBerkWeights.mean() - riskFreeRate\n",
        "  #divide the risk prem by the std deviation to get the sharpe ratio\n",
        "  # reward to volitility ratio\n",
        "  sharpeRatio = riskPrem / stdDevMonthReturns\n",
        "  round(sharpeRatio,2)\n",
        "  print(\"Sharpe Ratio: \", sharpeRatio)\n",
        "  print(\"Sharpe Ratio rounded: \", round(sharpeRatio,roundDecimals))\n"
      ],
      "metadata": {
        "id": "qQH8eIBdgkDY"
      },
      "execution_count": null,
      "outputs": []
    },
    {
      "cell_type": "code",
      "source": [
        "GetMonthlySharpeRatioFromHist([\"BRK-A\", \"DOGE-USD\",\"GLD\"], \"2018-12-31\", \"2024-1-1\",[8000,12000,20000], 0.001, 2)\n"
      ],
      "metadata": {
        "colab": {
          "base_uri": "https://localhost:8080/"
        },
        "id": "nQT52fdPgy7S",
        "outputId": "f154a86c-38ae-43af-81e4-2a4633751109"
      },
      "execution_count": null,
      "outputs": [
        {
          "output_type": "stream",
          "name": "stderr",
          "text": [
            "[*********************100%%**********************]  3 of 3 completed"
          ]
        },
        {
          "output_type": "stream",
          "name": "stdout",
          "text": [
            "Total:  40000\n",
            "Weights:  [0.2, 0.3, 0.5]\n",
            "Standard Deviation Monthly Returns:  0.34376441900205584\n",
            "Sharpe Ratio:  0.2102874062474355\n",
            "Sharpe Ratio rounded:  0.21\n"
          ]
        },
        {
          "output_type": "stream",
          "name": "stderr",
          "text": [
            "\n"
          ]
        }
      ]
    },
    {
      "cell_type": "code",
      "source": [
        "round(TreasuryBillMonthReturn(97.14,100,6),2)"
      ],
      "metadata": {
        "colab": {
          "base_uri": "https://localhost:8080/"
        },
        "id": "p56dlt4NiPsO",
        "outputId": "7ac0d4e8-08cb-4a4d-b5ec-1762b36bd77b"
      },
      "execution_count": null,
      "outputs": [
        {
          "output_type": "execute_result",
          "data": {
            "text/plain": [
              "0.49"
            ]
          },
          "metadata": {},
          "execution_count": 25
        }
      ]
    },
    {
      "cell_type": "code",
      "source": [],
      "metadata": {
        "id": "7U8632vAngCC"
      },
      "execution_count": null,
      "outputs": []
    },
    {
      "cell_type": "code",
      "source": [
        "GetDailyReturnsWithWeightsAndPortfolio([\"CMG\", \"TSLA\",\"CAKE\",\"SPOT\"],[16000,32000,12000,20000], \"2019-02-1\",'2024-02-1', 80000)"
      ],
      "metadata": {
        "colab": {
          "base_uri": "https://localhost:8080/"
        },
        "id": "LZ3v1vbExicx",
        "outputId": "0f716332-1c17-4221-c75b-07fea3880c71"
      },
      "execution_count": null,
      "outputs": [
        {
          "output_type": "stream",
          "name": "stdout",
          "text": [
            "Total:  80000\n",
            "Weights:  [0.2, 0.4, 0.15, 0.25]\n"
          ]
        },
        {
          "output_type": "execute_result",
          "data": {
            "text/plain": [
              "406920.33366776095"
            ]
          },
          "metadata": {},
          "execution_count": 26
        }
      ]
    }
  ]
}