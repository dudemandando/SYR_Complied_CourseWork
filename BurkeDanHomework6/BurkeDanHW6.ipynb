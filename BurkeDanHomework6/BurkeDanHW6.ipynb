{
  "nbformat": 4,
  "nbformat_minor": 0,
  "metadata": {
    "colab": {
      "provenance": [],
      "collapsed_sections": [
        "2hGxa9Rhs3qO"
      ]
    },
    "kernelspec": {
      "name": "python3",
      "display_name": "Python 3"
    },
    "language_info": {
      "name": "python"
    }
  },
  "cells": [
    {
      "cell_type": "code",
      "execution_count": 152,
      "metadata": {
        "colab": {
          "base_uri": "https://localhost:8080/",
          "height": 0
        },
        "id": "UxOxeXhlRsl6",
        "outputId": "9f569fdb-9f1c-496d-9ac4-964432e1a104"
      },
      "outputs": [
        {
          "output_type": "stream",
          "name": "stdout",
          "text": [
            "Drive already mounted at /content/drive; to attempt to forcibly remount, call drive.mount(\"/content/drive\", force_remount=True).\n"
          ]
        },
        {
          "output_type": "stream",
          "name": "stderr",
          "text": [
            "[nltk_data] Downloading package stopwords to /root/nltk_data...\n",
            "[nltk_data]   Package stopwords is already up-to-date!\n"
          ]
        }
      ],
      "source": [
        "from google.colab import drive\n",
        "drive.mount('/content/drive')\n",
        "import pandas as pd\n",
        "import nltk\n",
        "nltk.download('stopwords')\n",
        "from nltk.corpus import stopwords\n",
        "import re\n",
        "import scipy"
      ]
    },
    {
      "cell_type": "code",
      "source": [
        "stop = stopwords.words('english')"
      ],
      "metadata": {
        "id": "n2Hqiu8muTL-"
      },
      "execution_count": 153,
      "outputs": []
    },
    {
      "cell_type": "markdown",
      "source": [
        "# **Import Clean and Format Data**"
      ],
      "metadata": {
        "id": "oChUVqouv7C-"
      }
    },
    {
      "cell_type": "markdown",
      "source": [
        "Read CSV file, remove unwanted comma characters within the review strings. Reconstruct CSV line; write to new CSV file."
      ],
      "metadata": {
        "id": "H3arJV8CxgqO"
      }
    },
    {
      "cell_type": "code",
      "source": [
        "colNames = \"\"\n",
        "newLines = []\n",
        "\n",
        "\n",
        "with open('/content/deception_data_converted_final.csv') as f:\n",
        "    lines = f.readlines()\n",
        "    newLines.append(lines[0])\n",
        "    for line in range(1,len(lines)):\n",
        "      \n",
        "      \n",
        "      x = lines[line].split(',')\n",
        "      #print(\"|\")\n",
        "      #print(x[2:len(x)])\n",
        "      review = \"\"\n",
        "      for n in range(2,len(x)):\n",
        "        x[n].replace(',','')\n",
        "        review += x[n]\n",
        "      \n",
        "      y=x[0]+ ','+x[1] + ',' + review\n",
        "      #print(y)\n",
        "      #print(\"|\")\n",
        "      newLines.append(y)\n",
        "      f.close()\n",
        "      \n",
        "\n"
      ],
      "metadata": {
        "id": "Zdx-emtoSvhl"
      },
      "execution_count": 154,
      "outputs": []
    },
    {
      "cell_type": "code",
      "source": [
        "with open(r'/content/deception_data_converted_clean.csv', 'w') as fp:\n",
        "    for item in newLines:\n",
        "        # write each item on a new line\n",
        "        fp.write(\"%s\\n\" % item)\n",
        "    print('Done')"
      ],
      "metadata": {
        "colab": {
          "base_uri": "https://localhost:8080/",
          "height": 0
        },
        "id": "gW8K0SwHuRCu",
        "outputId": "00ea0bf9-3784-4bff-b76a-6519288a046e"
      },
      "execution_count": 155,
      "outputs": [
        {
          "output_type": "stream",
          "name": "stdout",
          "text": [
            "Done\n"
          ]
        }
      ]
    },
    {
      "cell_type": "markdown",
      "source": [
        "# **Instantiate New Dataframe from Clean Data**"
      ],
      "metadata": {
        "id": "zQwY3fkNwAxF"
      }
    },
    {
      "cell_type": "code",
      "source": [
        "df = pd.read_csv('/content/deception_data_converted_clean.csv')"
      ],
      "metadata": {
        "id": "F6gA7lgqVxIH"
      },
      "execution_count": 156,
      "outputs": []
    },
    {
      "cell_type": "code",
      "source": [
        "df.head()"
      ],
      "metadata": {
        "colab": {
          "base_uri": "https://localhost:8080/",
          "height": 206
        },
        "id": "-HF-JvzGnL39",
        "outputId": "95b1690b-8027-4281-8573-f82589e74b65"
      },
      "execution_count": 157,
      "outputs": [
        {
          "output_type": "execute_result",
          "data": {
            "text/plain": [
              "  lie sentiment                                             review\n",
              "0   f         n  'Mike\\'s Pizza High Point NY Service was very ...\n",
              "1   f         n  'i really like this buffet restaurant in Marsh...\n",
              "2   f         n  'After I went shopping with some of my friend ...\n",
              "3   f         n  'Olive Oil Garden was very disappointing. I ex...\n",
              "4   f         n  'The Seven Heaven restaurant was never known f..."
            ],
            "text/html": [
              "\n",
              "  <div id=\"df-b3195f60-3817-481a-bf2f-5a06d62aea49\">\n",
              "    <div class=\"colab-df-container\">\n",
              "      <div>\n",
              "<style scoped>\n",
              "    .dataframe tbody tr th:only-of-type {\n",
              "        vertical-align: middle;\n",
              "    }\n",
              "\n",
              "    .dataframe tbody tr th {\n",
              "        vertical-align: top;\n",
              "    }\n",
              "\n",
              "    .dataframe thead th {\n",
              "        text-align: right;\n",
              "    }\n",
              "</style>\n",
              "<table border=\"1\" class=\"dataframe\">\n",
              "  <thead>\n",
              "    <tr style=\"text-align: right;\">\n",
              "      <th></th>\n",
              "      <th>lie</th>\n",
              "      <th>sentiment</th>\n",
              "      <th>review</th>\n",
              "    </tr>\n",
              "  </thead>\n",
              "  <tbody>\n",
              "    <tr>\n",
              "      <th>0</th>\n",
              "      <td>f</td>\n",
              "      <td>n</td>\n",
              "      <td>'Mike\\'s Pizza High Point NY Service was very ...</td>\n",
              "    </tr>\n",
              "    <tr>\n",
              "      <th>1</th>\n",
              "      <td>f</td>\n",
              "      <td>n</td>\n",
              "      <td>'i really like this buffet restaurant in Marsh...</td>\n",
              "    </tr>\n",
              "    <tr>\n",
              "      <th>2</th>\n",
              "      <td>f</td>\n",
              "      <td>n</td>\n",
              "      <td>'After I went shopping with some of my friend ...</td>\n",
              "    </tr>\n",
              "    <tr>\n",
              "      <th>3</th>\n",
              "      <td>f</td>\n",
              "      <td>n</td>\n",
              "      <td>'Olive Oil Garden was very disappointing. I ex...</td>\n",
              "    </tr>\n",
              "    <tr>\n",
              "      <th>4</th>\n",
              "      <td>f</td>\n",
              "      <td>n</td>\n",
              "      <td>'The Seven Heaven restaurant was never known f...</td>\n",
              "    </tr>\n",
              "  </tbody>\n",
              "</table>\n",
              "</div>\n",
              "      <button class=\"colab-df-convert\" onclick=\"convertToInteractive('df-b3195f60-3817-481a-bf2f-5a06d62aea49')\"\n",
              "              title=\"Convert this dataframe to an interactive table.\"\n",
              "              style=\"display:none;\">\n",
              "        \n",
              "  <svg xmlns=\"http://www.w3.org/2000/svg\" height=\"24px\"viewBox=\"0 0 24 24\"\n",
              "       width=\"24px\">\n",
              "    <path d=\"M0 0h24v24H0V0z\" fill=\"none\"/>\n",
              "    <path d=\"M18.56 5.44l.94 2.06.94-2.06 2.06-.94-2.06-.94-.94-2.06-.94 2.06-2.06.94zm-11 1L8.5 8.5l.94-2.06 2.06-.94-2.06-.94L8.5 2.5l-.94 2.06-2.06.94zm10 10l.94 2.06.94-2.06 2.06-.94-2.06-.94-.94-2.06-.94 2.06-2.06.94z\"/><path d=\"M17.41 7.96l-1.37-1.37c-.4-.4-.92-.59-1.43-.59-.52 0-1.04.2-1.43.59L10.3 9.45l-7.72 7.72c-.78.78-.78 2.05 0 2.83L4 21.41c.39.39.9.59 1.41.59.51 0 1.02-.2 1.41-.59l7.78-7.78 2.81-2.81c.8-.78.8-2.07 0-2.86zM5.41 20L4 18.59l7.72-7.72 1.47 1.35L5.41 20z\"/>\n",
              "  </svg>\n",
              "      </button>\n",
              "      \n",
              "  <style>\n",
              "    .colab-df-container {\n",
              "      display:flex;\n",
              "      flex-wrap:wrap;\n",
              "      gap: 12px;\n",
              "    }\n",
              "\n",
              "    .colab-df-convert {\n",
              "      background-color: #E8F0FE;\n",
              "      border: none;\n",
              "      border-radius: 50%;\n",
              "      cursor: pointer;\n",
              "      display: none;\n",
              "      fill: #1967D2;\n",
              "      height: 32px;\n",
              "      padding: 0 0 0 0;\n",
              "      width: 32px;\n",
              "    }\n",
              "\n",
              "    .colab-df-convert:hover {\n",
              "      background-color: #E2EBFA;\n",
              "      box-shadow: 0px 1px 2px rgba(60, 64, 67, 0.3), 0px 1px 3px 1px rgba(60, 64, 67, 0.15);\n",
              "      fill: #174EA6;\n",
              "    }\n",
              "\n",
              "    [theme=dark] .colab-df-convert {\n",
              "      background-color: #3B4455;\n",
              "      fill: #D2E3FC;\n",
              "    }\n",
              "\n",
              "    [theme=dark] .colab-df-convert:hover {\n",
              "      background-color: #434B5C;\n",
              "      box-shadow: 0px 1px 3px 1px rgba(0, 0, 0, 0.15);\n",
              "      filter: drop-shadow(0px 1px 2px rgba(0, 0, 0, 0.3));\n",
              "      fill: #FFFFFF;\n",
              "    }\n",
              "  </style>\n",
              "\n",
              "      <script>\n",
              "        const buttonEl =\n",
              "          document.querySelector('#df-b3195f60-3817-481a-bf2f-5a06d62aea49 button.colab-df-convert');\n",
              "        buttonEl.style.display =\n",
              "          google.colab.kernel.accessAllowed ? 'block' : 'none';\n",
              "\n",
              "        async function convertToInteractive(key) {\n",
              "          const element = document.querySelector('#df-b3195f60-3817-481a-bf2f-5a06d62aea49');\n",
              "          const dataTable =\n",
              "            await google.colab.kernel.invokeFunction('convertToInteractive',\n",
              "                                                     [key], {});\n",
              "          if (!dataTable) return;\n",
              "\n",
              "          const docLinkHtml = 'Like what you see? Visit the ' +\n",
              "            '<a target=\"_blank\" href=https://colab.research.google.com/notebooks/data_table.ipynb>data table notebook</a>'\n",
              "            + ' to learn more about interactive tables.';\n",
              "          element.innerHTML = '';\n",
              "          dataTable['output_type'] = 'display_data';\n",
              "          await google.colab.output.renderOutput(dataTable, element);\n",
              "          const docLink = document.createElement('div');\n",
              "          docLink.innerHTML = docLinkHtml;\n",
              "          element.appendChild(docLink);\n",
              "        }\n",
              "      </script>\n",
              "    </div>\n",
              "  </div>\n",
              "  "
            ]
          },
          "metadata": {},
          "execution_count": 157
        }
      ]
    },
    {
      "cell_type": "markdown",
      "source": [
        "# **Additional Data Cleaning**\n",
        "\n",
        "\n",
        "*   Remove all columns size of word is 2 or less\n",
        "\n",
        "*   Remove all columns that contain words that either are number or contain numbers\n",
        "*   Remove columns that contain words that are larger than 13 characters\n",
        "\n",
        "\n"
      ],
      "metadata": {
        "id": "NzOAav2vhtnl"
      }
    },
    {
      "cell_type": "code",
      "source": [
        "def has_numbers(inputString):\n",
        "    return any(char.isdigit() for char in inputString)\n",
        "\n",
        "def colCleaning(df):\n",
        "\n",
        "  remList = []\n",
        "  for col in df.columns:\n",
        "    if has_numbers(col):\n",
        "      remList.append(col)\n",
        "    elif len(col) < 2:\n",
        "      if col not in remList:\n",
        "        remList.append(col)\n",
        "    elif len(col) > 13:\n",
        "      if col not in remList:\n",
        "        remList.append(col)\n",
        "\n",
        "  print(\"Features Qualified for Removal /n \", remList)\n",
        "  return remList\n"
      ],
      "metadata": {
        "id": "PjB-JxqdiEBE"
      },
      "execution_count": 158,
      "outputs": []
    },
    {
      "cell_type": "markdown",
      "source": [
        "# **Separate the Data By labels**"
      ],
      "metadata": {
        "id": "2Vf9dahRnQfn"
      }
    },
    {
      "cell_type": "code",
      "source": [
        "dfSent = df[['sentiment', 'review']]\n",
        "dfLie = df[['lie', 'review']]"
      ],
      "metadata": {
        "id": "oTWPgzOsmcdg"
      },
      "execution_count": 159,
      "outputs": []
    },
    {
      "cell_type": "markdown",
      "source": [
        "# **Naive Bayes**"
      ],
      "metadata": {
        "id": "wrnh4t0mnDDW"
      }
    },
    {
      "cell_type": "markdown",
      "source": [
        "Import required dependencies"
      ],
      "metadata": {
        "id": "nDow3POIxUn_"
      }
    },
    {
      "cell_type": "code",
      "source": [
        "from sklearn.feature_extraction.text import CountVectorizer\n",
        "from sklearn.naive_bayes import MultinomialNB\n",
        "from sklearn.metrics import classification_report\n",
        "from sklearn.metrics import (\n",
        "    accuracy_score,\n",
        "    confusion_matrix,\n",
        "    ConfusionMatrixDisplay,\n",
        "    f1_score,\n",
        ")\n",
        "from sklearn.model_selection import train_test_split\n",
        "\n",
        "import numpy as np\n",
        "from sklearn.feature_extraction import text\n",
        "from sklearn.feature_extraction.text import TfidfVectorizer"
      ],
      "metadata": {
        "id": "D3yYZ-eDmqqP"
      },
      "execution_count": 160,
      "outputs": []
    },
    {
      "cell_type": "markdown",
      "source": [
        "# **Sentiment**"
      ],
      "metadata": {
        "id": "rLQad1vonjc-"
      }
    },
    {
      "cell_type": "markdown",
      "source": [
        "Removal of Stop Words"
      ],
      "metadata": {
        "id": "gctIAII0xRRG"
      }
    },
    {
      "cell_type": "code",
      "source": [
        "dfSent['review'] = dfSent['review'].apply(lambda x: ' '.join([word for word in x.split() if word not in (stop)]))"
      ],
      "metadata": {
        "colab": {
          "base_uri": "https://localhost:8080/",
          "height": 0
        },
        "id": "hYDzL_ulxKEm",
        "outputId": "586a498a-cecc-4154-cdee-55d12b39c26a"
      },
      "execution_count": 161,
      "outputs": [
        {
          "output_type": "stream",
          "name": "stderr",
          "text": [
            "<ipython-input-161-bc35a5e871f6>:1: SettingWithCopyWarning: \n",
            "A value is trying to be set on a copy of a slice from a DataFrame.\n",
            "Try using .loc[row_indexer,col_indexer] = value instead\n",
            "\n",
            "See the caveats in the documentation: https://pandas.pydata.org/pandas-docs/stable/user_guide/indexing.html#returning-a-view-versus-a-copy\n",
            "  dfSent['review'] = dfSent['review'].apply(lambda x: ' '.join([word for word in x.split() if word not in (stop)]))\n"
          ]
        }
      ]
    },
    {
      "cell_type": "markdown",
      "source": [
        "Change Data type of labels to category"
      ],
      "metadata": {
        "id": "93pyy7GRwst1"
      }
    },
    {
      "cell_type": "code",
      "source": [
        "dfSent['sentiment'] = dfSent['sentiment'].astype(\"category\")\n",
        "dfLie['lie'] = dfLie['lie'].astype(\"category\")\n",
        "dfSent.dtypes"
      ],
      "metadata": {
        "colab": {
          "base_uri": "https://localhost:8080/",
          "height": 0
        },
        "id": "vkuRnJuUnG1I",
        "outputId": "078c5ed6-a471-4eec-b7ab-c27bdfa7eec8"
      },
      "execution_count": 162,
      "outputs": [
        {
          "output_type": "stream",
          "name": "stderr",
          "text": [
            "<ipython-input-162-cb8035405524>:1: SettingWithCopyWarning: \n",
            "A value is trying to be set on a copy of a slice from a DataFrame.\n",
            "Try using .loc[row_indexer,col_indexer] = value instead\n",
            "\n",
            "See the caveats in the documentation: https://pandas.pydata.org/pandas-docs/stable/user_guide/indexing.html#returning-a-view-versus-a-copy\n",
            "  dfSent['sentiment'] = dfSent['sentiment'].astype(\"category\")\n",
            "<ipython-input-162-cb8035405524>:2: SettingWithCopyWarning: \n",
            "A value is trying to be set on a copy of a slice from a DataFrame.\n",
            "Try using .loc[row_indexer,col_indexer] = value instead\n",
            "\n",
            "See the caveats in the documentation: https://pandas.pydata.org/pandas-docs/stable/user_guide/indexing.html#returning-a-view-versus-a-copy\n",
            "  dfLie['lie'] = dfLie['lie'].astype(\"category\")\n"
          ]
        },
        {
          "output_type": "execute_result",
          "data": {
            "text/plain": [
              "sentiment    category\n",
              "review         object\n",
              "dtype: object"
            ]
          },
          "metadata": {},
          "execution_count": 162
        }
      ]
    },
    {
      "cell_type": "markdown",
      "source": [
        "Create the test train split (80/20), count vectorize, store labels seperately"
      ],
      "metadata": {
        "id": "GVrzO5fqwoTF"
      }
    },
    {
      "cell_type": "code",
      "source": [
        "vectorizer = TfidfVectorizer(stop_words=stop)\n",
        "reviewsArr = vectorizer.fit_transform(dfSent['review'].tolist())\n",
        "bow = np.array(reviewsArr.todense())\n",
        "\n",
        "colnames = vectorizer.get_feature_names_out()\n",
        "\n",
        "revDf = pd.DataFrame(reviewsArr.toarray(), columns=colnames)\n",
        "removeList = colCleaning(revDf)\n",
        "revDf = revDf.drop(columns=removeList)\n",
        "\n",
        "x = scipy.sparse.csr_matrix(revDf.values)\n",
        "labels = dfSent['sentiment']"
      ],
      "metadata": {
        "id": "zYend5_bn0xH",
        "colab": {
          "base_uri": "https://localhost:8080/",
          "height": 0
        },
        "outputId": "05f77877-9534-42f3-f724-9ec478e27df1"
      },
      "execution_count": 163,
      "outputs": [
        {
          "output_type": "stream",
          "name": "stdout",
          "text": [
            "Features Qualified for Removal /n  ['10', '100', '15', '16', '20', '25', '2nd', '30', '50', '5pm', '6pm', '90', 'aforementioned', 'disappointment', 'extravaganzaburger', 'recommendation', 'recommendations']\n"
          ]
        }
      ]
    },
    {
      "cell_type": "code",
      "source": [
        "X_train, X_test, y_train, y_test = train_test_split(x, labels, \n",
        "                                                    test_size=0.2)"
      ],
      "metadata": {
        "id": "jrMlnfdsFId7"
      },
      "execution_count": 164,
      "outputs": []
    },
    {
      "cell_type": "markdown",
      "source": [
        "Check Data Types"
      ],
      "metadata": {
        "id": "LGQfgD0KwmkN"
      }
    },
    {
      "cell_type": "code",
      "source": [
        "labels.cat.categories\n"
      ],
      "metadata": {
        "colab": {
          "base_uri": "https://localhost:8080/",
          "height": 0
        },
        "id": "K7nel9dtoWoo",
        "outputId": "06af958a-d07b-4a28-80ef-cbd29b90a666"
      },
      "execution_count": 165,
      "outputs": [
        {
          "output_type": "execute_result",
          "data": {
            "text/plain": [
              "Index(['n', 'p'], dtype='object')"
            ]
          },
          "metadata": {},
          "execution_count": 165
        }
      ]
    },
    {
      "cell_type": "markdown",
      "source": [
        "Fit the Model"
      ],
      "metadata": {
        "id": "IUKhsxUjwdOd"
      }
    },
    {
      "cell_type": "code",
      "source": [
        "modelSent = MultinomialNB().fit(X_train, y_train)\n",
        "y_pred = modelSent.predict(X_test)\n"
      ],
      "metadata": {
        "id": "mSMTLwhPwcnG"
      },
      "execution_count": 166,
      "outputs": []
    },
    {
      "cell_type": "code",
      "source": [
        "cmlables = [\"Positive\", \"Negative\"]\n",
        "cm = confusion_matrix(y_test, y_pred)\n",
        "disp = ConfusionMatrixDisplay(confusion_matrix=cm, display_labels=cmlables)\n",
        "disp.plot();"
      ],
      "metadata": {
        "colab": {
          "base_uri": "https://localhost:8080/",
          "height": 455
        },
        "id": "Vddis-S4DsJz",
        "outputId": "c48f68b9-ac2b-417b-9e25-e34716e28412"
      },
      "execution_count": 167,
      "outputs": [
        {
          "output_type": "display_data",
          "data": {
            "text/plain": [
              "<Figure size 640x480 with 2 Axes>"
            ],
            "image/png": "[encoded data removed]"
          },
          "metadata": {}
        }
      ]
    },
    {
      "cell_type": "code",
      "source": [
        "print('Accuracy:', accuracy_score(y_test, y_pred))\n",
        "print(classification_report(y_test, y_pred))"
      ],
      "metadata": {
        "colab": {
          "base_uri": "https://localhost:8080/",
          "height": 0
        },
        "id": "KETy-jjDC58i",
        "outputId": "b3766c46-786c-4ff2-d6d0-687f444ec157"
      },
      "execution_count": 168,
      "outputs": [
        {
          "output_type": "stream",
          "name": "stdout",
          "text": [
            "Accuracy: 0.8947368421052632\n",
            "              precision    recall  f1-score   support\n",
            "\n",
            "           n       0.80      1.00      0.89         8\n",
            "           p       1.00      0.82      0.90        11\n",
            "\n",
            "    accuracy                           0.89        19\n",
            "   macro avg       0.90      0.91      0.89        19\n",
            "weighted avg       0.92      0.89      0.90        19\n",
            "\n"
          ]
        }
      ]
    },
    {
      "cell_type": "markdown",
      "source": [
        "# **Bernoulli - Sentiment**"
      ],
      "metadata": {
        "id": "MZxlocJmx8Cq"
      }
    },
    {
      "cell_type": "code",
      "source": [
        "# Import Bernoulli Naive bayes from sklearn\n",
        "from sklearn.naive_bayes import BernoulliNB"
      ],
      "metadata": {
        "id": "7CivAiD0yQIh"
      },
      "execution_count": 169,
      "outputs": []
    },
    {
      "cell_type": "code",
      "source": [
        "B_NaiveBayes = BernoulliNB(binarize=0.0)\n",
        "modelBerSent = B_NaiveBayes.fit(X_train, y_train)\n",
        "y_pred = B_NaiveBayes.predict(X_test)\n",
        "print('Accuracy:', accuracy_score(y_test, y_pred))\n",
        "print(classification_report(y_test, y_pred))"
      ],
      "metadata": {
        "colab": {
          "base_uri": "https://localhost:8080/",
          "height": 0
        },
        "id": "zjki4gjkyVkY",
        "outputId": "cc164d41-10b0-4710-ee66-3a817c408df3"
      },
      "execution_count": 170,
      "outputs": [
        {
          "output_type": "stream",
          "name": "stdout",
          "text": [
            "Accuracy: 0.8421052631578947\n",
            "              precision    recall  f1-score   support\n",
            "\n",
            "           n       1.00      0.62      0.77         8\n",
            "           p       0.79      1.00      0.88        11\n",
            "\n",
            "    accuracy                           0.84        19\n",
            "   macro avg       0.89      0.81      0.82        19\n",
            "weighted avg       0.88      0.84      0.83        19\n",
            "\n"
          ]
        }
      ]
    },
    {
      "cell_type": "code",
      "source": [
        "cmlables = [\"Positive\", \"Negative\"]\n",
        "cm = confusion_matrix(y_test, y_pred)\n",
        "disp = ConfusionMatrixDisplay(confusion_matrix=cm, display_labels=cmlables)\n",
        "disp.plot();"
      ],
      "metadata": {
        "colab": {
          "base_uri": "https://localhost:8080/",
          "height": 449
        },
        "id": "AWuREnRQy8CJ",
        "outputId": "c5895365-b1ee-4731-bd84-f51f562bbc99"
      },
      "execution_count": 171,
      "outputs": [
        {
          "output_type": "display_data",
          "data": {
            "text/plain": [
              "<Figure size 640x480 with 2 Axes>"
            ],
            "image/png": "[encoded data removed]"
          },
          "metadata": {}
        }
      ]
    },
    {
      "cell_type": "markdown",
      "source": [
        "# **Lie Detection**"
      ],
      "metadata": {
        "id": "2hGxa9Rhs3qO"
      }
    },
    {
      "cell_type": "markdown",
      "source": [
        "Removal of Stop Words provided a higher accuracy that leaving in place"
      ],
      "metadata": {
        "id": "A1uKl3WBwHDl"
      }
    },
    {
      "cell_type": "code",
      "source": [
        "dfLie['review'] = dfLie['review'].apply(lambda x: ' '.join([word for word in x.split() if word not in (stop)]))"
      ],
      "metadata": {
        "colab": {
          "base_uri": "https://localhost:8080/",
          "height": 0
        },
        "id": "0fQlNx1fvALf",
        "outputId": "f275d9d7-6f46-46a2-b5ba-31f6881a21ba"
      },
      "execution_count": 172,
      "outputs": [
        {
          "output_type": "stream",
          "name": "stderr",
          "text": [
            "<ipython-input-172-56947d643af4>:1: SettingWithCopyWarning: \n",
            "A value is trying to be set on a copy of a slice from a DataFrame.\n",
            "Try using .loc[row_indexer,col_indexer] = value instead\n",
            "\n",
            "See the caveats in the documentation: https://pandas.pydata.org/pandas-docs/stable/user_guide/indexing.html#returning-a-view-versus-a-copy\n",
            "  dfLie['review'] = dfLie['review'].apply(lambda x: ' '.join([word for word in x.split() if word not in (stop)]))\n"
          ]
        }
      ]
    },
    {
      "cell_type": "markdown",
      "source": [
        "Create the test train split (80/20), count vectorize, store labels seperately"
      ],
      "metadata": {
        "id": "ZG3q84HAwLiN"
      }
    },
    {
      "cell_type": "code",
      "source": [
        "vectorizer = TfidfVectorizer(stop_words=stop)\n",
        "reviewsArr = vectorizer.fit_transform(dfLie['review'].tolist())\n",
        "bow = np.array(reviewsArr.todense())\n",
        "\n",
        "colnames = vectorizer.get_feature_names_out()\n",
        "\n",
        "revDf = pd.DataFrame(reviewsArr.toarray(), columns=colnames)\n",
        "removeList = colCleaning(revDf)\n",
        "revDf = revDf.drop(columns=removeList)\n",
        "\n",
        "x = scipy.sparse.csr_matrix(revDf.values)\n",
        "labels = dfSent['sentiment']\n",
        "labels = dfLie['lie']"
      ],
      "metadata": {
        "id": "3KokuZoholje",
        "colab": {
          "base_uri": "https://localhost:8080/",
          "height": 0
        },
        "outputId": "ad08362c-4053-4fe4-9052-fe5b71d5e7bc"
      },
      "execution_count": 173,
      "outputs": [
        {
          "output_type": "stream",
          "name": "stdout",
          "text": [
            "Features Qualified for Removal /n  ['10', '100', '15', '16', '20', '25', '2nd', '30', '50', '5pm', '6pm', '90', 'aforementioned', 'disappointment', 'extravaganzaburger', 'recommendation', 'recommendations']\n"
          ]
        }
      ]
    },
    {
      "cell_type": "code",
      "source": [
        "X_train, X_test, y_train, y_test = train_test_split(x, labels, \n",
        "                                                    test_size=0.2)"
      ],
      "metadata": {
        "id": "pDmNbyiiFP6y"
      },
      "execution_count": 174,
      "outputs": []
    },
    {
      "cell_type": "markdown",
      "source": [
        "Check Data Types"
      ],
      "metadata": {
        "id": "-oRpbbjbwQet"
      }
    },
    {
      "cell_type": "code",
      "source": [
        "labels.cat.categories"
      ],
      "metadata": {
        "colab": {
          "base_uri": "https://localhost:8080/",
          "height": 0
        },
        "id": "R5kijjtEoziG",
        "outputId": "1ba0820c-1cb2-4812-e115-259e7ffe0933"
      },
      "execution_count": 175,
      "outputs": [
        {
          "output_type": "execute_result",
          "data": {
            "text/plain": [
              "Index(['f', 't'], dtype='object')"
            ]
          },
          "metadata": {},
          "execution_count": 175
        }
      ]
    },
    {
      "cell_type": "markdown",
      "source": [
        "Fit the model"
      ],
      "metadata": {
        "id": "papoKeupwzut"
      }
    },
    {
      "cell_type": "code",
      "source": [
        "modelLie = MultinomialNB().fit(X_train, y_train)\n",
        "y_pred = modelLie.predict(X_test)\n"
      ],
      "metadata": {
        "id": "JADRfSKiwzPl"
      },
      "execution_count": 176,
      "outputs": []
    },
    {
      "cell_type": "code",
      "source": [
        "cmlables = [\"Lie\", \"Not Lie\"]\n",
        "cm = confusion_matrix(y_test, y_pred)\n",
        "disp = ConfusionMatrixDisplay(confusion_matrix=cm, display_labels=cmlables)\n",
        "disp.plot();"
      ],
      "metadata": {
        "colab": {
          "base_uri": "https://localhost:8080/",
          "height": 455
        },
        "id": "8aRa2LERDMPC",
        "outputId": "dc26a667-71fc-48a2-fc93-27bf68527b50"
      },
      "execution_count": 177,
      "outputs": [
        {
          "output_type": "display_data",
          "data": {
            "text/plain": [
              "<Figure size 640x480 with 2 Axes>"
            ],
            "image/png": "[encoded data removed]"
          },
          "metadata": {}
        }
      ]
    },
    {
      "cell_type": "code",
      "source": [
        "print('Accuracy:', accuracy_score(y_test, y_pred))\n",
        "print(classification_report(y_test, y_pred))"
      ],
      "metadata": {
        "colab": {
          "base_uri": "https://localhost:8080/",
          "height": 0
        },
        "id": "YMQlqg8OCn77",
        "outputId": "4b3c003c-b17a-49c0-83c2-534aa0f9d22b"
      },
      "execution_count": 178,
      "outputs": [
        {
          "output_type": "stream",
          "name": "stdout",
          "text": [
            "Accuracy: 0.3157894736842105\n",
            "              precision    recall  f1-score   support\n",
            "\n",
            "           f       0.33      0.86      0.48         7\n",
            "           t       0.00      0.00      0.00        12\n",
            "\n",
            "    accuracy                           0.32        19\n",
            "   macro avg       0.17      0.43      0.24        19\n",
            "weighted avg       0.12      0.32      0.18        19\n",
            "\n"
          ]
        }
      ]
    },
    {
      "cell_type": "code",
      "source": [],
      "metadata": {
        "id": "UFFN8dB-yHPo"
      },
      "execution_count": 178,
      "outputs": []
    },
    {
      "cell_type": "markdown",
      "source": [
        "# **Bernoulli - Lie Detection**"
      ],
      "metadata": {
        "id": "ZhueOrLQyBiw"
      }
    },
    {
      "cell_type": "code",
      "source": [
        "B_NaiveBayes = BernoulliNB(binarize=0.0)\n",
        "modelBerSent = B_NaiveBayes.fit(X_train, y_train)\n",
        "y_pred = B_NaiveBayes.predict(X_test)\n",
        "print('Accuracy:', accuracy_score(y_test, y_pred))\n",
        "print(classification_report(y_test, y_pred))"
      ],
      "metadata": {
        "colab": {
          "base_uri": "https://localhost:8080/",
          "height": 0
        },
        "id": "nFNeR0Jd0dqx",
        "outputId": "bdcefaef-bdd9-4f27-8af4-41b28d318a45"
      },
      "execution_count": 179,
      "outputs": [
        {
          "output_type": "stream",
          "name": "stdout",
          "text": [
            "Accuracy: 0.7368421052631579\n",
            "              precision    recall  f1-score   support\n",
            "\n",
            "           f       0.75      0.43      0.55         7\n",
            "           t       0.73      0.92      0.81        12\n",
            "\n",
            "    accuracy                           0.74        19\n",
            "   macro avg       0.74      0.67      0.68        19\n",
            "weighted avg       0.74      0.74      0.72        19\n",
            "\n"
          ]
        }
      ]
    },
    {
      "cell_type": "code",
      "source": [
        "cmlables = [\"Lie\", \"Not Lie\"]\n",
        "cm = confusion_matrix(y_test, y_pred)\n",
        "disp = ConfusionMatrixDisplay(confusion_matrix=cm, display_labels=cmlables)\n",
        "disp.plot();"
      ],
      "metadata": {
        "id": "6SWQx0xX0x0Z",
        "outputId": "0425d41b-1fd6-42a3-f789-19534cef2106",
        "colab": {
          "base_uri": "https://localhost:8080/",
          "height": 449
        }
      },
      "execution_count": 180,
      "outputs": [
        {
          "output_type": "display_data",
          "data": {
            "text/plain": [
              "<Figure size 640x480 with 2 Axes>"
            ],
            "image/png": "[encoded data removed]"
          },
          "metadata": {}
        }
      ]
    }
  ]
}