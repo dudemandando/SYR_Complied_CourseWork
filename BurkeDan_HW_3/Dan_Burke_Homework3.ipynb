{
  "cells": [
    {
      "cell_type": "markdown",
      "source": [
        "# **Mount Google Drive for Reading in Data**"
      ],
      "metadata": {
        "id": "FX9nIKXA88Sa"
      }
    },
    {
      "cell_type": "code",
      "execution_count": 1,
      "metadata": {
        "colab": {
          "base_uri": "https://localhost:8080/"
        },
        "id": "vPbh87YEeX4B",
        "outputId": "e07305ea-859b-4fcd-b9ab-075f5f02bbb5"
      },
      "outputs": [
        {
          "output_type": "stream",
          "name": "stdout",
          "text": [
            "Mounted at /content/drive\n"
          ]
        }
      ],
      "source": [
        "from google.colab import drive\n",
        "\n",
        "drive.mount('/content/drive')"
      ]
    },
    {
      "cell_type": "markdown",
      "source": [
        "# **PIP Required Dependencies**"
      ],
      "metadata": {
        "id": "Iy4jymoB83Lq"
      }
    },
    {
      "cell_type": "code",
      "source": [
        "pip install svgling"
      ],
      "metadata": {
        "colab": {
          "base_uri": "https://localhost:8080/"
        },
        "id": "4vCzm4YZJN45",
        "outputId": "49b0b25a-545f-4fc1-f610-65c8c1428395"
      },
      "execution_count": 2,
      "outputs": [
        {
          "output_type": "stream",
          "name": "stdout",
          "text": [
            "Looking in indexes: https://pypi.org/simple, https://us-python.pkg.dev/colab-wheels/public/simple/\n",
            "Collecting svgling\n",
            "  Downloading svgling-0.3.1-py3-none-any.whl (21 kB)\n",
            "Collecting svgwrite\n",
            "  Downloading svgwrite-1.4.3-py3-none-any.whl (67 kB)\n",
            "\u001b[2K     \u001b[90m━━━━━━━━━━━━━━━━━━━━━━━━━━━━━━━━━━━━━━━━\u001b[0m \u001b[32m67.1/67.1 kB\u001b[0m \u001b[31m3.7 MB/s\u001b[0m eta \u001b[36m0:00:00\u001b[0m\n",
            "\u001b[?25hInstalling collected packages: svgwrite, svgling\n",
            "Successfully installed svgling-0.3.1 svgwrite-1.4.3\n"
          ]
        }
      ]
    },
    {
      "cell_type": "code",
      "execution_count": 3,
      "metadata": {
        "id": "IB9Yih_EfLcV",
        "colab": {
          "base_uri": "https://localhost:8080/"
        },
        "outputId": "9b807dbf-5f21-4094-8bd7-4c748f8ae49f"
      },
      "outputs": [
        {
          "output_type": "stream",
          "name": "stderr",
          "text": [
            "[nltk_data] Downloading package wordnet to /root/nltk_data...\n",
            "[nltk_data] Downloading package stopwords to /root/nltk_data...\n",
            "[nltk_data]   Unzipping corpora/stopwords.zip.\n"
          ]
        }
      ],
      "source": [
        "import nltk\n",
        "import pandas as pd\n",
        "import numpy as np\n",
        "import seaborn as sns\n",
        "import matplotlib.pyplot as plt\n",
        "import matplotlib.pyplot as plt\n",
        "from tabulate import tabulate\n",
        "import pprint\n",
        "import re\n",
        "from sklearn.preprocessing import LabelEncoder\n",
        "from collections import defaultdict\n",
        "nltk.download('wordnet')\n",
        "import math\n",
        "from sklearn.metrics import accuracy_score\n",
        "\n",
        "plt.style.use('ggplot')\n",
        "\n",
        "import nltk\n",
        "nltk.download('stopwords')\n",
        "\n",
        "from nltk.corpus import stopwords\n",
        "from nltk.stem.porter import PorterStemmer\n",
        "from sklearn.feature_extraction.text import CountVectorizer\n",
        "# splitting the data set into training set and test set\n",
        "from sklearn.model_selection import train_test_split\n"
      ]
    },
    {
      "cell_type": "markdown",
      "source": [
        "# **Set Paths for Reading datasets from Google Drive**"
      ],
      "metadata": {
        "id": "jhmZ2N5KtjS3"
      }
    },
    {
      "cell_type": "code",
      "execution_count": 4,
      "metadata": {
        "id": "ZW0_kmGaep_s"
      },
      "outputs": [],
      "source": [
        "\n",
        "barcelonaPath = '/content/drive/MyDrive/Barcelona_reviews.csv'\n",
        "londonPath = '/content/drive/MyDrive/London_reviews.csv'\n",
        "madridPath = '/content/drive/MyDrive/Madrid_reviews.csv'\n",
        "nyPath = '/content/drive/MyDrive/New_York_reviews.csv'\n",
        "parisPath = '/content/drive/MyDrive/Paris_reviews.csv'\n",
        "ndelhiPath = '/content/drive/MyDrive/New_Delhi_reviews.csv'"
      ]
    },
    {
      "cell_type": "markdown",
      "source": [
        "# **Create Custom Function To Format/Clean Data**"
      ],
      "metadata": {
        "id": "AcmMV8vLtrnN"
      }
    },
    {
      "cell_type": "code",
      "execution_count": 5,
      "metadata": {
        "id": "QZSWKzetealF"
      },
      "outputs": [],
      "source": [
        "def CleanUprDataFromPath(path, cityName):\n",
        "  print(\"Generating Clean Working Dataframe from path: \", path)\n",
        "  #Read in the data from gdrive\n",
        "  df = pd.read_csv(path, on_bad_lines='skip')\n",
        "  #rename 'sample' column to 'sentiment'\n",
        "  df = df.rename(columns={\"sample\": \"sentiment\"})\n",
        "\n",
        "  #trim down columns (down sample)\n",
        "  df = df[['sentiment','review_full',]]\n",
        " \n",
        "\n",
        "  df = df.head(2500)\n",
        "  print(df.shape[0])\n",
        "  \n",
        "  #make the index column the first column\n",
        "  #first_column = df.pop(\"index_column\")\n",
        "  #df.insert(0,'index_column', first_column)\n",
        "\n",
        "  print(\"\\nChecked for NA's Count is:\\n\", df.isna().sum(), end=\"\\n\")\n",
        "  print(\"\\n\", df.head().to_markdown())\n",
        "\n",
        "  return df    \n",
        "\n"
      ]
    },
    {
      "cell_type": "markdown",
      "source": [
        "# **Run Cleaning and Formatting Function on Desired Datasets**"
      ],
      "metadata": {
        "id": "jgD30tCWMaEY"
      }
    },
    {
      "cell_type": "code",
      "execution_count": 6,
      "metadata": {
        "colab": {
          "base_uri": "https://localhost:8080/"
        },
        "id": "vZqVyRqbgj-l",
        "outputId": "4232009e-ea3f-4b42-e20c-87f874854c73"
      },
      "outputs": [
        {
          "output_type": "stream",
          "name": "stdout",
          "text": [
            "Generating Clean Working Dataframe from path:  /content/drive/MyDrive/Barcelona_reviews.csv\n"
          ]
        },
        {
          "output_type": "stream",
          "name": "stderr",
          "text": [
            "<ipython-input-5-88704c1a1fe9>:4: DtypeWarning: Columns (0,1,3) have mixed types. Specify dtype option on import or set low_memory=False.\n",
            "  df = pd.read_csv(path, on_bad_lines='skip')\n"
          ]
        },
        {
          "output_type": "stream",
          "name": "stdout",
          "text": [
            "2500\n",
            "\n",
            "Checked for NA's Count is:\n",
            " sentiment      0\n",
            "review_full    0\n",
            "dtype: int64\n",
            "\n",
            " |    | sentiment   | review_full                                                                                                                                                                                                                                                                                                                                                                                                                                                                                                                                                                                                                                                                                                                                                                                                                                                                          |\n",
            "|---:|:------------|:-------------------------------------------------------------------------------------------------------------------------------------------------------------------------------------------------------------------------------------------------------------------------------------------------------------------------------------------------------------------------------------------------------------------------------------------------------------------------------------------------------------------------------------------------------------------------------------------------------------------------------------------------------------------------------------------------------------------------------------------------------------------------------------------------------------------------------------------------------------------------------------|\n",
            "|  0 | Negative    | Ok, this place is terrible! Came here bc we’ve always walked around and it seems busy and it looked like we may like it.  Not the case at all. We arrived and put our name down for a table and were told 30 min wait, sure no problem. I went ahead and checked in again after 40 min and still nothing. Finally after 1hr we got a table. Since it was already late and we were starving we knew what we wanted and ordered right away.  We ordered a Margarita pizza and two empanadas. The margarita pizza was a Plain cheese pizza. The two empanadas: one was chicken the other capris. They both had cold centers. It was terrible! We ask for the check right after and got nothing! I had to get up and bring my credit card to the waitress to the cash register. It was just terrible service and terrible food. Spain is really disappointing me In the food department. |\n",
            "|  1 | Positive    | This place was a great surprise. The food is delicious, desserts as well. Very close to Plaza Catalunya, so its a good stop for lunch after or before shopping. They serve milanesa and other uruguayan food. Amazing and good price! Much better than tapas.                                                                                                                                                                                                                                                                                                                                                                                                                                                                                                                                                                                                                        |\n",
            "|  2 | Positive    | The food is excellent.....the ambiance is very nice..the price is very affordable...LEAN is the best the crew in the restaurant shes nice and very friendly                                                                                                                                                                                                                                                                                                                                                                                                                                                                                                                                                                                                                                                                                                                          |\n",
            "|  3 | Positive    | The food is execellent ,affortable price for people and friendly crew , good service. And the abiance of the restaurant is good also and clean nice abiance. I will comeback again to eat here and i bring my friends to experience The food is execellent food its so delicioustasty ..                                                                                                                                                                                                                                                                                                                                                                                                                                                                                                                                                                                             |\n",
            "|  4 | Positive    | Mr Suarez,The food at your restaurant was absolutely amazing. However, the service was even better! Jerson and Vanessa we’re so welcoming, helpful and friendly - they are a great asset to you.We will be back!                                                                                                                                                                                                                                                                                                                                                                                                                                                                                                                                                                                                                                                                     |\n",
            "Generating Clean Working Dataframe from path:  /content/drive/MyDrive/Madrid_reviews.csv\n",
            "2500\n",
            "\n",
            "Checked for NA's Count is:\n",
            " sentiment      0\n",
            "review_full    0\n",
            "dtype: int64\n",
            "\n",
            " |    | sentiment   | review_full                                                                                                                                                                                                                                                                                                                                                                                                                                                     |\n",
            "|---:|:------------|:----------------------------------------------------------------------------------------------------------------------------------------------------------------------------------------------------------------------------------------------------------------------------------------------------------------------------------------------------------------------------------------------------------------------------------------------------------------|\n",
            "|  0 | Positive    | The menu of Yakuza is a bit of a lottery, some plates are really good (like most of the sushi rolls) and instead some others are terrible ( the pizza sushi and most of the fried starters). Taking this in consideration, it´s a great option if you feel like sushi and can avoid ordering from the rest of the menu. We even ordered for delivery more than once and the packaging they use is great.                                                        |\n",
            "|  1 | Negative    | Check your bill when you cancel just in case you get an extra charge surprise on it   There are no more words to describe my experience when I was there. Sad and poor experience!! Never return! Never again                                                                                                                                                                                                                                                   |\n",
            "|  2 | Positive    | I had the yuca profiteroles and the veggie burger, by recommendation of the server. It was absolutely delicious and the service was outstanding. I will definitely be back again with friends !                                                                                                                                                                                                                                                                 |\n",
            "|  3 | Positive    | A friend recommended this place as one of the best sushi he’d ever tried so we booked a table and we agree! Everything we tried was delicious. From the sautéed edamame with truffle oil to the flambeéd salmon niguiri. The tuna tartare was one of the best we’ve ever had, so much so that we still talk about it 6 months after visiting. The place itself is very small but they have made good use of the space and made it very comfortable and stylish. |\n",
            "|  4 | Positive    | Amazing terrace in madrid - great atmosphere and great wine 🍷 Thanks to our bartender Ariel for such a good experience.                                                                                                                                                                                                                                                                                                                                        |\n",
            "Generating Clean Working Dataframe from path:  /content/drive/MyDrive/New_York_reviews.csv\n"
          ]
        },
        {
          "output_type": "stream",
          "name": "stderr",
          "text": [
            "<ipython-input-5-88704c1a1fe9>:4: DtypeWarning: Columns (0,1,3) have mixed types. Specify dtype option on import or set low_memory=False.\n",
            "  df = pd.read_csv(path, on_bad_lines='skip')\n"
          ]
        },
        {
          "output_type": "stream",
          "name": "stdout",
          "text": [
            "2500\n",
            "\n",
            "Checked for NA's Count is:\n",
            " sentiment      0\n",
            "review_full    0\n",
            "dtype: int64\n",
            "\n",
            " |    | sentiment   | review_full                                                                                                                                                                                                                                                                                                                                                                                                                                                                                                                                            |\n",
            "|---:|:------------|:-------------------------------------------------------------------------------------------------------------------------------------------------------------------------------------------------------------------------------------------------------------------------------------------------------------------------------------------------------------------------------------------------------------------------------------------------------------------------------------------------------------------------------------------------------|\n",
            "|  0 | Positive    | My wife and I have been eating dinner frequently at Lido virtually since the day it opened some years ago. Every meal meets a high standard of deliciousness, and the menu changes seasonally so customers like us don't get bored. The staff is both most congenial and highly skilled. During the pandemic, Lido has become an outdoor restaurant with very comfortable and well-distanced seating in specially constructed and well-ventilated terraces. Recently well-spaced inside tables have become available. This is our home away from home. |\n",
            "|  1 | Positive    | Came with family for Labor Day weekend brunch as my daughter lives nearby and it’s always been picked on previous visits. Had nice shaded and socially distanced outdoor seats on the avenue which is closed to thru traffic for the time being. Eggs Florentine panini, tomato and fontina omelet and chicken Caesar salad were all good. Service was attentive, friendly, and unobtrusive. Worth it!                                                                                                                                                 |\n",
            "|  2 | Negative    | Food was mediocre at best. The lamb chops are an image they feature on the websites opening page. It wasn't even listed on the menu. When I asked I was told they did not have it at this time. There was a hair in my water that I did not see until it was in my mouth. Disgusting. Overall, nice people. Bad food.                                                                                                                                                                                                                                  |\n",
            "|  3 | Positive    | My co-workers were volunteering at a foodbank around the corner and we came here for lunch. What a find. Awesome Italian food with unique twists, not your standard fare. The atmosphere is very appealing, the prices very reasonable (especially for Manhattan) and the wait staff was awesome. I will be coming back.                                                                                                                                                                                                                               |\n",
            "|  4 | Positive    | Lido is an intimate boutique style restaurant.  The servings are a unique combination of tastes, creative and delicious.  The service was quick and everyone very friendly.  Definitely going to return.                                                                                                                                                                                                                                                                                                                                               |\n"
          ]
        }
      ],
      "source": [
        "barce_df = CleanUprDataFromPath(barcelonaPath, \"Barcelona\")\n",
        "madrid_df = CleanUprDataFromPath(madridPath, \"Mardrid\")\n",
        "ny_df = CleanUprDataFromPath(nyPath, \"New York City\")"
      ]
    },
    {
      "cell_type": "code",
      "source": [
        "#Combine the Df's\n",
        "addRev = pd.concat([barce_df, madrid_df, ny_df])\n",
        "print(addRev.head())"
      ],
      "metadata": {
        "colab": {
          "base_uri": "https://localhost:8080/"
        },
        "id": "aC39MODR3XCA",
        "outputId": "0dd06cd3-5644-4237-8d00-0a1b35b33004"
      },
      "execution_count": 7,
      "outputs": [
        {
          "output_type": "stream",
          "name": "stdout",
          "text": [
            "  sentiment                                        review_full\n",
            "0  Negative  Ok, this place is terrible! Came here bc we’ve...\n",
            "1  Positive  This place was a great surprise. The food is d...\n",
            "2  Positive  The food is excellent.....the ambiance is very...\n",
            "3  Positive  The food is execellent ,affortable price for p...\n",
            "4  Positive  Mr Suarez,The food at your restaurant was abso...\n"
          ]
        }
      ]
    },
    {
      "cell_type": "code",
      "source": [],
      "metadata": {
        "id": "kFGUM92yj-su"
      },
      "execution_count": 7,
      "outputs": []
    },
    {
      "cell_type": "code",
      "source": [],
      "metadata": {
        "id": "FpBEvMzxj_EN"
      },
      "execution_count": 7,
      "outputs": []
    },
    {
      "cell_type": "code",
      "source": [
        "w_tokenizer = nltk.tokenize.WhitespaceTokenizer()\n",
        "lemmatizer = nltk.stem.WordNetLemmatizer()\n",
        "def lemmatize_text(text):\n",
        "    st = \"\"\n",
        "    for w in w_tokenizer.tokenize(text):\n",
        "        st = st + lemmatizer.lemmatize(w) + \" \"\n",
        "    return st\n",
        "  \n",
        "addRev['review_full'] = addRev.review_full.apply(lemmatize_text)"
      ],
      "metadata": {
        "id": "HY0EkybKHTl9"
      },
      "execution_count": 8,
      "outputs": []
    },
    {
      "cell_type": "code",
      "source": [
        "reviews = addRev['review_full'].values\n",
        "labels = addRev['sentiment']\n"
      ],
      "metadata": {
        "id": "Jl1jcULz3mxQ"
      },
      "execution_count": 9,
      "outputs": []
    },
    {
      "cell_type": "code",
      "source": [
        "encoder = LabelEncoder()\n",
        "encoded_labels = encoder.fit_transform(labels)\n",
        "train_sentences, test_sentences, train_labels, test_labels = train_test_split(reviews, encoded_labels, stratify = encoded_labels)"
      ],
      "metadata": {
        "id": "l4Wy7XoGGOzv"
      },
      "execution_count": 10,
      "outputs": []
    },
    {
      "cell_type": "code",
      "source": [
        "\n",
        "# creating bag of words model\n",
        "vec = CountVectorizer(max_features = 3000)\n",
        "X = vec.fit_transform(train_sentences)\n",
        "vocab = vec.get_feature_names_out()\n",
        "X = X.toarray()\n",
        "word_counts = {}\n",
        "for l in range(2):\n",
        "    word_counts[l] = defaultdict(lambda: 0)\n",
        "for i in range(X.shape[0]):\n",
        "    l = train_labels[i]\n",
        "    for j in range(len(vocab)):\n",
        "        word_counts[l][vocab[j]] += X[i][j]"
      ],
      "metadata": {
        "id": "SRCXkkvD4Vf5"
      },
      "execution_count": 11,
      "outputs": []
    },
    {
      "cell_type": "code",
      "source": [
        "def laplace_smoothing(n_label_items, vocab, word_counts, word, text_label):\n",
        "    a = word_counts[text_label][word] + 1\n",
        "    b = n_label_items[text_label] + len(vocab)\n",
        "    return math.log(a/b)"
      ],
      "metadata": {
        "id": "XUYsLB16Iwj_"
      },
      "execution_count": 12,
      "outputs": []
    },
    {
      "cell_type": "code",
      "source": [
        "def group_by_label(x, y, labels):\n",
        "    data = {}\n",
        "    for l in labels:\n",
        "        data[l] = x[np.where(y == l)]\n",
        "    return data"
      ],
      "metadata": {
        "id": "hLbRQTojI4Yl"
      },
      "execution_count": 13,
      "outputs": []
    },
    {
      "cell_type": "code",
      "source": [
        "def fit(x, y, labels):\n",
        "    n_label_items = {}\n",
        "    log_label_priors = {}\n",
        "    n = len(x)\n",
        "    grouped_data = group_by_label(x, y, labels)\n",
        "    for l, data in grouped_data.items():\n",
        "        n_label_items[l] = len(data)\n",
        "        log_label_priors[l] = math.log(n_label_items[l] / n)\n",
        "    return n_label_items, log_label_priors"
      ],
      "metadata": {
        "id": "Zw4e2UWwI9Cd"
      },
      "execution_count": 14,
      "outputs": []
    },
    {
      "cell_type": "code",
      "source": [
        "def predict(n_label_items, vocab, word_counts, log_label_priors, labels, x):\n",
        "    result = []\n",
        "    for text in x:\n",
        "        label_scores = {l: log_label_priors[l] for l in labels}\n",
        "        words = set(w_tokenizer.tokenize(text))\n",
        "        for word in words:\n",
        "            if word not in vocab: continue\n",
        "            for l in labels:\n",
        "                log_w_given_l = laplace_smoothing(n_label_items, vocab, word_counts, word, l)\n",
        "                label_scores[l] += log_w_given_l\n",
        "        result.append(max(label_scores, key=label_scores.get))\n",
        "    return result"
      ],
      "metadata": {
        "id": "xs0oLh63JKJW"
      },
      "execution_count": 15,
      "outputs": []
    },
    {
      "cell_type": "code",
      "source": [
        "labels = [0,1]\n",
        "n_label_items, log_label_priors = fit(train_sentences,train_labels,labels)\n",
        "pred = predict(n_label_items, vocab, word_counts, log_label_priors, labels, test_sentences)\n",
        "print(\"Accuracy of prediction on test set : \", accuracy_score(test_labels,pred))"
      ],
      "metadata": {
        "colab": {
          "base_uri": "https://localhost:8080/"
        },
        "id": "UYWxVJnuJLO9",
        "outputId": "60d66afd-4eaf-452f-faf1-610ca1587238"
      },
      "execution_count": 16,
      "outputs": [
        {
          "output_type": "stream",
          "name": "stdout",
          "text": [
            "Accuracy of prediction on test set :  0.9408\n"
          ]
        }
      ]
    },
    {
      "cell_type": "markdown",
      "source": [
        "# NaiveBayes"
      ],
      "metadata": {
        "id": "DafGF_FTf3jW"
      }
    },
    {
      "cell_type": "code",
      "source": [
        "from sklearn.feature_extraction.text import CountVectorizer\n",
        "from sklearn.naive_bayes import MultinomialNB\n",
        "from sklearn.metrics import classification_report\n",
        "from sklearn.metrics import (\n",
        "    accuracy_score,\n",
        "    confusion_matrix,\n",
        "    ConfusionMatrixDisplay,\n",
        "    f1_score,\n",
        ")"
      ],
      "metadata": {
        "id": "NrTE9-fMKnmd"
      },
      "execution_count": 17,
      "outputs": []
    },
    {
      "cell_type": "code",
      "source": [
        "addRev.head()"
      ],
      "metadata": {
        "colab": {
          "base_uri": "https://localhost:8080/",
          "height": 206
        },
        "id": "Seq0f652lQF3",
        "outputId": "ba3e40ed-b473-4183-a7b0-101b991b412b"
      },
      "execution_count": 18,
      "outputs": [
        {
          "output_type": "execute_result",
          "data": {
            "text/plain": [
              "  sentiment                                        review_full\n",
              "0  Negative  Ok, this place is terrible! Came here bc we’ve...\n",
              "1  Positive  This place wa a great surprise. The food is de...\n",
              "2  Positive  The food is excellent.....the ambiance is very...\n",
              "3  Positive  The food is execellent ,affortable price for p...\n",
              "4  Positive  Mr Suarez,The food at your restaurant wa absol..."
            ],
            "text/html": [
              "\n",
              "  <div id=\"df-7f25505c-023a-421d-8c69-685171c4912f\">\n",
              "    <div class=\"colab-df-container\">\n",
              "      <div>\n",
              "<style scoped>\n",
              "    .dataframe tbody tr th:only-of-type {\n",
              "        vertical-align: middle;\n",
              "    }\n",
              "\n",
              "    .dataframe tbody tr th {\n",
              "        vertical-align: top;\n",
              "    }\n",
              "\n",
              "    .dataframe thead th {\n",
              "        text-align: right;\n",
              "    }\n",
              "</style>\n",
              "<table border=\"1\" class=\"dataframe\">\n",
              "  <thead>\n",
              "    <tr style=\"text-align: right;\">\n",
              "      <th></th>\n",
              "      <th>sentiment</th>\n",
              "      <th>review_full</th>\n",
              "    </tr>\n",
              "  </thead>\n",
              "  <tbody>\n",
              "    <tr>\n",
              "      <th>0</th>\n",
              "      <td>Negative</td>\n",
              "      <td>Ok, this place is terrible! Came here bc we’ve...</td>\n",
              "    </tr>\n",
              "    <tr>\n",
              "      <th>1</th>\n",
              "      <td>Positive</td>\n",
              "      <td>This place wa a great surprise. The food is de...</td>\n",
              "    </tr>\n",
              "    <tr>\n",
              "      <th>2</th>\n",
              "      <td>Positive</td>\n",
              "      <td>The food is excellent.....the ambiance is very...</td>\n",
              "    </tr>\n",
              "    <tr>\n",
              "      <th>3</th>\n",
              "      <td>Positive</td>\n",
              "      <td>The food is execellent ,affortable price for p...</td>\n",
              "    </tr>\n",
              "    <tr>\n",
              "      <th>4</th>\n",
              "      <td>Positive</td>\n",
              "      <td>Mr Suarez,The food at your restaurant wa absol...</td>\n",
              "    </tr>\n",
              "  </tbody>\n",
              "</table>\n",
              "</div>\n",
              "      <button class=\"colab-df-convert\" onclick=\"convertToInteractive('df-7f25505c-023a-421d-8c69-685171c4912f')\"\n",
              "              title=\"Convert this dataframe to an interactive table.\"\n",
              "              style=\"display:none;\">\n",
              "        \n",
              "  <svg xmlns=\"http://www.w3.org/2000/svg\" height=\"24px\"viewBox=\"0 0 24 24\"\n",
              "       width=\"24px\">\n",
              "    <path d=\"M0 0h24v24H0V0z\" fill=\"none\"/>\n",
              "    <path d=\"M18.56 5.44l.94 2.06.94-2.06 2.06-.94-2.06-.94-.94-2.06-.94 2.06-2.06.94zm-11 1L8.5 8.5l.94-2.06 2.06-.94-2.06-.94L8.5 2.5l-.94 2.06-2.06.94zm10 10l.94 2.06.94-2.06 2.06-.94-2.06-.94-.94-2.06-.94 2.06-2.06.94z\"/><path d=\"M17.41 7.96l-1.37-1.37c-.4-.4-.92-.59-1.43-.59-.52 0-1.04.2-1.43.59L10.3 9.45l-7.72 7.72c-.78.78-.78 2.05 0 2.83L4 21.41c.39.39.9.59 1.41.59.51 0 1.02-.2 1.41-.59l7.78-7.78 2.81-2.81c.8-.78.8-2.07 0-2.86zM5.41 20L4 18.59l7.72-7.72 1.47 1.35L5.41 20z\"/>\n",
              "  </svg>\n",
              "      </button>\n",
              "      \n",
              "  <style>\n",
              "    .colab-df-container {\n",
              "      display:flex;\n",
              "      flex-wrap:wrap;\n",
              "      gap: 12px;\n",
              "    }\n",
              "\n",
              "    .colab-df-convert {\n",
              "      background-color: #E8F0FE;\n",
              "      border: none;\n",
              "      border-radius: 50%;\n",
              "      cursor: pointer;\n",
              "      display: none;\n",
              "      fill: #1967D2;\n",
              "      height: 32px;\n",
              "      padding: 0 0 0 0;\n",
              "      width: 32px;\n",
              "    }\n",
              "\n",
              "    .colab-df-convert:hover {\n",
              "      background-color: #E2EBFA;\n",
              "      box-shadow: 0px 1px 2px rgba(60, 64, 67, 0.3), 0px 1px 3px 1px rgba(60, 64, 67, 0.15);\n",
              "      fill: #174EA6;\n",
              "    }\n",
              "\n",
              "    [theme=dark] .colab-df-convert {\n",
              "      background-color: #3B4455;\n",
              "      fill: #D2E3FC;\n",
              "    }\n",
              "\n",
              "    [theme=dark] .colab-df-convert:hover {\n",
              "      background-color: #434B5C;\n",
              "      box-shadow: 0px 1px 3px 1px rgba(0, 0, 0, 0.15);\n",
              "      filter: drop-shadow(0px 1px 2px rgba(0, 0, 0, 0.3));\n",
              "      fill: #FFFFFF;\n",
              "    }\n",
              "  </style>\n",
              "\n",
              "      <script>\n",
              "        const buttonEl =\n",
              "          document.querySelector('#df-7f25505c-023a-421d-8c69-685171c4912f button.colab-df-convert');\n",
              "        buttonEl.style.display =\n",
              "          google.colab.kernel.accessAllowed ? 'block' : 'none';\n",
              "\n",
              "        async function convertToInteractive(key) {\n",
              "          const element = document.querySelector('#df-7f25505c-023a-421d-8c69-685171c4912f');\n",
              "          const dataTable =\n",
              "            await google.colab.kernel.invokeFunction('convertToInteractive',\n",
              "                                                     [key], {});\n",
              "          if (!dataTable) return;\n",
              "\n",
              "          const docLinkHtml = 'Like what you see? Visit the ' +\n",
              "            '<a target=\"_blank\" href=https://colab.research.google.com/notebooks/data_table.ipynb>data table notebook</a>'\n",
              "            + ' to learn more about interactive tables.';\n",
              "          element.innerHTML = '';\n",
              "          dataTable['output_type'] = 'display_data';\n",
              "          await google.colab.output.renderOutput(dataTable, element);\n",
              "          const docLink = document.createElement('div');\n",
              "          docLink.innerHTML = docLinkHtml;\n",
              "          element.appendChild(docLink);\n",
              "        }\n",
              "      </script>\n",
              "    </div>\n",
              "  </div>\n",
              "  "
            ]
          },
          "metadata": {},
          "execution_count": 18
        }
      ]
    },
    {
      "cell_type": "code",
      "source": [
        "addRev['sentiment'] = addRev['sentiment'].astype(\"category\")\n",
        "addRev['review_full'] = addRev['review_full'].astype(str)\n",
        "\n",
        "addRev.dtypes"
      ],
      "metadata": {
        "colab": {
          "base_uri": "https://localhost:8080/"
        },
        "id": "NJcnqNZPPLjF",
        "outputId": "3701e787-903e-4b80-9561-32d6e9b1019d"
      },
      "execution_count": 19,
      "outputs": [
        {
          "output_type": "execute_result",
          "data": {
            "text/plain": [
              "sentiment      category\n",
              "review_full      object\n",
              "dtype: object"
            ]
          },
          "metadata": {},
          "execution_count": 19
        }
      ]
    },
    {
      "cell_type": "code",
      "source": [
        "train, test = train_test_split(addRev, test_size=0.2)\n",
        "\n",
        "count_vec = CountVectorizer()\n",
        "bowArr = count_vec.fit_transform(addRev['review_full'].tolist())\n",
        "bow = np.array(bowArr.todense())\n",
        "\n",
        "x = bow\n",
        "labelss = addRev['sentiment']\n",
        "\n",
        "\n"
      ],
      "metadata": {
        "id": "a1AExLVFKonH"
      },
      "execution_count": 20,
      "outputs": []
    },
    {
      "cell_type": "code",
      "source": [
        "labelss.cat.categories"
      ],
      "metadata": {
        "colab": {
          "base_uri": "https://localhost:8080/"
        },
        "id": "KDMYNiAdYmx9",
        "outputId": "1e797ceb-6546-4e23-cce6-cfd1d106e58a"
      },
      "execution_count": 21,
      "outputs": [
        {
          "output_type": "execute_result",
          "data": {
            "text/plain": [
              "Index(['Negative', 'Positive'], dtype='object')"
            ]
          },
          "metadata": {},
          "execution_count": 21
        }
      ]
    },
    {
      "cell_type": "code",
      "source": [
        "X_train, X_test, y_train, y_test = train_test_split(x, labelss, \n",
        "                                                    test_size=0.2)"
      ],
      "metadata": {
        "id": "-5NRw4baTHSN"
      },
      "execution_count": 22,
      "outputs": []
    },
    {
      "cell_type": "code",
      "source": [
        "model = MultinomialNB().fit(X_train, y_train)\n",
        "y_pred = model.predict(X_test)\n",
        "print('Accuracy:', accuracy_score(y_test, y_pred))\n",
        "print(classification_report(y_test, y_pred))"
      ],
      "metadata": {
        "colab": {
          "base_uri": "https://localhost:8080/"
        },
        "id": "gxwQXSMbKtec",
        "outputId": "fc995a8b-ddec-4723-dc62-0644bfa5be13"
      },
      "execution_count": 23,
      "outputs": [
        {
          "output_type": "stream",
          "name": "stdout",
          "text": [
            "Accuracy: 0.952\n",
            "              precision    recall  f1-score   support\n",
            "\n",
            "    Negative       0.66      0.23      0.35        81\n",
            "    Positive       0.96      0.99      0.98      1419\n",
            "\n",
            "    accuracy                           0.95      1500\n",
            "   macro avg       0.81      0.61      0.66      1500\n",
            "weighted avg       0.94      0.95      0.94      1500\n",
            "\n"
          ]
        }
      ]
    },
    {
      "cell_type": "code",
      "source": [
        "labels = [\"Negative\", \"Positive\"]\n",
        "cm = confusion_matrix(y_test, y_pred)\n",
        "disp = ConfusionMatrixDisplay(confusion_matrix=cm, display_labels=labels)\n",
        "disp.plot();"
      ],
      "metadata": {
        "colab": {
          "base_uri": "https://localhost:8080/",
          "height": 457
        },
        "id": "uSUJgZr4UXyU",
        "outputId": "baea38bf-0e56-42be-9177-be390ca0a0f3"
      },
      "execution_count": 24,
      "outputs": [
        {
          "output_type": "display_data",
          "data": {
            "text/plain": [
              "<Figure size 640x480 with 2 Axes>"
            ],
            "image/png": "[encoded data removed]"
          },
          "metadata": {}
        }
      ]
    },
    {
      "cell_type": "code",
      "source": [
        "def print_top20(vectorizer, clf, class_labels):\n",
        "    \"\"\"Prints features with the highest coefficient values, per class\"\"\"\n",
        "    feature_names = vectorizer.get_feature_names_out()\n",
        "    for i, class_label in enumerate(class_labels):\n",
        "        top20 = np.argsort(clf.feature_log_prob_[0])[20:]\n",
        "        print(\"%s: %s\" % (class_label,\n",
        "              \" \".join(feature_names[j] for j in top20)))"
      ],
      "metadata": {
        "id": "1EWu6NoJaGge"
      },
      "execution_count": 25,
      "outputs": []
    },
    {
      "cell_type": "code",
      "source": [
        "len(model.feature_log_prob_[0])\n",
        "cols = count_vec.get_feature_names_out()\n",
        "feaDf = pd.DataFrame(bowArr.toarray(), columns = cols)\n"
      ],
      "metadata": {
        "id": "MTjo2_wiUWPf"
      },
      "execution_count": 26,
      "outputs": []
    },
    {
      "cell_type": "code",
      "source": [
        "type(cols)"
      ],
      "metadata": {
        "colab": {
          "base_uri": "https://localhost:8080/"
        },
        "id": "pfoHm4tccbid",
        "outputId": "22ca42b7-17dd-4089-df19-6a65e4cce7dd"
      },
      "execution_count": 27,
      "outputs": [
        {
          "output_type": "execute_result",
          "data": {
            "text/plain": [
              "numpy.ndarray"
            ]
          },
          "metadata": {},
          "execution_count": 27
        }
      ]
    },
    {
      "cell_type": "code",
      "source": [
        "type(model.feature_log_prob_[0])"
      ],
      "metadata": {
        "colab": {
          "base_uri": "https://localhost:8080/"
        },
        "id": "UjM8ch40dcnS",
        "outputId": "f9250ff9-6319-4441-c019-e1a665853b44"
      },
      "execution_count": 28,
      "outputs": [
        {
          "output_type": "execute_result",
          "data": {
            "text/plain": [
              "numpy.ndarray"
            ]
          },
          "metadata": {},
          "execution_count": 28
        }
      ]
    },
    {
      "cell_type": "code",
      "source": [
        "feaDf = pd.DataFrame()\n",
        "\n"
      ],
      "metadata": {
        "id": "WDK-GE9hdqQ2"
      },
      "execution_count": 29,
      "outputs": []
    },
    {
      "cell_type": "code",
      "source": [
        "feaDf['word'] = cols\n",
        "feaDf['coefficient'] = model.feature_log_prob_[0]\n",
        "feaDf = feaDf.sort_values(by='coefficient', ascending=False)"
      ],
      "metadata": {
        "id": "FJvf85vrd0ls"
      },
      "execution_count": 30,
      "outputs": []
    },
    {
      "cell_type": "code",
      "source": [
        "feaDf.head(20\n",
        "           )"
      ],
      "metadata": {
        "colab": {
          "base_uri": "https://localhost:8080/",
          "height": 676
        },
        "id": "FO6yOWbPevq2",
        "outputId": "aff7f3e2-5f8a-4135-dc9f-9f080e5c7ad0"
      },
      "execution_count": 33,
      "outputs": [
        {
          "output_type": "execute_result",
          "data": {
            "text/plain": [
              "             word  coefficient\n",
              "12889         the    -3.125106\n",
              "809           and    -3.692108\n",
              "13923          wa    -3.943533\n",
              "13065          to    -4.061814\n",
              "14032          we    -4.236542\n",
              "8736           of    -4.415930\n",
              "6870           it    -4.432034\n",
              "6592           in    -4.588080\n",
              "5352          for    -4.667016\n",
              "8625          not    -4.717554\n",
              "2092          but    -4.819799\n",
              "14083        were    -4.844013\n",
              "6848           is    -4.886573\n",
              "12944        this    -4.974748\n",
              "12886        that    -5.003078\n",
              "5334         food    -5.056188\n",
              "14207        with    -5.086960\n",
              "10748  restaurant    -5.171701\n",
              "6077          had    -5.224069\n",
              "13793        very    -5.298452"
            ],
            "text/html": [
              "\n",
              "  <div id=\"df-f567e94a-6c48-407c-9e52-e44a20d056c1\">\n",
              "    <div class=\"colab-df-container\">\n",
              "      <div>\n",
              "<style scoped>\n",
              "    .dataframe tbody tr th:only-of-type {\n",
              "        vertical-align: middle;\n",
              "    }\n",
              "\n",
              "    .dataframe tbody tr th {\n",
              "        vertical-align: top;\n",
              "    }\n",
              "\n",
              "    .dataframe thead th {\n",
              "        text-align: right;\n",
              "    }\n",
              "</style>\n",
              "<table border=\"1\" class=\"dataframe\">\n",
              "  <thead>\n",
              "    <tr style=\"text-align: right;\">\n",
              "      <th></th>\n",
              "      <th>word</th>\n",
              "      <th>coefficient</th>\n",
              "    </tr>\n",
              "  </thead>\n",
              "  <tbody>\n",
              "    <tr>\n",
              "      <th>12889</th>\n",
              "      <td>the</td>\n",
              "      <td>-3.125106</td>\n",
              "    </tr>\n",
              "    <tr>\n",
              "      <th>809</th>\n",
              "      <td>and</td>\n",
              "      <td>-3.692108</td>\n",
              "    </tr>\n",
              "    <tr>\n",
              "      <th>13923</th>\n",
              "      <td>wa</td>\n",
              "      <td>-3.943533</td>\n",
              "    </tr>\n",
              "    <tr>\n",
              "      <th>13065</th>\n",
              "      <td>to</td>\n",
              "      <td>-4.061814</td>\n",
              "    </tr>\n",
              "    <tr>\n",
              "      <th>14032</th>\n",
              "      <td>we</td>\n",
              "      <td>-4.236542</td>\n",
              "    </tr>\n",
              "    <tr>\n",
              "      <th>8736</th>\n",
              "      <td>of</td>\n",
              "      <td>-4.415930</td>\n",
              "    </tr>\n",
              "    <tr>\n",
              "      <th>6870</th>\n",
              "      <td>it</td>\n",
              "      <td>-4.432034</td>\n",
              "    </tr>\n",
              "    <tr>\n",
              "      <th>6592</th>\n",
              "      <td>in</td>\n",
              "      <td>-4.588080</td>\n",
              "    </tr>\n",
              "    <tr>\n",
              "      <th>5352</th>\n",
              "      <td>for</td>\n",
              "      <td>-4.667016</td>\n",
              "    </tr>\n",
              "    <tr>\n",
              "      <th>8625</th>\n",
              "      <td>not</td>\n",
              "      <td>-4.717554</td>\n",
              "    </tr>\n",
              "    <tr>\n",
              "      <th>2092</th>\n",
              "      <td>but</td>\n",
              "      <td>-4.819799</td>\n",
              "    </tr>\n",
              "    <tr>\n",
              "      <th>14083</th>\n",
              "      <td>were</td>\n",
              "      <td>-4.844013</td>\n",
              "    </tr>\n",
              "    <tr>\n",
              "      <th>6848</th>\n",
              "      <td>is</td>\n",
              "      <td>-4.886573</td>\n",
              "    </tr>\n",
              "    <tr>\n",
              "      <th>12944</th>\n",
              "      <td>this</td>\n",
              "      <td>-4.974748</td>\n",
              "    </tr>\n",
              "    <tr>\n",
              "      <th>12886</th>\n",
              "      <td>that</td>\n",
              "      <td>-5.003078</td>\n",
              "    </tr>\n",
              "    <tr>\n",
              "      <th>5334</th>\n",
              "      <td>food</td>\n",
              "      <td>-5.056188</td>\n",
              "    </tr>\n",
              "    <tr>\n",
              "      <th>14207</th>\n",
              "      <td>with</td>\n",
              "      <td>-5.086960</td>\n",
              "    </tr>\n",
              "    <tr>\n",
              "      <th>10748</th>\n",
              "      <td>restaurant</td>\n",
              "      <td>-5.171701</td>\n",
              "    </tr>\n",
              "    <tr>\n",
              "      <th>6077</th>\n",
              "      <td>had</td>\n",
              "      <td>-5.224069</td>\n",
              "    </tr>\n",
              "    <tr>\n",
              "      <th>13793</th>\n",
              "      <td>very</td>\n",
              "      <td>-5.298452</td>\n",
              "    </tr>\n",
              "  </tbody>\n",
              "</table>\n",
              "</div>\n",
              "      <button class=\"colab-df-convert\" onclick=\"convertToInteractive('df-f567e94a-6c48-407c-9e52-e44a20d056c1')\"\n",
              "              title=\"Convert this dataframe to an interactive table.\"\n",
              "              style=\"display:none;\">\n",
              "        \n",
              "  <svg xmlns=\"http://www.w3.org/2000/svg\" height=\"24px\"viewBox=\"0 0 24 24\"\n",
              "       width=\"24px\">\n",
              "    <path d=\"M0 0h24v24H0V0z\" fill=\"none\"/>\n",
              "    <path d=\"M18.56 5.44l.94 2.06.94-2.06 2.06-.94-2.06-.94-.94-2.06-.94 2.06-2.06.94zm-11 1L8.5 8.5l.94-2.06 2.06-.94-2.06-.94L8.5 2.5l-.94 2.06-2.06.94zm10 10l.94 2.06.94-2.06 2.06-.94-2.06-.94-.94-2.06-.94 2.06-2.06.94z\"/><path d=\"M17.41 7.96l-1.37-1.37c-.4-.4-.92-.59-1.43-.59-.52 0-1.04.2-1.43.59L10.3 9.45l-7.72 7.72c-.78.78-.78 2.05 0 2.83L4 21.41c.39.39.9.59 1.41.59.51 0 1.02-.2 1.41-.59l7.78-7.78 2.81-2.81c.8-.78.8-2.07 0-2.86zM5.41 20L4 18.59l7.72-7.72 1.47 1.35L5.41 20z\"/>\n",
              "  </svg>\n",
              "      </button>\n",
              "      \n",
              "  <style>\n",
              "    .colab-df-container {\n",
              "      display:flex;\n",
              "      flex-wrap:wrap;\n",
              "      gap: 12px;\n",
              "    }\n",
              "\n",
              "    .colab-df-convert {\n",
              "      background-color: #E8F0FE;\n",
              "      border: none;\n",
              "      border-radius: 50%;\n",
              "      cursor: pointer;\n",
              "      display: none;\n",
              "      fill: #1967D2;\n",
              "      height: 32px;\n",
              "      padding: 0 0 0 0;\n",
              "      width: 32px;\n",
              "    }\n",
              "\n",
              "    .colab-df-convert:hover {\n",
              "      background-color: #E2EBFA;\n",
              "      box-shadow: 0px 1px 2px rgba(60, 64, 67, 0.3), 0px 1px 3px 1px rgba(60, 64, 67, 0.15);\n",
              "      fill: #174EA6;\n",
              "    }\n",
              "\n",
              "    [theme=dark] .colab-df-convert {\n",
              "      background-color: #3B4455;\n",
              "      fill: #D2E3FC;\n",
              "    }\n",
              "\n",
              "    [theme=dark] .colab-df-convert:hover {\n",
              "      background-color: #434B5C;\n",
              "      box-shadow: 0px 1px 3px 1px rgba(0, 0, 0, 0.15);\n",
              "      filter: drop-shadow(0px 1px 2px rgba(0, 0, 0, 0.3));\n",
              "      fill: #FFFFFF;\n",
              "    }\n",
              "  </style>\n",
              "\n",
              "      <script>\n",
              "        const buttonEl =\n",
              "          document.querySelector('#df-f567e94a-6c48-407c-9e52-e44a20d056c1 button.colab-df-convert');\n",
              "        buttonEl.style.display =\n",
              "          google.colab.kernel.accessAllowed ? 'block' : 'none';\n",
              "\n",
              "        async function convertToInteractive(key) {\n",
              "          const element = document.querySelector('#df-f567e94a-6c48-407c-9e52-e44a20d056c1');\n",
              "          const dataTable =\n",
              "            await google.colab.kernel.invokeFunction('convertToInteractive',\n",
              "                                                     [key], {});\n",
              "          if (!dataTable) return;\n",
              "\n",
              "          const docLinkHtml = 'Like what you see? Visit the ' +\n",
              "            '<a target=\"_blank\" href=https://colab.research.google.com/notebooks/data_table.ipynb>data table notebook</a>'\n",
              "            + ' to learn more about interactive tables.';\n",
              "          element.innerHTML = '';\n",
              "          dataTable['output_type'] = 'display_data';\n",
              "          await google.colab.output.renderOutput(dataTable, element);\n",
              "          const docLink = document.createElement('div');\n",
              "          docLink.innerHTML = docLinkHtml;\n",
              "          element.appendChild(docLink);\n",
              "        }\n",
              "      </script>\n",
              "    </div>\n",
              "  </div>\n",
              "  "
            ]
          },
          "metadata": {},
          "execution_count": 33
        }
      ]
    }
  ],
  "metadata": {
    "colab": {
      "provenance": []
    },
    "kernelspec": {
      "display_name": "Python 3",
      "name": "python3"
    },
    "language_info": {
      "name": "python"
    }
  },
  "nbformat": 4,
  "nbformat_minor": 0
}